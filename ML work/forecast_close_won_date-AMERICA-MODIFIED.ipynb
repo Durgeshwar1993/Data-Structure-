{
 "cells": [
  {
   "cell_type": "code",
   "execution_count": 648,
   "metadata": {},
   "outputs": [],
   "source": [
    "import pandas as pd\n",
    "import matplotlib.pyplot as plt\n",
    "import numpy as np\n",
    "import copy"
   ]
  },
  {
   "cell_type": "markdown",
   "metadata": {},
   "source": [
    "## create data frame and manipulation"
   ]
  },
  {
   "cell_type": "code",
   "execution_count": 649,
   "metadata": {},
   "outputs": [],
   "source": [
    "data = pd.read_excel('Pipeline created from 2011 to 2018.xlsx')"
   ]
  },
  {
   "cell_type": "code",
   "execution_count": 650,
   "metadata": {},
   "outputs": [],
   "source": [
    "data1 = pd.read_excel('Pipeline created from 2019 Jan to 2019 April.xlsx')"
   ]
  },
  {
   "cell_type": "code",
   "execution_count": 651,
   "metadata": {},
   "outputs": [
    {
     "data": {
      "text/plain": [
       "(615980, 16)"
      ]
     },
     "execution_count": 651,
     "metadata": {},
     "output_type": "execute_result"
    }
   ],
   "source": [
    "data.shape"
   ]
  },
  {
   "cell_type": "code",
   "execution_count": 652,
   "metadata": {},
   "outputs": [
    {
     "name": "stderr",
     "output_type": "stream",
     "text": [
      "C:\\Users\\Durgeshwar.Singh\\AppData\\Local\\Continuum\\anaconda3\\lib\\site-packages\\ipykernel_launcher.py:1: FutureWarning: Sorting because non-concatenation axis is not aligned. A future version\n",
      "of pandas will change to not sort by default.\n",
      "\n",
      "To accept the future behavior, pass 'sort=True'.\n",
      "\n",
      "To retain the current behavior and silence the warning, pass sort=False\n",
      "\n",
      "  \"\"\"Entry point for launching an IPython kernel.\n"
     ]
    }
   ],
   "source": [
    "data = pd.concat([data , data1] ,axis=0)"
   ]
  },
  {
   "cell_type": "code",
   "execution_count": 653,
   "metadata": {},
   "outputs": [
    {
     "data": {
      "text/plain": [
       "(650522, 16)"
      ]
     },
     "execution_count": 653,
     "metadata": {},
     "output_type": "execute_result"
    }
   ],
   "source": [
    "data.shape"
   ]
  },
  {
   "cell_type": "code",
   "execution_count": 654,
   "metadata": {},
   "outputs": [
    {
     "data": {
      "text/plain": [
       "(34542, 15)"
      ]
     },
     "execution_count": 654,
     "metadata": {},
     "output_type": "execute_result"
    }
   ],
   "source": [
    "data1.shape"
   ]
  },
  {
   "cell_type": "code",
   "execution_count": 655,
   "metadata": {},
   "outputs": [],
   "source": [
    "data = data[data['Opportunity Geography'].isin(['Americas','SA-Americas'])]\n",
    "x = copy.deepcopy(data)"
   ]
  },
  {
   "cell_type": "code",
   "execution_count": 656,
   "metadata": {},
   "outputs": [],
   "source": [
    "x = copy.deepcopy(data)"
   ]
  },
  {
   "cell_type": "code",
   "execution_count": 657,
   "metadata": {},
   "outputs": [
    {
     "data": {
      "text/plain": [
       "\"x['Closed Won Date'].fillna(x['Close Date'], inplace=True)\\nx['closed_won_data_month'] = pd.DatetimeIndex(x['Closed Won Date'])\\nx = x[x['closed_won_data_month'].dt.year.isin(['2017' , '2018' ,'2019'])]\\nx.to_csv('sales_data_18_19.csv')\\n\""
      ]
     },
     "execution_count": 657,
     "metadata": {},
     "output_type": "execute_result"
    }
   ],
   "source": [
    "'''x['Closed Won Date'].fillna(x['Close Date'], inplace=True)\n",
    "x['closed_won_data_month'] = pd.DatetimeIndex(x['Closed Won Date'])\n",
    "x = x[x['closed_won_data_month'].dt.year.isin(['2017' , '2018' ,'2019'])]\n",
    "x.to_csv('sales_data_18_19.csv')\n",
    "'''"
   ]
  },
  {
   "cell_type": "markdown",
   "metadata": {},
   "source": [
    "#### filtered with 'closed' forecaste category"
   ]
  },
  {
   "cell_type": "code",
   "execution_count": 658,
   "metadata": {},
   "outputs": [
    {
     "data": {
      "text/plain": [
       "Omitted      97376\n",
       "Closed       64701\n",
       "Pipeline      8042\n",
       "Best Case     2260\n",
       "Commit        1051\n",
       "Name: Forecast Category, dtype: int64"
      ]
     },
     "execution_count": 658,
     "metadata": {},
     "output_type": "execute_result"
    }
   ],
   "source": [
    "data['Forecast Category'].value_counts()"
   ]
  },
  {
   "cell_type": "code",
   "execution_count": 659,
   "metadata": {},
   "outputs": [],
   "source": [
    "x = x[x['Forecast Category'] == 'Closed']"
   ]
  },
  {
   "cell_type": "code",
   "execution_count": 660,
   "metadata": {},
   "outputs": [
    {
     "data": {
      "text/html": [
       "<div>\n",
       "<style scoped>\n",
       "    .dataframe tbody tr th:only-of-type {\n",
       "        vertical-align: middle;\n",
       "    }\n",
       "\n",
       "    .dataframe tbody tr th {\n",
       "        vertical-align: top;\n",
       "    }\n",
       "\n",
       "    .dataframe thead th {\n",
       "        text-align: right;\n",
       "    }\n",
       "</style>\n",
       "<table border=\"1\" class=\"dataframe\">\n",
       "  <thead>\n",
       "    <tr style=\"text-align: right;\">\n",
       "      <th></th>\n",
       "      <th>Close Date</th>\n",
       "      <th>Close Date at Time of Lost</th>\n",
       "      <th>Closed Won Date</th>\n",
       "      <th>Created Date</th>\n",
       "      <th>First Year Bookings AMT (USD)</th>\n",
       "      <th>Fiscal Period</th>\n",
       "      <th>Forecast Category</th>\n",
       "      <th>Opportunity 18 Digit ID</th>\n",
       "      <th>Opportunity Area</th>\n",
       "      <th>Opportunity Geography</th>\n",
       "      <th>Product Family</th>\n",
       "      <th>Stage</th>\n",
       "      <th>TRUE Created Date</th>\n",
       "      <th>Total Price (converted)</th>\n",
       "      <th>Total Price (converted) Currency</th>\n",
       "      <th>Type</th>\n",
       "    </tr>\n",
       "  </thead>\n",
       "  <tbody>\n",
       "    <tr>\n",
       "      <th>0</th>\n",
       "      <td>2017-04-27 00:00:00</td>\n",
       "      <td>NaN</td>\n",
       "      <td>2017-04-27</td>\n",
       "      <td>2017-03-20</td>\n",
       "      <td>33250.00</td>\n",
       "      <td>Q2-2017</td>\n",
       "      <td>Closed</td>\n",
       "      <td>0061300001MAqFCAA1</td>\n",
       "      <td>NA Northeast</td>\n",
       "      <td>Americas</td>\n",
       "      <td>Professional Services</td>\n",
       "      <td>Closed Pending</td>\n",
       "      <td>2017-03-20 13:44:00</td>\n",
       "      <td>33250.00</td>\n",
       "      <td>USD</td>\n",
       "      <td>Volume</td>\n",
       "    </tr>\n",
       "    <tr>\n",
       "      <th>3</th>\n",
       "      <td>2018-09-07 00:00:00</td>\n",
       "      <td>NaN</td>\n",
       "      <td>2018-09-07</td>\n",
       "      <td>2018-08-31</td>\n",
       "      <td>1484.00</td>\n",
       "      <td>Q3-2018</td>\n",
       "      <td>Closed</td>\n",
       "      <td>0061B00001XtFImQAN</td>\n",
       "      <td>NA West Enterprise</td>\n",
       "      <td>Americas</td>\n",
       "      <td>EMSS</td>\n",
       "      <td>Closed Pending</td>\n",
       "      <td>2018-08-31 14:53:00</td>\n",
       "      <td>1484.00</td>\n",
       "      <td>USD</td>\n",
       "      <td>Volume</td>\n",
       "    </tr>\n",
       "    <tr>\n",
       "      <th>4</th>\n",
       "      <td>2017-09-19 00:00:00</td>\n",
       "      <td>NaN</td>\n",
       "      <td>2017-09-19</td>\n",
       "      <td>2017-09-19</td>\n",
       "      <td>0.93</td>\n",
       "      <td>Q3-2017</td>\n",
       "      <td>Closed</td>\n",
       "      <td>0061B00001Ou4mIQAR</td>\n",
       "      <td>NA Northeast</td>\n",
       "      <td>Americas</td>\n",
       "      <td>Managed Planet</td>\n",
       "      <td>Closed Pending</td>\n",
       "      <td>2017-09-19 13:59:00</td>\n",
       "      <td>0.93</td>\n",
       "      <td>USD</td>\n",
       "      <td>Volume</td>\n",
       "    </tr>\n",
       "    <tr>\n",
       "      <th>5</th>\n",
       "      <td>2018-12-21 00:00:00</td>\n",
       "      <td>NaN</td>\n",
       "      <td>2018-12-21</td>\n",
       "      <td>2018-12-05</td>\n",
       "      <td>18800.00</td>\n",
       "      <td>Q4-2018</td>\n",
       "      <td>Closed</td>\n",
       "      <td>0061B00001a81pBQAQ</td>\n",
       "      <td>NA West</td>\n",
       "      <td>Americas</td>\n",
       "      <td>DesktopNow</td>\n",
       "      <td>Closed Won</td>\n",
       "      <td>2018-12-05 12:55:00</td>\n",
       "      <td>18800.00</td>\n",
       "      <td>USD</td>\n",
       "      <td>Volume</td>\n",
       "    </tr>\n",
       "    <tr>\n",
       "      <th>6</th>\n",
       "      <td>2017-05-02 00:00:00</td>\n",
       "      <td>NaN</td>\n",
       "      <td>2017-05-02</td>\n",
       "      <td>2017-05-02</td>\n",
       "      <td>105.60</td>\n",
       "      <td>Q2-2017</td>\n",
       "      <td>Closed</td>\n",
       "      <td>0061300001N2o4qAAB</td>\n",
       "      <td>NA Northeast</td>\n",
       "      <td>Americas</td>\n",
       "      <td>Management Suite</td>\n",
       "      <td>Closed Pending</td>\n",
       "      <td>2017-05-02 15:21:00</td>\n",
       "      <td>105.60</td>\n",
       "      <td>USD</td>\n",
       "      <td>Volume</td>\n",
       "    </tr>\n",
       "  </tbody>\n",
       "</table>\n",
       "</div>"
      ],
      "text/plain": [
       "            Close Date Close Date at Time of Lost Closed Won Date  \\\n",
       "0  2017-04-27 00:00:00                        NaN      2017-04-27   \n",
       "3  2018-09-07 00:00:00                        NaN      2018-09-07   \n",
       "4  2017-09-19 00:00:00                        NaN      2017-09-19   \n",
       "5  2018-12-21 00:00:00                        NaN      2018-12-21   \n",
       "6  2017-05-02 00:00:00                        NaN      2017-05-02   \n",
       "\n",
       "  Created Date  First Year Bookings AMT (USD) Fiscal Period Forecast Category  \\\n",
       "0   2017-03-20                       33250.00       Q2-2017            Closed   \n",
       "3   2018-08-31                        1484.00       Q3-2018            Closed   \n",
       "4   2017-09-19                           0.93       Q3-2017            Closed   \n",
       "5   2018-12-05                       18800.00       Q4-2018            Closed   \n",
       "6   2017-05-02                         105.60       Q2-2017            Closed   \n",
       "\n",
       "  Opportunity 18 Digit ID    Opportunity Area Opportunity Geography  \\\n",
       "0      0061300001MAqFCAA1        NA Northeast              Americas   \n",
       "3      0061B00001XtFImQAN  NA West Enterprise              Americas   \n",
       "4      0061B00001Ou4mIQAR        NA Northeast              Americas   \n",
       "5      0061B00001a81pBQAQ             NA West              Americas   \n",
       "6      0061300001N2o4qAAB        NA Northeast              Americas   \n",
       "\n",
       "          Product Family           Stage   TRUE Created Date  \\\n",
       "0  Professional Services  Closed Pending 2017-03-20 13:44:00   \n",
       "3                   EMSS  Closed Pending 2018-08-31 14:53:00   \n",
       "4         Managed Planet  Closed Pending 2017-09-19 13:59:00   \n",
       "5             DesktopNow      Closed Won 2018-12-05 12:55:00   \n",
       "6       Management Suite  Closed Pending 2017-05-02 15:21:00   \n",
       "\n",
       "   Total Price (converted) Total Price (converted) Currency    Type  \n",
       "0                 33250.00                              USD  Volume  \n",
       "3                  1484.00                              USD  Volume  \n",
       "4                     0.93                              USD  Volume  \n",
       "5                 18800.00                              USD  Volume  \n",
       "6                   105.60                              USD  Volume  "
      ]
     },
     "execution_count": 660,
     "metadata": {},
     "output_type": "execute_result"
    }
   ],
   "source": [
    "x.head()"
   ]
  },
  {
   "cell_type": "code",
   "execution_count": 661,
   "metadata": {},
   "outputs": [
    {
     "name": "stdout",
     "output_type": "stream",
     "text": [
      "(64701, 16)\n",
      "Americas       64494\n",
      "SA-Americas      207\n",
      "Name: Opportunity Geography, dtype: int64\n",
      "Closed    64701\n",
      "Name: Forecast Category, dtype: int64\n",
      "Null values in closed date -- 0\n",
      "Null values -- 2846\n"
     ]
    }
   ],
   "source": [
    "print(x.shape)\n",
    "print(x['Opportunity Geography'].value_counts())\n",
    "print(x['Forecast Category'].value_counts())\n",
    "print('Null values in closed date --' , x['Close Date'].isnull().sum())\n",
    "print('Null values --' , x['Closed Won Date'].isnull().sum())"
   ]
  },
  {
   "cell_type": "code",
   "execution_count": 662,
   "metadata": {},
   "outputs": [],
   "source": [
    "a = x.sort_values('Close Date')"
   ]
  },
  {
   "cell_type": "code",
   "execution_count": 663,
   "metadata": {},
   "outputs": [
    {
     "name": "stdout",
     "output_type": "stream",
     "text": [
      "(64701, 16)\n"
     ]
    },
    {
     "data": {
      "text/html": [
       "<div>\n",
       "<style scoped>\n",
       "    .dataframe tbody tr th:only-of-type {\n",
       "        vertical-align: middle;\n",
       "    }\n",
       "\n",
       "    .dataframe tbody tr th {\n",
       "        vertical-align: top;\n",
       "    }\n",
       "\n",
       "    .dataframe thead th {\n",
       "        text-align: right;\n",
       "    }\n",
       "</style>\n",
       "<table border=\"1\" class=\"dataframe\">\n",
       "  <thead>\n",
       "    <tr style=\"text-align: right;\">\n",
       "      <th></th>\n",
       "      <th>Close Date</th>\n",
       "      <th>Close Date at Time of Lost</th>\n",
       "      <th>Closed Won Date</th>\n",
       "      <th>Created Date</th>\n",
       "      <th>First Year Bookings AMT (USD)</th>\n",
       "      <th>Fiscal Period</th>\n",
       "      <th>Forecast Category</th>\n",
       "      <th>Opportunity 18 Digit ID</th>\n",
       "      <th>Opportunity Area</th>\n",
       "      <th>Opportunity Geography</th>\n",
       "      <th>Product Family</th>\n",
       "      <th>Stage</th>\n",
       "      <th>TRUE Created Date</th>\n",
       "      <th>Total Price (converted)</th>\n",
       "      <th>Total Price (converted) Currency</th>\n",
       "      <th>Type</th>\n",
       "    </tr>\n",
       "  </thead>\n",
       "  <tbody>\n",
       "    <tr>\n",
       "      <th>0</th>\n",
       "      <td>2017-04-27 00:00:00</td>\n",
       "      <td>NaN</td>\n",
       "      <td>2017-04-27</td>\n",
       "      <td>2017-03-20</td>\n",
       "      <td>33250.00</td>\n",
       "      <td>Q2-2017</td>\n",
       "      <td>Closed</td>\n",
       "      <td>0061300001MAqFCAA1</td>\n",
       "      <td>NA Northeast</td>\n",
       "      <td>Americas</td>\n",
       "      <td>Professional Services</td>\n",
       "      <td>Closed Pending</td>\n",
       "      <td>2017-03-20 13:44:00</td>\n",
       "      <td>33250.00</td>\n",
       "      <td>USD</td>\n",
       "      <td>Volume</td>\n",
       "    </tr>\n",
       "    <tr>\n",
       "      <th>3</th>\n",
       "      <td>2018-09-07 00:00:00</td>\n",
       "      <td>NaN</td>\n",
       "      <td>2018-09-07</td>\n",
       "      <td>2018-08-31</td>\n",
       "      <td>1484.00</td>\n",
       "      <td>Q3-2018</td>\n",
       "      <td>Closed</td>\n",
       "      <td>0061B00001XtFImQAN</td>\n",
       "      <td>NA West Enterprise</td>\n",
       "      <td>Americas</td>\n",
       "      <td>EMSS</td>\n",
       "      <td>Closed Pending</td>\n",
       "      <td>2018-08-31 14:53:00</td>\n",
       "      <td>1484.00</td>\n",
       "      <td>USD</td>\n",
       "      <td>Volume</td>\n",
       "    </tr>\n",
       "    <tr>\n",
       "      <th>4</th>\n",
       "      <td>2017-09-19 00:00:00</td>\n",
       "      <td>NaN</td>\n",
       "      <td>2017-09-19</td>\n",
       "      <td>2017-09-19</td>\n",
       "      <td>0.93</td>\n",
       "      <td>Q3-2017</td>\n",
       "      <td>Closed</td>\n",
       "      <td>0061B00001Ou4mIQAR</td>\n",
       "      <td>NA Northeast</td>\n",
       "      <td>Americas</td>\n",
       "      <td>Managed Planet</td>\n",
       "      <td>Closed Pending</td>\n",
       "      <td>2017-09-19 13:59:00</td>\n",
       "      <td>0.93</td>\n",
       "      <td>USD</td>\n",
       "      <td>Volume</td>\n",
       "    </tr>\n",
       "    <tr>\n",
       "      <th>5</th>\n",
       "      <td>2018-12-21 00:00:00</td>\n",
       "      <td>NaN</td>\n",
       "      <td>2018-12-21</td>\n",
       "      <td>2018-12-05</td>\n",
       "      <td>18800.00</td>\n",
       "      <td>Q4-2018</td>\n",
       "      <td>Closed</td>\n",
       "      <td>0061B00001a81pBQAQ</td>\n",
       "      <td>NA West</td>\n",
       "      <td>Americas</td>\n",
       "      <td>DesktopNow</td>\n",
       "      <td>Closed Won</td>\n",
       "      <td>2018-12-05 12:55:00</td>\n",
       "      <td>18800.00</td>\n",
       "      <td>USD</td>\n",
       "      <td>Volume</td>\n",
       "    </tr>\n",
       "    <tr>\n",
       "      <th>6</th>\n",
       "      <td>2017-05-02 00:00:00</td>\n",
       "      <td>NaN</td>\n",
       "      <td>2017-05-02</td>\n",
       "      <td>2017-05-02</td>\n",
       "      <td>105.60</td>\n",
       "      <td>Q2-2017</td>\n",
       "      <td>Closed</td>\n",
       "      <td>0061300001N2o4qAAB</td>\n",
       "      <td>NA Northeast</td>\n",
       "      <td>Americas</td>\n",
       "      <td>Management Suite</td>\n",
       "      <td>Closed Pending</td>\n",
       "      <td>2017-05-02 15:21:00</td>\n",
       "      <td>105.60</td>\n",
       "      <td>USD</td>\n",
       "      <td>Volume</td>\n",
       "    </tr>\n",
       "  </tbody>\n",
       "</table>\n",
       "</div>"
      ],
      "text/plain": [
       "            Close Date Close Date at Time of Lost Closed Won Date  \\\n",
       "0  2017-04-27 00:00:00                        NaN      2017-04-27   \n",
       "3  2018-09-07 00:00:00                        NaN      2018-09-07   \n",
       "4  2017-09-19 00:00:00                        NaN      2017-09-19   \n",
       "5  2018-12-21 00:00:00                        NaN      2018-12-21   \n",
       "6  2017-05-02 00:00:00                        NaN      2017-05-02   \n",
       "\n",
       "  Created Date  First Year Bookings AMT (USD) Fiscal Period Forecast Category  \\\n",
       "0   2017-03-20                       33250.00       Q2-2017            Closed   \n",
       "3   2018-08-31                        1484.00       Q3-2018            Closed   \n",
       "4   2017-09-19                           0.93       Q3-2017            Closed   \n",
       "5   2018-12-05                       18800.00       Q4-2018            Closed   \n",
       "6   2017-05-02                         105.60       Q2-2017            Closed   \n",
       "\n",
       "  Opportunity 18 Digit ID    Opportunity Area Opportunity Geography  \\\n",
       "0      0061300001MAqFCAA1        NA Northeast              Americas   \n",
       "3      0061B00001XtFImQAN  NA West Enterprise              Americas   \n",
       "4      0061B00001Ou4mIQAR        NA Northeast              Americas   \n",
       "5      0061B00001a81pBQAQ             NA West              Americas   \n",
       "6      0061300001N2o4qAAB        NA Northeast              Americas   \n",
       "\n",
       "          Product Family           Stage   TRUE Created Date  \\\n",
       "0  Professional Services  Closed Pending 2017-03-20 13:44:00   \n",
       "3                   EMSS  Closed Pending 2018-08-31 14:53:00   \n",
       "4         Managed Planet  Closed Pending 2017-09-19 13:59:00   \n",
       "5             DesktopNow      Closed Won 2018-12-05 12:55:00   \n",
       "6       Management Suite  Closed Pending 2017-05-02 15:21:00   \n",
       "\n",
       "   Total Price (converted) Total Price (converted) Currency    Type  \n",
       "0                 33250.00                              USD  Volume  \n",
       "3                  1484.00                              USD  Volume  \n",
       "4                     0.93                              USD  Volume  \n",
       "5                 18800.00                              USD  Volume  \n",
       "6                   105.60                              USD  Volume  "
      ]
     },
     "execution_count": 663,
     "metadata": {},
     "output_type": "execute_result"
    }
   ],
   "source": [
    "#x['Closed Won Date'] = np.where(x['Closed Won Date'].isnull() , x['Close Date'] ,x['Closed Won Date'])\n",
    "x['Closed Won Date'].fillna(x['Close Date'], inplace=True)\n",
    "print(x.shape)\n",
    "x.head()"
   ]
  },
  {
   "cell_type": "code",
   "execution_count": 664,
   "metadata": {},
   "outputs": [],
   "source": [
    "#x = x.sort_values('Close Date')[['Opportunity 18 Digit ID','First Year Bookings AMT (USD)' ,'Close Date' ,\\\n",
    "             #'TRUE Created Date'  , 'Closed Won Date']]"
   ]
  },
  {
   "cell_type": "code",
   "execution_count": 665,
   "metadata": {},
   "outputs": [
    {
     "data": {
      "text/html": [
       "<div>\n",
       "<style scoped>\n",
       "    .dataframe tbody tr th:only-of-type {\n",
       "        vertical-align: middle;\n",
       "    }\n",
       "\n",
       "    .dataframe tbody tr th {\n",
       "        vertical-align: top;\n",
       "    }\n",
       "\n",
       "    .dataframe thead th {\n",
       "        text-align: right;\n",
       "    }\n",
       "</style>\n",
       "<table border=\"1\" class=\"dataframe\">\n",
       "  <thead>\n",
       "    <tr style=\"text-align: right;\">\n",
       "      <th></th>\n",
       "      <th>Close Date</th>\n",
       "      <th>Close Date at Time of Lost</th>\n",
       "      <th>Closed Won Date</th>\n",
       "      <th>Created Date</th>\n",
       "      <th>First Year Bookings AMT (USD)</th>\n",
       "      <th>Fiscal Period</th>\n",
       "      <th>Forecast Category</th>\n",
       "      <th>Opportunity 18 Digit ID</th>\n",
       "      <th>Opportunity Area</th>\n",
       "      <th>Opportunity Geography</th>\n",
       "      <th>Product Family</th>\n",
       "      <th>Stage</th>\n",
       "      <th>TRUE Created Date</th>\n",
       "      <th>Total Price (converted)</th>\n",
       "      <th>Total Price (converted) Currency</th>\n",
       "      <th>Type</th>\n",
       "    </tr>\n",
       "  </thead>\n",
       "  <tbody>\n",
       "    <tr>\n",
       "      <th>0</th>\n",
       "      <td>2017-04-27 00:00:00</td>\n",
       "      <td>NaN</td>\n",
       "      <td>2017-04-27</td>\n",
       "      <td>2017-03-20</td>\n",
       "      <td>33250.00</td>\n",
       "      <td>Q2-2017</td>\n",
       "      <td>Closed</td>\n",
       "      <td>0061300001MAqFCAA1</td>\n",
       "      <td>NA Northeast</td>\n",
       "      <td>Americas</td>\n",
       "      <td>Professional Services</td>\n",
       "      <td>Closed Pending</td>\n",
       "      <td>2017-03-20 13:44:00</td>\n",
       "      <td>33250.00</td>\n",
       "      <td>USD</td>\n",
       "      <td>Volume</td>\n",
       "    </tr>\n",
       "    <tr>\n",
       "      <th>3</th>\n",
       "      <td>2018-09-07 00:00:00</td>\n",
       "      <td>NaN</td>\n",
       "      <td>2018-09-07</td>\n",
       "      <td>2018-08-31</td>\n",
       "      <td>1484.00</td>\n",
       "      <td>Q3-2018</td>\n",
       "      <td>Closed</td>\n",
       "      <td>0061B00001XtFImQAN</td>\n",
       "      <td>NA West Enterprise</td>\n",
       "      <td>Americas</td>\n",
       "      <td>EMSS</td>\n",
       "      <td>Closed Pending</td>\n",
       "      <td>2018-08-31 14:53:00</td>\n",
       "      <td>1484.00</td>\n",
       "      <td>USD</td>\n",
       "      <td>Volume</td>\n",
       "    </tr>\n",
       "    <tr>\n",
       "      <th>4</th>\n",
       "      <td>2017-09-19 00:00:00</td>\n",
       "      <td>NaN</td>\n",
       "      <td>2017-09-19</td>\n",
       "      <td>2017-09-19</td>\n",
       "      <td>0.93</td>\n",
       "      <td>Q3-2017</td>\n",
       "      <td>Closed</td>\n",
       "      <td>0061B00001Ou4mIQAR</td>\n",
       "      <td>NA Northeast</td>\n",
       "      <td>Americas</td>\n",
       "      <td>Managed Planet</td>\n",
       "      <td>Closed Pending</td>\n",
       "      <td>2017-09-19 13:59:00</td>\n",
       "      <td>0.93</td>\n",
       "      <td>USD</td>\n",
       "      <td>Volume</td>\n",
       "    </tr>\n",
       "  </tbody>\n",
       "</table>\n",
       "</div>"
      ],
      "text/plain": [
       "            Close Date Close Date at Time of Lost Closed Won Date  \\\n",
       "0  2017-04-27 00:00:00                        NaN      2017-04-27   \n",
       "3  2018-09-07 00:00:00                        NaN      2018-09-07   \n",
       "4  2017-09-19 00:00:00                        NaN      2017-09-19   \n",
       "\n",
       "  Created Date  First Year Bookings AMT (USD) Fiscal Period Forecast Category  \\\n",
       "0   2017-03-20                       33250.00       Q2-2017            Closed   \n",
       "3   2018-08-31                        1484.00       Q3-2018            Closed   \n",
       "4   2017-09-19                           0.93       Q3-2017            Closed   \n",
       "\n",
       "  Opportunity 18 Digit ID    Opportunity Area Opportunity Geography  \\\n",
       "0      0061300001MAqFCAA1        NA Northeast              Americas   \n",
       "3      0061B00001XtFImQAN  NA West Enterprise              Americas   \n",
       "4      0061B00001Ou4mIQAR        NA Northeast              Americas   \n",
       "\n",
       "          Product Family           Stage   TRUE Created Date  \\\n",
       "0  Professional Services  Closed Pending 2017-03-20 13:44:00   \n",
       "3                   EMSS  Closed Pending 2018-08-31 14:53:00   \n",
       "4         Managed Planet  Closed Pending 2017-09-19 13:59:00   \n",
       "\n",
       "   Total Price (converted) Total Price (converted) Currency    Type  \n",
       "0                 33250.00                              USD  Volume  \n",
       "3                  1484.00                              USD  Volume  \n",
       "4                     0.93                              USD  Volume  "
      ]
     },
     "execution_count": 665,
     "metadata": {},
     "output_type": "execute_result"
    }
   ],
   "source": [
    "x.head(3)"
   ]
  },
  {
   "cell_type": "code",
   "execution_count": 666,
   "metadata": {},
   "outputs": [
    {
     "data": {
      "text/plain": [
       "0"
      ]
     },
     "execution_count": 666,
     "metadata": {},
     "output_type": "execute_result"
    }
   ],
   "source": [
    "x['Closed Won Date'].isnull().sum()"
   ]
  },
  {
   "cell_type": "code",
   "execution_count": 667,
   "metadata": {},
   "outputs": [],
   "source": [
    "x['close_won_date_month'] = pd.PeriodIndex(x['Closed Won Date'] ,freq = 'M')"
   ]
  },
  {
   "cell_type": "code",
   "execution_count": 668,
   "metadata": {},
   "outputs": [
    {
     "data": {
      "text/html": [
       "<div>\n",
       "<style scoped>\n",
       "    .dataframe tbody tr th:only-of-type {\n",
       "        vertical-align: middle;\n",
       "    }\n",
       "\n",
       "    .dataframe tbody tr th {\n",
       "        vertical-align: top;\n",
       "    }\n",
       "\n",
       "    .dataframe thead th {\n",
       "        text-align: right;\n",
       "    }\n",
       "</style>\n",
       "<table border=\"1\" class=\"dataframe\">\n",
       "  <thead>\n",
       "    <tr style=\"text-align: right;\">\n",
       "      <th></th>\n",
       "      <th>Close Date</th>\n",
       "      <th>Close Date at Time of Lost</th>\n",
       "      <th>Closed Won Date</th>\n",
       "      <th>Created Date</th>\n",
       "      <th>First Year Bookings AMT (USD)</th>\n",
       "      <th>Fiscal Period</th>\n",
       "      <th>Forecast Category</th>\n",
       "      <th>Opportunity 18 Digit ID</th>\n",
       "      <th>Opportunity Area</th>\n",
       "      <th>Opportunity Geography</th>\n",
       "      <th>Product Family</th>\n",
       "      <th>Stage</th>\n",
       "      <th>TRUE Created Date</th>\n",
       "      <th>Total Price (converted)</th>\n",
       "      <th>Total Price (converted) Currency</th>\n",
       "      <th>Type</th>\n",
       "      <th>close_won_date_month</th>\n",
       "    </tr>\n",
       "  </thead>\n",
       "  <tbody>\n",
       "    <tr>\n",
       "      <th>34404</th>\n",
       "      <td>2019-03-29 00:00:00</td>\n",
       "      <td>NaT</td>\n",
       "      <td>2019-03-29</td>\n",
       "      <td>2019-03-26</td>\n",
       "      <td>0.01</td>\n",
       "      <td>Q1-2019</td>\n",
       "      <td>Closed</td>\n",
       "      <td>0061B00001cqQ1sQAE</td>\n",
       "      <td>NA Southeast</td>\n",
       "      <td>Americas</td>\n",
       "      <td>Professional Services</td>\n",
       "      <td>Closed Won</td>\n",
       "      <td>2019-03-26 06:46:00</td>\n",
       "      <td>0.01</td>\n",
       "      <td>NaN</td>\n",
       "      <td>New</td>\n",
       "      <td>2019-03</td>\n",
       "    </tr>\n",
       "    <tr>\n",
       "      <th>34462</th>\n",
       "      <td>2019-03-15 00:00:00</td>\n",
       "      <td>NaT</td>\n",
       "      <td>2019-03-15</td>\n",
       "      <td>2019-03-12</td>\n",
       "      <td>1111.20</td>\n",
       "      <td>Q1-2019</td>\n",
       "      <td>Closed</td>\n",
       "      <td>0061B00001cptfwQAA</td>\n",
       "      <td>NA Southeast</td>\n",
       "      <td>Americas</td>\n",
       "      <td>EMSS</td>\n",
       "      <td>Closed Won</td>\n",
       "      <td>2019-03-12 08:24:00</td>\n",
       "      <td>1111.20</td>\n",
       "      <td>NaN</td>\n",
       "      <td>Volume</td>\n",
       "      <td>2019-03</td>\n",
       "    </tr>\n",
       "    <tr>\n",
       "      <th>34463</th>\n",
       "      <td>2019-03-15 00:00:00</td>\n",
       "      <td>NaT</td>\n",
       "      <td>2019-03-15</td>\n",
       "      <td>2019-03-12</td>\n",
       "      <td>244.50</td>\n",
       "      <td>Q1-2019</td>\n",
       "      <td>Closed</td>\n",
       "      <td>0061B00001cptfwQAA</td>\n",
       "      <td>NA Southeast</td>\n",
       "      <td>Americas</td>\n",
       "      <td>EMSS</td>\n",
       "      <td>Closed Won</td>\n",
       "      <td>2019-03-12 08:24:00</td>\n",
       "      <td>244.50</td>\n",
       "      <td>NaN</td>\n",
       "      <td>Volume</td>\n",
       "      <td>2019-03</td>\n",
       "    </tr>\n",
       "    <tr>\n",
       "      <th>34522</th>\n",
       "      <td>2019-04-10 00:00:00</td>\n",
       "      <td>NaT</td>\n",
       "      <td>2019-04-10</td>\n",
       "      <td>2019-01-18</td>\n",
       "      <td>1755.00</td>\n",
       "      <td>Q2-2019</td>\n",
       "      <td>Closed</td>\n",
       "      <td>0061B00001cKhl4QAC</td>\n",
       "      <td>SysInt-Americas</td>\n",
       "      <td>SA-Americas</td>\n",
       "      <td>Shavlik Patch</td>\n",
       "      <td>Closed Won</td>\n",
       "      <td>2019-01-18 09:36:00</td>\n",
       "      <td>1755.00</td>\n",
       "      <td>NaN</td>\n",
       "      <td>New</td>\n",
       "      <td>2019-04</td>\n",
       "    </tr>\n",
       "    <tr>\n",
       "      <th>34523</th>\n",
       "      <td>2019-04-10 00:00:00</td>\n",
       "      <td>NaT</td>\n",
       "      <td>2019-04-10</td>\n",
       "      <td>2019-01-18</td>\n",
       "      <td>390.00</td>\n",
       "      <td>Q2-2019</td>\n",
       "      <td>Closed</td>\n",
       "      <td>0061B00001cKhl4QAC</td>\n",
       "      <td>SysInt-Americas</td>\n",
       "      <td>SA-Americas</td>\n",
       "      <td>Shavlik Patch</td>\n",
       "      <td>Closed Won</td>\n",
       "      <td>2019-01-18 09:36:00</td>\n",
       "      <td>390.00</td>\n",
       "      <td>NaN</td>\n",
       "      <td>New</td>\n",
       "      <td>2019-04</td>\n",
       "    </tr>\n",
       "  </tbody>\n",
       "</table>\n",
       "</div>"
      ],
      "text/plain": [
       "                Close Date Close Date at Time of Lost Closed Won Date  \\\n",
       "34404  2019-03-29 00:00:00                        NaT      2019-03-29   \n",
       "34462  2019-03-15 00:00:00                        NaT      2019-03-15   \n",
       "34463  2019-03-15 00:00:00                        NaT      2019-03-15   \n",
       "34522  2019-04-10 00:00:00                        NaT      2019-04-10   \n",
       "34523  2019-04-10 00:00:00                        NaT      2019-04-10   \n",
       "\n",
       "      Created Date  First Year Bookings AMT (USD) Fiscal Period  \\\n",
       "34404   2019-03-26                           0.01       Q1-2019   \n",
       "34462   2019-03-12                        1111.20       Q1-2019   \n",
       "34463   2019-03-12                         244.50       Q1-2019   \n",
       "34522   2019-01-18                        1755.00       Q2-2019   \n",
       "34523   2019-01-18                         390.00       Q2-2019   \n",
       "\n",
       "      Forecast Category Opportunity 18 Digit ID Opportunity Area  \\\n",
       "34404            Closed      0061B00001cqQ1sQAE     NA Southeast   \n",
       "34462            Closed      0061B00001cptfwQAA     NA Southeast   \n",
       "34463            Closed      0061B00001cptfwQAA     NA Southeast   \n",
       "34522            Closed      0061B00001cKhl4QAC  SysInt-Americas   \n",
       "34523            Closed      0061B00001cKhl4QAC  SysInt-Americas   \n",
       "\n",
       "      Opportunity Geography         Product Family       Stage  \\\n",
       "34404              Americas  Professional Services  Closed Won   \n",
       "34462              Americas                   EMSS  Closed Won   \n",
       "34463              Americas                   EMSS  Closed Won   \n",
       "34522           SA-Americas          Shavlik Patch  Closed Won   \n",
       "34523           SA-Americas          Shavlik Patch  Closed Won   \n",
       "\n",
       "        TRUE Created Date  Total Price (converted)  \\\n",
       "34404 2019-03-26 06:46:00                     0.01   \n",
       "34462 2019-03-12 08:24:00                  1111.20   \n",
       "34463 2019-03-12 08:24:00                   244.50   \n",
       "34522 2019-01-18 09:36:00                  1755.00   \n",
       "34523 2019-01-18 09:36:00                   390.00   \n",
       "\n",
       "      Total Price (converted) Currency    Type close_won_date_month  \n",
       "34404                              NaN     New              2019-03  \n",
       "34462                              NaN  Volume              2019-03  \n",
       "34463                              NaN  Volume              2019-03  \n",
       "34522                              NaN     New              2019-04  \n",
       "34523                              NaN     New              2019-04  "
      ]
     },
     "execution_count": 668,
     "metadata": {},
     "output_type": "execute_result"
    }
   ],
   "source": [
    "x.tail()"
   ]
  },
  {
   "cell_type": "code",
   "execution_count": 669,
   "metadata": {},
   "outputs": [
    {
     "data": {
      "text/plain": [
       "close_won_date_month\n",
       "2018-01     3361153.81\n",
       "2018-02     3569414.39\n",
       "2018-03     8331085.37\n",
       "2018-04     2785901.20\n",
       "2018-05     7911919.62\n",
       "2018-06    12767244.43\n",
       "2018-07     3883553.63\n",
       "2018-08     5834807.08\n",
       "2018-09    12428619.10\n",
       "2018-10     3263394.35\n",
       "2018-11     5211160.28\n",
       "2018-12    20286964.88\n",
       "Freq: M, Name: First Year Bookings AMT (USD), dtype: float64"
      ]
     },
     "execution_count": 669,
     "metadata": {},
     "output_type": "execute_result"
    }
   ],
   "source": [
    "a = x[x.close_won_date_month.dt.year == 2018].groupby('close_won_date_month') \\\n",
    "['First Year Bookings AMT (USD)'].sum()\n",
    "a"
   ]
  },
  {
   "cell_type": "code",
   "execution_count": 670,
   "metadata": {},
   "outputs": [
    {
     "name": "stdout",
     "output_type": "stream",
     "text": [
      "a 22146979.81000001\n"
     ]
    }
   ],
   "source": [
    "print('a' , sum(a['2018-7' : '2018-9'].values))\n",
    "#print('b' , sum(b['2018-7' : '2018-9'].values))"
   ]
  },
  {
   "cell_type": "code",
   "execution_count": 671,
   "metadata": {},
   "outputs": [],
   "source": [
    "df = x.set_index('close_won_date_month').groupby('close_won_date_month')['First Year Bookings AMT (USD)'].sum()\n",
    "value = df.values\n",
    "index = list(df.index)\n",
    "grouped_dataframe = pd.DataFrame(data = value ,index =index)"
   ]
  },
  {
   "cell_type": "code",
   "execution_count": 672,
   "metadata": {},
   "outputs": [
    {
     "data": {
      "text/html": [
       "<div>\n",
       "<style scoped>\n",
       "    .dataframe tbody tr th:only-of-type {\n",
       "        vertical-align: middle;\n",
       "    }\n",
       "\n",
       "    .dataframe tbody tr th {\n",
       "        vertical-align: top;\n",
       "    }\n",
       "\n",
       "    .dataframe thead th {\n",
       "        text-align: right;\n",
       "    }\n",
       "</style>\n",
       "<table border=\"1\" class=\"dataframe\">\n",
       "  <thead>\n",
       "    <tr style=\"text-align: right;\">\n",
       "      <th></th>\n",
       "      <th>0</th>\n",
       "    </tr>\n",
       "  </thead>\n",
       "  <tbody>\n",
       "    <tr>\n",
       "      <th>2018-07</th>\n",
       "      <td>3883553.63</td>\n",
       "    </tr>\n",
       "    <tr>\n",
       "      <th>2018-08</th>\n",
       "      <td>5834807.08</td>\n",
       "    </tr>\n",
       "    <tr>\n",
       "      <th>2018-09</th>\n",
       "      <td>12428619.10</td>\n",
       "    </tr>\n",
       "  </tbody>\n",
       "</table>\n",
       "</div>"
      ],
      "text/plain": [
       "                   0\n",
       "2018-07   3883553.63\n",
       "2018-08   5834807.08\n",
       "2018-09  12428619.10"
      ]
     },
     "execution_count": 672,
     "metadata": {},
     "output_type": "execute_result"
    }
   ],
   "source": [
    "grouped_dataframe['2018-7':'2018-9']\n",
    "#grouped_dataframe"
   ]
  },
  {
   "cell_type": "code",
   "execution_count": 673,
   "metadata": {},
   "outputs": [
    {
     "data": {
      "text/plain": [
       "array([28761519.50999999])"
      ]
     },
     "execution_count": 673,
     "metadata": {},
     "output_type": "execute_result"
    }
   ],
   "source": [
    "sum(grouped_dataframe['2018-10':'2018-12'].values)"
   ]
  },
  {
   "cell_type": "code",
   "execution_count": 674,
   "metadata": {},
   "outputs": [],
   "source": [
    "grouped_dataframe.columns = ['Booking Amount']"
   ]
  },
  {
   "cell_type": "code",
   "execution_count": 675,
   "metadata": {},
   "outputs": [
    {
     "data": {
      "text/html": [
       "<div>\n",
       "<style scoped>\n",
       "    .dataframe tbody tr th:only-of-type {\n",
       "        vertical-align: middle;\n",
       "    }\n",
       "\n",
       "    .dataframe tbody tr th {\n",
       "        vertical-align: top;\n",
       "    }\n",
       "\n",
       "    .dataframe thead th {\n",
       "        text-align: right;\n",
       "    }\n",
       "</style>\n",
       "<table border=\"1\" class=\"dataframe\">\n",
       "  <thead>\n",
       "    <tr style=\"text-align: right;\">\n",
       "      <th></th>\n",
       "      <th>Booking Amount</th>\n",
       "    </tr>\n",
       "  </thead>\n",
       "  <tbody>\n",
       "    <tr>\n",
       "      <th>2011-01</th>\n",
       "      <td>332467.17</td>\n",
       "    </tr>\n",
       "    <tr>\n",
       "      <th>2011-02</th>\n",
       "      <td>756637.55</td>\n",
       "    </tr>\n",
       "    <tr>\n",
       "      <th>2011-03</th>\n",
       "      <td>2339407.31</td>\n",
       "    </tr>\n",
       "    <tr>\n",
       "      <th>2011-04</th>\n",
       "      <td>697237.41</td>\n",
       "    </tr>\n",
       "    <tr>\n",
       "      <th>2011-05</th>\n",
       "      <td>2332145.49</td>\n",
       "    </tr>\n",
       "  </tbody>\n",
       "</table>\n",
       "</div>"
      ],
      "text/plain": [
       "         Booking Amount\n",
       "2011-01       332467.17\n",
       "2011-02       756637.55\n",
       "2011-03      2339407.31\n",
       "2011-04       697237.41\n",
       "2011-05      2332145.49"
      ]
     },
     "execution_count": 675,
     "metadata": {},
     "output_type": "execute_result"
    }
   ],
   "source": [
    "grouped_dataframe.head()"
   ]
  },
  {
   "cell_type": "code",
   "execution_count": 676,
   "metadata": {},
   "outputs": [],
   "source": [
    "#grouped_dataframe = grouped_dataframe.loc['2016-1':]"
   ]
  },
  {
   "cell_type": "code",
   "execution_count": 677,
   "metadata": {},
   "outputs": [
    {
     "data": {
      "text/plain": [
       "[<matplotlib.lines.Line2D at 0x259e9ce0eb8>]"
      ]
     },
     "execution_count": 677,
     "metadata": {},
     "output_type": "execute_result"
    },
    {
     "data": {
      "image/png": "[encoded data removed]",
      "text/plain": [
       "<Figure size 432x288 with 1 Axes>"
      ]
     },
     "metadata": {},
     "output_type": "display_data"
    }
   ],
   "source": [
    "plt.plot(grouped_dataframe['Booking Amount'].values)"
   ]
  },
  {
   "cell_type": "code",
   "execution_count": 678,
   "metadata": {},
   "outputs": [],
   "source": [
    "# grouped_dataframe.set_index(grouped_dataframe.index ,inplace=True)\n",
    "\n",
    "\n",
    "#grouped_dataframe.values[i[0]] = grouped_dataframe.values.mean()\n",
    "#grouped_dataframe\n",
    "\n",
    "#grouped_dataframe['b'] = grouped_dataframe['Booking Amount'].map(lambda x: x if x >10**7 else None)\n",
    "\n",
    "#grouped_dataframe\n",
    "\n",
    "#grouped_dataframe['Booking Amount'].plot()\n",
    "\n",
    "#grouped_dataframe['Booking Amount'].hist()\n",
    "\n",
    "# plt.boxplot(grouped_dataframe['Booking Amount'])\n",
    "# experiment_df = copy.deepcopy(grouped_dataframe)\n",
    "# experiment_df['Booking Amount'] = experiment_df['Booking Amount'].map(lambda x : None if x > (1*10)**7 \\\n",
    "#                                                                       else x)\n",
    "\n",
    "# print(experiment_df['Booking Amount'].isnull().sum())\n",
    "# experiment_df.fillna(experiment_df['Booking Amount'].mean(),inplace=True)\n",
    "# grouped_dataframe = experiment_df\n",
    "# #grouped_dataframe['Booking Amount'].plot()\n",
    "# grouped_dataframe.isnull().sum()\n",
    "# grouped_dataframe.head(2)\n",
    "\n",
    "#np.sqrt(grouped_dataframe['Booking Amount']).hist(normed = True)\n",
    "#plt.show()\n",
    "#np.sqrt(grouped_dataframe['Booking Amount']).skew()\n",
    "#grouped_dataframe['Booking Amount'].plot()\n",
    "\n",
    "#grouped_dataframe['Booking Amount']"
   ]
  },
  {
   "cell_type": "code",
   "execution_count": 679,
   "metadata": {},
   "outputs": [
    {
     "data": {
      "text/html": [
       "<div>\n",
       "<style scoped>\n",
       "    .dataframe tbody tr th:only-of-type {\n",
       "        vertical-align: middle;\n",
       "    }\n",
       "\n",
       "    .dataframe tbody tr th {\n",
       "        vertical-align: top;\n",
       "    }\n",
       "\n",
       "    .dataframe thead th {\n",
       "        text-align: right;\n",
       "    }\n",
       "</style>\n",
       "<table border=\"1\" class=\"dataframe\">\n",
       "  <thead>\n",
       "    <tr style=\"text-align: right;\">\n",
       "      <th></th>\n",
       "      <th>Booking Amount</th>\n",
       "    </tr>\n",
       "  </thead>\n",
       "  <tbody>\n",
       "    <tr>\n",
       "      <th>2017-01</th>\n",
       "      <td>2527827.75</td>\n",
       "    </tr>\n",
       "    <tr>\n",
       "      <th>2017-02</th>\n",
       "      <td>2866864.31</td>\n",
       "    </tr>\n",
       "    <tr>\n",
       "      <th>2017-03</th>\n",
       "      <td>6835771.27</td>\n",
       "    </tr>\n",
       "    <tr>\n",
       "      <th>2017-04</th>\n",
       "      <td>2701422.16</td>\n",
       "    </tr>\n",
       "    <tr>\n",
       "      <th>2017-05</th>\n",
       "      <td>4076961.37</td>\n",
       "    </tr>\n",
       "    <tr>\n",
       "      <th>2017-06</th>\n",
       "      <td>9349451.07</td>\n",
       "    </tr>\n",
       "    <tr>\n",
       "      <th>2017-07</th>\n",
       "      <td>5869121.94</td>\n",
       "    </tr>\n",
       "    <tr>\n",
       "      <th>2017-08</th>\n",
       "      <td>16082636.71</td>\n",
       "    </tr>\n",
       "    <tr>\n",
       "      <th>2017-09</th>\n",
       "      <td>13289444.74</td>\n",
       "    </tr>\n",
       "    <tr>\n",
       "      <th>2017-10</th>\n",
       "      <td>4372148.31</td>\n",
       "    </tr>\n",
       "    <tr>\n",
       "      <th>2017-11</th>\n",
       "      <td>5720998.11</td>\n",
       "    </tr>\n",
       "    <tr>\n",
       "      <th>2017-12</th>\n",
       "      <td>12462174.21</td>\n",
       "    </tr>\n",
       "    <tr>\n",
       "      <th>2018-01</th>\n",
       "      <td>3361153.81</td>\n",
       "    </tr>\n",
       "    <tr>\n",
       "      <th>2018-02</th>\n",
       "      <td>3569414.39</td>\n",
       "    </tr>\n",
       "    <tr>\n",
       "      <th>2018-03</th>\n",
       "      <td>8331085.37</td>\n",
       "    </tr>\n",
       "    <tr>\n",
       "      <th>2018-04</th>\n",
       "      <td>2785901.20</td>\n",
       "    </tr>\n",
       "    <tr>\n",
       "      <th>2018-05</th>\n",
       "      <td>7911919.62</td>\n",
       "    </tr>\n",
       "    <tr>\n",
       "      <th>2018-06</th>\n",
       "      <td>12767244.43</td>\n",
       "    </tr>\n",
       "    <tr>\n",
       "      <th>2018-07</th>\n",
       "      <td>3883553.63</td>\n",
       "    </tr>\n",
       "    <tr>\n",
       "      <th>2018-08</th>\n",
       "      <td>5834807.08</td>\n",
       "    </tr>\n",
       "    <tr>\n",
       "      <th>2018-09</th>\n",
       "      <td>12428619.10</td>\n",
       "    </tr>\n",
       "    <tr>\n",
       "      <th>2018-10</th>\n",
       "      <td>3263394.35</td>\n",
       "    </tr>\n",
       "    <tr>\n",
       "      <th>2018-11</th>\n",
       "      <td>5211160.28</td>\n",
       "    </tr>\n",
       "    <tr>\n",
       "      <th>2018-12</th>\n",
       "      <td>20286964.88</td>\n",
       "    </tr>\n",
       "    <tr>\n",
       "      <th>2019-01</th>\n",
       "      <td>2832417.42</td>\n",
       "    </tr>\n",
       "    <tr>\n",
       "      <th>2019-02</th>\n",
       "      <td>4959140.19</td>\n",
       "    </tr>\n",
       "    <tr>\n",
       "      <th>2019-03</th>\n",
       "      <td>8936129.41</td>\n",
       "    </tr>\n",
       "  </tbody>\n",
       "</table>\n",
       "</div>"
      ],
      "text/plain": [
       "         Booking Amount\n",
       "2017-01      2527827.75\n",
       "2017-02      2866864.31\n",
       "2017-03      6835771.27\n",
       "2017-04      2701422.16\n",
       "2017-05      4076961.37\n",
       "2017-06      9349451.07\n",
       "2017-07      5869121.94\n",
       "2017-08     16082636.71\n",
       "2017-09     13289444.74\n",
       "2017-10      4372148.31\n",
       "2017-11      5720998.11\n",
       "2017-12     12462174.21\n",
       "2018-01      3361153.81\n",
       "2018-02      3569414.39\n",
       "2018-03      8331085.37\n",
       "2018-04      2785901.20\n",
       "2018-05      7911919.62\n",
       "2018-06     12767244.43\n",
       "2018-07      3883553.63\n",
       "2018-08      5834807.08\n",
       "2018-09     12428619.10\n",
       "2018-10      3263394.35\n",
       "2018-11      5211160.28\n",
       "2018-12     20286964.88\n",
       "2019-01      2832417.42\n",
       "2019-02      4959140.19\n",
       "2019-03      8936129.41"
      ]
     },
     "execution_count": 679,
     "metadata": {},
     "output_type": "execute_result"
    }
   ],
   "source": [
    "#grouped_dataframe['sqrt']= np.sqrt(grouped_dataframe['Booking Amount'])\n",
    "#grouped_dataframe['square'] = np.square(grouped_dataframe['sqrt'])\n",
    "grouped_dataframe = grouped_dataframe['2017-1':'2019-3'][['Booking Amount']]\n",
    "grouped_dataframe"
   ]
  },
  {
   "cell_type": "code",
   "execution_count": 680,
   "metadata": {},
   "outputs": [],
   "source": [
    "## replace maximum or abnormal point to avg of rest"
   ]
  },
  {
   "cell_type": "code",
   "execution_count": 681,
   "metadata": {},
   "outputs": [
    {
     "data": {
      "text/plain": [
       "PeriodIndex(['2018-12'], dtype='period[M]', freq='M')"
      ]
     },
     "execution_count": 681,
     "metadata": {},
     "output_type": "execute_result"
    }
   ],
   "source": [
    "max_value = max(grouped_dataframe.values)\n",
    "i , j   = np.where(max_value == grouped_dataframe.values)\n",
    "grouped_dataframe.index[i]"
   ]
  },
  {
   "cell_type": "code",
   "execution_count": 682,
   "metadata": {},
   "outputs": [],
   "source": [
    "mean = (grouped_dataframe.values.sum() - 20286964.88)/ (len(grouped_dataframe.values)-1)"
   ]
  },
  {
   "cell_type": "code",
   "execution_count": 683,
   "metadata": {},
   "outputs": [
    {
     "data": {
      "text/html": [
       "<div>\n",
       "<style scoped>\n",
       "    .dataframe tbody tr th:only-of-type {\n",
       "        vertical-align: middle;\n",
       "    }\n",
       "\n",
       "    .dataframe tbody tr th {\n",
       "        vertical-align: top;\n",
       "    }\n",
       "\n",
       "    .dataframe thead th {\n",
       "        text-align: right;\n",
       "    }\n",
       "</style>\n",
       "<table border=\"1\" class=\"dataframe\">\n",
       "  <thead>\n",
       "    <tr style=\"text-align: right;\">\n",
       "      <th></th>\n",
       "      <th>Booking Amount</th>\n",
       "    </tr>\n",
       "  </thead>\n",
       "  <tbody>\n",
       "    <tr>\n",
       "      <th>2017-01</th>\n",
       "      <td>2527827.75</td>\n",
       "    </tr>\n",
       "    <tr>\n",
       "      <th>2017-02</th>\n",
       "      <td>2866864.31</td>\n",
       "    </tr>\n",
       "    <tr>\n",
       "      <th>2017-03</th>\n",
       "      <td>6835771.27</td>\n",
       "    </tr>\n",
       "    <tr>\n",
       "      <th>2017-04</th>\n",
       "      <td>2701422.16</td>\n",
       "    </tr>\n",
       "    <tr>\n",
       "      <th>2017-05</th>\n",
       "      <td>4076961.37</td>\n",
       "    </tr>\n",
       "    <tr>\n",
       "      <th>2017-06</th>\n",
       "      <td>9349451.07</td>\n",
       "    </tr>\n",
       "    <tr>\n",
       "      <th>2017-07</th>\n",
       "      <td>5869121.94</td>\n",
       "    </tr>\n",
       "    <tr>\n",
       "      <th>2017-08</th>\n",
       "      <td>16082636.71</td>\n",
       "    </tr>\n",
       "    <tr>\n",
       "      <th>2017-09</th>\n",
       "      <td>13289444.74</td>\n",
       "    </tr>\n",
       "    <tr>\n",
       "      <th>2017-10</th>\n",
       "      <td>4372148.31</td>\n",
       "    </tr>\n",
       "    <tr>\n",
       "      <th>2017-11</th>\n",
       "      <td>5720998.11</td>\n",
       "    </tr>\n",
       "    <tr>\n",
       "      <th>2017-12</th>\n",
       "      <td>12462174.21</td>\n",
       "    </tr>\n",
       "    <tr>\n",
       "      <th>2018-01</th>\n",
       "      <td>3361153.81</td>\n",
       "    </tr>\n",
       "    <tr>\n",
       "      <th>2018-02</th>\n",
       "      <td>3569414.39</td>\n",
       "    </tr>\n",
       "    <tr>\n",
       "      <th>2018-03</th>\n",
       "      <td>8331085.37</td>\n",
       "    </tr>\n",
       "    <tr>\n",
       "      <th>2018-04</th>\n",
       "      <td>2785901.20</td>\n",
       "    </tr>\n",
       "    <tr>\n",
       "      <th>2018-05</th>\n",
       "      <td>7911919.62</td>\n",
       "    </tr>\n",
       "    <tr>\n",
       "      <th>2018-06</th>\n",
       "      <td>12767244.43</td>\n",
       "    </tr>\n",
       "    <tr>\n",
       "      <th>2018-07</th>\n",
       "      <td>3883553.63</td>\n",
       "    </tr>\n",
       "    <tr>\n",
       "      <th>2018-08</th>\n",
       "      <td>5834807.08</td>\n",
       "    </tr>\n",
       "    <tr>\n",
       "      <th>2018-09</th>\n",
       "      <td>12428619.10</td>\n",
       "    </tr>\n",
       "    <tr>\n",
       "      <th>2018-10</th>\n",
       "      <td>3263394.35</td>\n",
       "    </tr>\n",
       "    <tr>\n",
       "      <th>2018-11</th>\n",
       "      <td>5211160.28</td>\n",
       "    </tr>\n",
       "    <tr>\n",
       "      <th>2018-12</th>\n",
       "      <td>10767244.43</td>\n",
       "    </tr>\n",
       "    <tr>\n",
       "      <th>2019-01</th>\n",
       "      <td>2832417.42</td>\n",
       "    </tr>\n",
       "    <tr>\n",
       "      <th>2019-02</th>\n",
       "      <td>4959140.19</td>\n",
       "    </tr>\n",
       "    <tr>\n",
       "      <th>2019-03</th>\n",
       "      <td>8936129.41</td>\n",
       "    </tr>\n",
       "  </tbody>\n",
       "</table>\n",
       "</div>"
      ],
      "text/plain": [
       "         Booking Amount\n",
       "2017-01      2527827.75\n",
       "2017-02      2866864.31\n",
       "2017-03      6835771.27\n",
       "2017-04      2701422.16\n",
       "2017-05      4076961.37\n",
       "2017-06      9349451.07\n",
       "2017-07      5869121.94\n",
       "2017-08     16082636.71\n",
       "2017-09     13289444.74\n",
       "2017-10      4372148.31\n",
       "2017-11      5720998.11\n",
       "2017-12     12462174.21\n",
       "2018-01      3361153.81\n",
       "2018-02      3569414.39\n",
       "2018-03      8331085.37\n",
       "2018-04      2785901.20\n",
       "2018-05      7911919.62\n",
       "2018-06     12767244.43\n",
       "2018-07      3883553.63\n",
       "2018-08      5834807.08\n",
       "2018-09     12428619.10\n",
       "2018-10      3263394.35\n",
       "2018-11      5211160.28\n",
       "2018-12     10767244.43\n",
       "2019-01      2832417.42\n",
       "2019-02      4959140.19\n",
       "2019-03      8936129.41"
      ]
     },
     "execution_count": 683,
     "metadata": {},
     "output_type": "execute_result"
    }
   ],
   "source": [
    "grouped_dataframe['2018-12'] = 10767244.43\n",
    "grouped_dataframe"
   ]
  },
  {
   "cell_type": "code",
   "execution_count": 684,
   "metadata": {},
   "outputs": [
    {
     "name": "stdout",
     "output_type": "stream",
     "text": [
      "(2680, 16)\n"
     ]
    },
    {
     "data": {
      "text/html": [
       "<div>\n",
       "<style scoped>\n",
       "    .dataframe tbody tr th:only-of-type {\n",
       "        vertical-align: middle;\n",
       "    }\n",
       "\n",
       "    .dataframe tbody tr th {\n",
       "        vertical-align: top;\n",
       "    }\n",
       "\n",
       "    .dataframe thead th {\n",
       "        text-align: right;\n",
       "    }\n",
       "</style>\n",
       "<table border=\"1\" class=\"dataframe\">\n",
       "  <thead>\n",
       "    <tr style=\"text-align: right;\">\n",
       "      <th></th>\n",
       "      <th>Booking Amount</th>\n",
       "    </tr>\n",
       "  </thead>\n",
       "  <tbody>\n",
       "    <tr>\n",
       "      <th>2019-04</th>\n",
       "      <td>2135082.18</td>\n",
       "    </tr>\n",
       "    <tr>\n",
       "      <th>2019-05</th>\n",
       "      <td>4785810.63</td>\n",
       "    </tr>\n",
       "    <tr>\n",
       "      <th>2019-06</th>\n",
       "      <td>11463149.38</td>\n",
       "    </tr>\n",
       "  </tbody>\n",
       "</table>\n",
       "</div>"
      ],
      "text/plain": [
       "         Booking Amount\n",
       "2019-04      2135082.18\n",
       "2019-05      4785810.63\n",
       "2019-06     11463149.38"
      ]
     },
     "execution_count": 684,
     "metadata": {},
     "output_type": "execute_result"
    }
   ],
   "source": [
    "data2 = pd.read_excel('april_to_june.xlsx' ,sheet_name='report1563209100640')\n",
    "data2 = data2[data2['Opportunity Geography'].isin(['Americas','SA-Americas'])]\n",
    "data2['Closed Won Date'].fillna(data2['Close Date'], inplace=True)\n",
    "print(data2.shape)\n",
    "data2 = data2.sort_values('Close Date')[['Opportunity 18 Digit ID','First Year Bookings AMT (USD)' ,'Close Date' ,\\\n",
    "             'TRUE Created Date'  , 'Closed Won Date']]\n",
    "data2['closed_won_date_month'] = pd.PeriodIndex(data2['Closed Won Date'],freq ='M')\n",
    "data2 = data2.set_index('closed_won_date_month').groupby('closed_won_date_month')['First Year Bookings AMT (USD)'].sum()\n",
    "value = data2.values\n",
    "index = list(data2.index)\n",
    "data2 = pd.DataFrame(value ,index=index ,columns=['Booking Amount'])\n",
    "data2"
   ]
  },
  {
   "cell_type": "code",
   "execution_count": 685,
   "metadata": {},
   "outputs": [
    {
     "data": {
      "text/html": [
       "<div>\n",
       "<style scoped>\n",
       "    .dataframe tbody tr th:only-of-type {\n",
       "        vertical-align: middle;\n",
       "    }\n",
       "\n",
       "    .dataframe tbody tr th {\n",
       "        vertical-align: top;\n",
       "    }\n",
       "\n",
       "    .dataframe thead th {\n",
       "        text-align: right;\n",
       "    }\n",
       "</style>\n",
       "<table border=\"1\" class=\"dataframe\">\n",
       "  <thead>\n",
       "    <tr style=\"text-align: right;\">\n",
       "      <th></th>\n",
       "      <th>Booking Amount</th>\n",
       "    </tr>\n",
       "  </thead>\n",
       "  <tbody>\n",
       "    <tr>\n",
       "      <th>2019-02</th>\n",
       "      <td>4959140.19</td>\n",
       "    </tr>\n",
       "    <tr>\n",
       "      <th>2019-03</th>\n",
       "      <td>8936129.41</td>\n",
       "    </tr>\n",
       "    <tr>\n",
       "      <th>2019-04</th>\n",
       "      <td>2135082.18</td>\n",
       "    </tr>\n",
       "    <tr>\n",
       "      <th>2019-05</th>\n",
       "      <td>4785810.63</td>\n",
       "    </tr>\n",
       "    <tr>\n",
       "      <th>2019-06</th>\n",
       "      <td>11463149.38</td>\n",
       "    </tr>\n",
       "  </tbody>\n",
       "</table>\n",
       "</div>"
      ],
      "text/plain": [
       "         Booking Amount\n",
       "2019-02      4959140.19\n",
       "2019-03      8936129.41\n",
       "2019-04      2135082.18\n",
       "2019-05      4785810.63\n",
       "2019-06     11463149.38"
      ]
     },
     "execution_count": 685,
     "metadata": {},
     "output_type": "execute_result"
    }
   ],
   "source": [
    "grouped_dataframe = pd.concat([grouped_dataframe , data2] ,axis = 0)\n",
    "grouped_dataframe.tail()"
   ]
  },
  {
   "cell_type": "code",
   "execution_count": 686,
   "metadata": {},
   "outputs": [
    {
     "data": {
      "text/plain": [
       "[<matplotlib.lines.Line2D at 0x259f313f860>]"
      ]
     },
     "execution_count": 686,
     "metadata": {},
     "output_type": "execute_result"
    },
    {
     "data": {
      "image/png": "[encoded data removed]",
      "text/plain": [
       "<Figure size 432x288 with 1 Axes>"
      ]
     },
     "metadata": {},
     "output_type": "display_data"
    }
   ],
   "source": [
    "#grouped_dataframe.loc['2019-1'] = 2895303\n",
    "#grouped_dataframe.loc['2019-2'] = 4763826\n",
    "#grouped_dataframe.loc['2019-3'] = 9309998\n",
    "plt.plot(grouped_dataframe['Booking Amount'].values)"
   ]
  },
  {
   "cell_type": "code",
   "execution_count": 687,
   "metadata": {},
   "outputs": [
    {
     "data": {
      "text/html": [
       "<div>\n",
       "<style scoped>\n",
       "    .dataframe tbody tr th:only-of-type {\n",
       "        vertical-align: middle;\n",
       "    }\n",
       "\n",
       "    .dataframe tbody tr th {\n",
       "        vertical-align: top;\n",
       "    }\n",
       "\n",
       "    .dataframe thead th {\n",
       "        text-align: right;\n",
       "    }\n",
       "</style>\n",
       "<table border=\"1\" class=\"dataframe\">\n",
       "  <thead>\n",
       "    <tr style=\"text-align: right;\">\n",
       "      <th></th>\n",
       "      <th>Booking Amount</th>\n",
       "    </tr>\n",
       "  </thead>\n",
       "  <tbody>\n",
       "    <tr>\n",
       "      <th>2018-09</th>\n",
       "      <td>12428619.10</td>\n",
       "    </tr>\n",
       "    <tr>\n",
       "      <th>2018-10</th>\n",
       "      <td>3263394.35</td>\n",
       "    </tr>\n",
       "    <tr>\n",
       "      <th>2018-11</th>\n",
       "      <td>5211160.28</td>\n",
       "    </tr>\n",
       "    <tr>\n",
       "      <th>2018-12</th>\n",
       "      <td>10767244.43</td>\n",
       "    </tr>\n",
       "    <tr>\n",
       "      <th>2019-01</th>\n",
       "      <td>2832417.42</td>\n",
       "    </tr>\n",
       "    <tr>\n",
       "      <th>2019-02</th>\n",
       "      <td>4959140.19</td>\n",
       "    </tr>\n",
       "    <tr>\n",
       "      <th>2019-03</th>\n",
       "      <td>8936129.41</td>\n",
       "    </tr>\n",
       "    <tr>\n",
       "      <th>2019-04</th>\n",
       "      <td>2135082.18</td>\n",
       "    </tr>\n",
       "    <tr>\n",
       "      <th>2019-05</th>\n",
       "      <td>4785810.63</td>\n",
       "    </tr>\n",
       "    <tr>\n",
       "      <th>2019-06</th>\n",
       "      <td>11463149.38</td>\n",
       "    </tr>\n",
       "  </tbody>\n",
       "</table>\n",
       "</div>"
      ],
      "text/plain": [
       "         Booking Amount\n",
       "2018-09     12428619.10\n",
       "2018-10      3263394.35\n",
       "2018-11      5211160.28\n",
       "2018-12     10767244.43\n",
       "2019-01      2832417.42\n",
       "2019-02      4959140.19\n",
       "2019-03      8936129.41\n",
       "2019-04      2135082.18\n",
       "2019-05      4785810.63\n",
       "2019-06     11463149.38"
      ]
     },
     "execution_count": 687,
     "metadata": {},
     "output_type": "execute_result"
    }
   ],
   "source": [
    "grouped_dataframe.tail(10)"
   ]
  },
  {
   "cell_type": "code",
   "execution_count": 688,
   "metadata": {},
   "outputs": [
    {
     "data": {
      "text/plain": [
       "(30, 1)"
      ]
     },
     "execution_count": 688,
     "metadata": {},
     "output_type": "execute_result"
    }
   ],
   "source": [
    "grouped_dataframe.shape"
   ]
  },
  {
   "cell_type": "markdown",
   "metadata": {},
   "source": [
    "## LSTM"
   ]
  },
  {
   "cell_type": "code",
   "execution_count": 689,
   "metadata": {},
   "outputs": [],
   "source": [
    "from keras.models import Sequential\n",
    "from keras.layers.normalization import BatchNormalization\n",
    "from keras.layers import Dense,Activation ,RepeatVector ,TimeDistributed\n",
    "from keras.layers import LSTM\n",
    "from sklearn.model_selection import train_test_split\n",
    "from numpy.random import seed\n",
    "from keras.models import load_model\n",
    "from sklearn.metrics import mean_squared_error"
   ]
  },
  {
   "cell_type": "markdown",
   "metadata": {},
   "source": [
    "#### Data preparation"
   ]
  },
  {
   "cell_type": "code",
   "execution_count": 690,
   "metadata": {},
   "outputs": [],
   "source": [
    "#datax = pd.read_csv('lstm_data.csv')\n",
    "#datax"
   ]
  },
  {
   "cell_type": "code",
   "execution_count": 691,
   "metadata": {},
   "outputs": [],
   "source": [
    "seed(1)\n",
    "lstm_data = pd.DataFrame(columns=['date' , 'monthly_booking_amount' , 'x1','x2','x3','y'])"
   ]
  },
  {
   "cell_type": "code",
   "execution_count": 692,
   "metadata": {},
   "outputs": [
    {
     "data": {
      "text/plain": [
       "(30, 2)"
      ]
     },
     "execution_count": 692,
     "metadata": {},
     "output_type": "execute_result"
    }
   ],
   "source": [
    "grouped_dataframe.reset_index(inplace=True)\n",
    "grouped_dataframe.shape"
   ]
  },
  {
   "cell_type": "code",
   "execution_count": 693,
   "metadata": {},
   "outputs": [],
   "source": [
    "lstm_data['date'] = grouped_dataframe['index']\n",
    "lstm_data['monthly_booking_amount'] = grouped_dataframe['Booking Amount']\n",
    "lstm_data['x1'] = grouped_dataframe['Booking Amount']\n",
    "lstm_data['x2'] = grouped_dataframe['Booking Amount'].shift(-1)\n",
    "lstm_data['x3'] = grouped_dataframe['Booking Amount'].shift(-2)\n",
    "lstm_data['y'] = grouped_dataframe['Booking Amount'].shift(-3)\n"
   ]
  },
  {
   "cell_type": "code",
   "execution_count": 694,
   "metadata": {},
   "outputs": [
    {
     "data": {
      "text/html": [
       "<div>\n",
       "<style scoped>\n",
       "    .dataframe tbody tr th:only-of-type {\n",
       "        vertical-align: middle;\n",
       "    }\n",
       "\n",
       "    .dataframe tbody tr th {\n",
       "        vertical-align: top;\n",
       "    }\n",
       "\n",
       "    .dataframe thead th {\n",
       "        text-align: right;\n",
       "    }\n",
       "</style>\n",
       "<table border=\"1\" class=\"dataframe\">\n",
       "  <thead>\n",
       "    <tr style=\"text-align: right;\">\n",
       "      <th></th>\n",
       "      <th>date</th>\n",
       "      <th>monthly_booking_amount</th>\n",
       "      <th>x1</th>\n",
       "      <th>x2</th>\n",
       "      <th>x3</th>\n",
       "      <th>y</th>\n",
       "    </tr>\n",
       "  </thead>\n",
       "  <tbody>\n",
       "    <tr>\n",
       "      <th>0</th>\n",
       "      <td>2017-01</td>\n",
       "      <td>2527827.75</td>\n",
       "      <td>2527827.75</td>\n",
       "      <td>2866864.31</td>\n",
       "      <td>6835771.27</td>\n",
       "      <td>2701422.16</td>\n",
       "    </tr>\n",
       "    <tr>\n",
       "      <th>1</th>\n",
       "      <td>2017-02</td>\n",
       "      <td>2866864.31</td>\n",
       "      <td>2866864.31</td>\n",
       "      <td>6835771.27</td>\n",
       "      <td>2701422.16</td>\n",
       "      <td>4076961.37</td>\n",
       "    </tr>\n",
       "    <tr>\n",
       "      <th>2</th>\n",
       "      <td>2017-03</td>\n",
       "      <td>6835771.27</td>\n",
       "      <td>6835771.27</td>\n",
       "      <td>2701422.16</td>\n",
       "      <td>4076961.37</td>\n",
       "      <td>9349451.07</td>\n",
       "    </tr>\n",
       "    <tr>\n",
       "      <th>3</th>\n",
       "      <td>2017-04</td>\n",
       "      <td>2701422.16</td>\n",
       "      <td>2701422.16</td>\n",
       "      <td>4076961.37</td>\n",
       "      <td>9349451.07</td>\n",
       "      <td>5869121.94</td>\n",
       "    </tr>\n",
       "    <tr>\n",
       "      <th>4</th>\n",
       "      <td>2017-05</td>\n",
       "      <td>4076961.37</td>\n",
       "      <td>4076961.37</td>\n",
       "      <td>9349451.07</td>\n",
       "      <td>5869121.94</td>\n",
       "      <td>16082636.71</td>\n",
       "    </tr>\n",
       "  </tbody>\n",
       "</table>\n",
       "</div>"
      ],
      "text/plain": [
       "     date  monthly_booking_amount          x1          x2          x3  \\\n",
       "0 2017-01              2527827.75  2527827.75  2866864.31  6835771.27   \n",
       "1 2017-02              2866864.31  2866864.31  6835771.27  2701422.16   \n",
       "2 2017-03              6835771.27  6835771.27  2701422.16  4076961.37   \n",
       "3 2017-04              2701422.16  2701422.16  4076961.37  9349451.07   \n",
       "4 2017-05              4076961.37  4076961.37  9349451.07  5869121.94   \n",
       "\n",
       "             y  \n",
       "0   2701422.16  \n",
       "1   4076961.37  \n",
       "2   9349451.07  \n",
       "3   5869121.94  \n",
       "4  16082636.71  "
      ]
     },
     "execution_count": 694,
     "metadata": {},
     "output_type": "execute_result"
    }
   ],
   "source": [
    "lstm_data.head()"
   ]
  },
  {
   "cell_type": "code",
   "execution_count": 695,
   "metadata": {},
   "outputs": [
    {
     "data": {
      "text/html": [
       "<div>\n",
       "<style scoped>\n",
       "    .dataframe tbody tr th:only-of-type {\n",
       "        vertical-align: middle;\n",
       "    }\n",
       "\n",
       "    .dataframe tbody tr th {\n",
       "        vertical-align: top;\n",
       "    }\n",
       "\n",
       "    .dataframe thead th {\n",
       "        text-align: right;\n",
       "    }\n",
       "</style>\n",
       "<table border=\"1\" class=\"dataframe\">\n",
       "  <thead>\n",
       "    <tr style=\"text-align: right;\">\n",
       "      <th></th>\n",
       "      <th>date</th>\n",
       "      <th>monthly_booking_amount</th>\n",
       "      <th>x1</th>\n",
       "      <th>x2</th>\n",
       "      <th>x3</th>\n",
       "      <th>y</th>\n",
       "    </tr>\n",
       "  </thead>\n",
       "  <tbody>\n",
       "    <tr>\n",
       "      <th>25</th>\n",
       "      <td>2019-02</td>\n",
       "      <td>4959140.19</td>\n",
       "      <td>4959140.19</td>\n",
       "      <td>8936129.41</td>\n",
       "      <td>2135082.18</td>\n",
       "      <td>4785810.63</td>\n",
       "    </tr>\n",
       "    <tr>\n",
       "      <th>26</th>\n",
       "      <td>2019-03</td>\n",
       "      <td>8936129.41</td>\n",
       "      <td>8936129.41</td>\n",
       "      <td>2135082.18</td>\n",
       "      <td>4785810.63</td>\n",
       "      <td>11463149.38</td>\n",
       "    </tr>\n",
       "    <tr>\n",
       "      <th>27</th>\n",
       "      <td>2019-04</td>\n",
       "      <td>2135082.18</td>\n",
       "      <td>2135082.18</td>\n",
       "      <td>4785810.63</td>\n",
       "      <td>11463149.38</td>\n",
       "      <td>NaN</td>\n",
       "    </tr>\n",
       "    <tr>\n",
       "      <th>28</th>\n",
       "      <td>2019-05</td>\n",
       "      <td>4785810.63</td>\n",
       "      <td>4785810.63</td>\n",
       "      <td>11463149.38</td>\n",
       "      <td>NaN</td>\n",
       "      <td>NaN</td>\n",
       "    </tr>\n",
       "    <tr>\n",
       "      <th>29</th>\n",
       "      <td>2019-06</td>\n",
       "      <td>11463149.38</td>\n",
       "      <td>11463149.38</td>\n",
       "      <td>NaN</td>\n",
       "      <td>NaN</td>\n",
       "      <td>NaN</td>\n",
       "    </tr>\n",
       "  </tbody>\n",
       "</table>\n",
       "</div>"
      ],
      "text/plain": [
       "      date  monthly_booking_amount           x1           x2           x3  \\\n",
       "25 2019-02              4959140.19   4959140.19   8936129.41   2135082.18   \n",
       "26 2019-03              8936129.41   8936129.41   2135082.18   4785810.63   \n",
       "27 2019-04              2135082.18   2135082.18   4785810.63  11463149.38   \n",
       "28 2019-05              4785810.63   4785810.63  11463149.38          NaN   \n",
       "29 2019-06             11463149.38  11463149.38          NaN          NaN   \n",
       "\n",
       "              y  \n",
       "25   4785810.63  \n",
       "26  11463149.38  \n",
       "27          NaN  \n",
       "28          NaN  \n",
       "29          NaN  "
      ]
     },
     "execution_count": 695,
     "metadata": {},
     "output_type": "execute_result"
    }
   ],
   "source": [
    "#data_x =  datax.loc[: , 'x1':].dropna()\n",
    "lstm_data.tail()"
   ]
  },
  {
   "cell_type": "code",
   "execution_count": 696,
   "metadata": {},
   "outputs": [],
   "source": [
    "new_data = lstm_data.loc[: , 'x1':].dropna()"
   ]
  },
  {
   "cell_type": "code",
   "execution_count": 697,
   "metadata": {},
   "outputs": [
    {
     "data": {
      "text/html": [
       "<div>\n",
       "<style scoped>\n",
       "    .dataframe tbody tr th:only-of-type {\n",
       "        vertical-align: middle;\n",
       "    }\n",
       "\n",
       "    .dataframe tbody tr th {\n",
       "        vertical-align: top;\n",
       "    }\n",
       "\n",
       "    .dataframe thead th {\n",
       "        text-align: right;\n",
       "    }\n",
       "</style>\n",
       "<table border=\"1\" class=\"dataframe\">\n",
       "  <thead>\n",
       "    <tr style=\"text-align: right;\">\n",
       "      <th></th>\n",
       "      <th>x1</th>\n",
       "      <th>x2</th>\n",
       "      <th>x3</th>\n",
       "      <th>y</th>\n",
       "    </tr>\n",
       "  </thead>\n",
       "  <tbody>\n",
       "    <tr>\n",
       "      <th>22</th>\n",
       "      <td>5211160.28</td>\n",
       "      <td>10767244.43</td>\n",
       "      <td>2832417.42</td>\n",
       "      <td>4959140.19</td>\n",
       "    </tr>\n",
       "    <tr>\n",
       "      <th>23</th>\n",
       "      <td>10767244.43</td>\n",
       "      <td>2832417.42</td>\n",
       "      <td>4959140.19</td>\n",
       "      <td>8936129.41</td>\n",
       "    </tr>\n",
       "    <tr>\n",
       "      <th>24</th>\n",
       "      <td>2832417.42</td>\n",
       "      <td>4959140.19</td>\n",
       "      <td>8936129.41</td>\n",
       "      <td>2135082.18</td>\n",
       "    </tr>\n",
       "    <tr>\n",
       "      <th>25</th>\n",
       "      <td>4959140.19</td>\n",
       "      <td>8936129.41</td>\n",
       "      <td>2135082.18</td>\n",
       "      <td>4785810.63</td>\n",
       "    </tr>\n",
       "    <tr>\n",
       "      <th>26</th>\n",
       "      <td>8936129.41</td>\n",
       "      <td>2135082.18</td>\n",
       "      <td>4785810.63</td>\n",
       "      <td>11463149.38</td>\n",
       "    </tr>\n",
       "  </tbody>\n",
       "</table>\n",
       "</div>"
      ],
      "text/plain": [
       "             x1           x2          x3            y\n",
       "22   5211160.28  10767244.43  2832417.42   4959140.19\n",
       "23  10767244.43   2832417.42  4959140.19   8936129.41\n",
       "24   2832417.42   4959140.19  8936129.41   2135082.18\n",
       "25   4959140.19   8936129.41  2135082.18   4785810.63\n",
       "26   8936129.41   2135082.18  4785810.63  11463149.38"
      ]
     },
     "execution_count": 697,
     "metadata": {},
     "output_type": "execute_result"
    }
   ],
   "source": [
    "new_data.tail()\n",
    "# data_x = data_x.loc[:114]\n",
    "# data_x.head()"
   ]
  },
  {
   "cell_type": "code",
   "execution_count": 698,
   "metadata": {},
   "outputs": [],
   "source": [
    "from sklearn.preprocessing import StandardScaler,MinMaxScaler\n",
    "#scaler = StandardScaler()\n",
    "scaler = MinMaxScaler(feature_range=(0, 1))\n",
    "scaled_df = pd.DataFrame(scaler.fit_transform(new_data) ,columns=['x1','x2','x3' , 'y'])"
   ]
  },
  {
   "cell_type": "code",
   "execution_count": 699,
   "metadata": {},
   "outputs": [],
   "source": [
    "x_train ,y_train = np.array(scaled_df.iloc[:-6 , :-1]) ,np.array(scaled_df.iloc[:-6 , -1])\n",
    "x_test ,y_test = np.array(scaled_df.iloc[-6: ,:-1]) , np.array(scaled_df.iloc[-6: , -1])"
   ]
  },
  {
   "cell_type": "code",
   "execution_count": 700,
   "metadata": {},
   "outputs": [],
   "source": [
    "x_train_reshaped = x_train.reshape((x_train.shape[0],1,x_train.shape[1]))\n",
    "y_train_reshaped =  y_train.reshape((y_train.shape[0],1,1))\n",
    "x_val_resaped =    x_test.reshape((x_test.shape[0],1,x_test.shape[1]))"
   ]
  },
  {
   "cell_type": "code",
   "execution_count": 701,
   "metadata": {},
   "outputs": [
    {
     "data": {
      "text/plain": [
       "(21, 1, 3)"
      ]
     },
     "execution_count": 701,
     "metadata": {},
     "output_type": "execute_result"
    }
   ],
   "source": [
    "x_train_reshaped.shape"
   ]
  },
  {
   "cell_type": "code",
   "execution_count": 707,
   "metadata": {},
   "outputs": [],
   "source": [
    "def modeling():\n",
    "    model = Sequential()\n",
    "    model.add(LSTM(380, return_sequences=True ))\n",
    "    model.add(Activation('tanh'))\n",
    "    model.add(LSTM(120, return_sequences=True))\n",
    "    model.add(Activation('tanh'))\n",
    "    model.add(LSTM(480, return_sequences=True))\n",
    "    model.add(Activation('tanh'))\n",
    "    model.add(LSTM(128, return_sequences=True))\n",
    "    model.add(BatchNormalization())\n",
    "    #model.add(LSTM(20 , return_sequences=True))\n",
    "    model.add(LSTM(520 , return_sequences=False))\n",
    "    model.add(Activation('tanh'))\n",
    "    model.add(BatchNormalization())\n",
    "    model.add(Dense(1,activation='linear'))\n",
    "    model.compile(loss='mse', optimizer='adam')\n",
    "    return model"
   ]
  },
  {
   "cell_type": "code",
   "execution_count": 709,
   "metadata": {},
   "outputs": [],
   "source": [
    "def training(x_train_reshaped ,y_train ,x_val_resaped ,y_test):\n",
    "    history = model.fit(x_train_reshaped, np.array(y_train), batch_size=11, epochs=150,\n",
    "                        validation_data=(x_val_resaped,y_test))\n",
    "    # summarize history for loss\n",
    "    plt.plot(history.history['loss'])\n",
    "    plt.plot(history.history['val_loss'])\n",
    "    plt.title('model loss')\n",
    "    plt.ylabel('loss')\n",
    "    plt.xlabel('epoch')\n",
    "    plt.legend(['train', 'test'], loc='upper right')\n",
    "    plt.show()\n",
    "    return model"
   ]
  },
  {
   "cell_type": "code",
   "execution_count": 712,
   "metadata": {},
   "outputs": [],
   "source": [
    "#compile_model = modeling()\n",
    "#model = training(x_train_reshaped ,y_train ,x_val_resaped ,y_test)"
   ]
  },
  {
   "cell_type": "code",
   "execution_count": null,
   "metadata": {},
   "outputs": [],
   "source": [
    "def predicion_validation(x_val_resaped ,model):\n",
    "    y_pre = model.predict(x_val_resaped)\n",
    "\n",
    "    ##index has to decide according to modeling \n",
    "\n",
    "    index = ['2019-1','2019-2','2019-3','2019-4','2019-5','2019-6']\n",
    "\n",
    "    forecast_pre = pd.DataFrame(columns=['x1','x2','x3','prediction'] ,  index =index)\n",
    "\n",
    "    forecast_pre.loc[: , ['x1','x2','x3']] = x_test\n",
    "\n",
    "    forecast_pre['prediction'] = y_pre\n",
    "\n",
    "    forecast_pre = pd.DataFrame(scaler.inverse_transform(forecast_pre.values) , columns=['x1','x2','x3','prediction'] ,  index = index)\n",
    "\n",
    "    forecast_pre['actual'] = new_data.iloc[-6:, -1:].values\n",
    "\n",
    "    error = mean_squared_error(forecast_pre['prediction'], forecast_pre['actual'])\n",
    "    print('Test MSE: %.3f' % error**0.5)\n",
    "\n",
    "    #model.save('model_america_ 1217953.595.h5')\n",
    "\n",
    "\n",
    "    forecast_pre.actual.plot()\n",
    "    forecast_pre.prediction.plot()\n",
    "    plt.legend()\n",
    "\n",
    "    forecast_pre['error'] = abs(forecast_pre.actual - forecast_pre.prediction)\n",
    "\n",
    "    forecast_pre['error_perc'] = forecast_pre['error'] / forecast_pre['actual'] * 100\n",
    "\n",
    "    #grouped_dataframe\n",
    "    print(forecast_pre)\n",
    "\n",
    "    print(np.sum(forecast_pre['prediction'].iloc[-3:]))\n",
    "\n",
    "\n",
    "    print(np.sum(forecast_pre['actual'].iloc[-3:]))"
   ]
  },
  {
   "cell_type": "code",
   "execution_count": 1,
   "metadata": {},
   "outputs": [],
   "source": [
    "### I HAVE USED STATEFULL AND SCOPE OF IMPROVEMENT --STATELESS AND STAIONARITY"
   ]
  },
  {
   "cell_type": "code",
   "execution_count": null,
   "metadata": {},
   "outputs": [],
   "source": [
    "##save model"
   ]
  },
  {
   "cell_type": "code",
   "execution_count": null,
   "metadata": {},
   "outputs": [],
   "source": [
    "#model.save('model_america_989345.524.h5')"
   ]
  },
  {
   "cell_type": "markdown",
   "metadata": {},
   "source": [
    "#### load model and predict"
   ]
  },
  {
   "cell_type": "code",
   "execution_count": null,
   "metadata": {},
   "outputs": [],
   "source": [
    "\n",
    "model = load_model('model_america_989345.524.h5')"
   ]
  },
  {
   "cell_type": "code",
   "execution_count": 703,
   "metadata": {},
   "outputs": [
    {
     "name": "stdout",
     "output_type": "stream",
     "text": [
      "Test MSE: 989345.524\n",
      "                 x1           x2           x3    prediction       actual  \\\n",
      "2019-1   3263394.35   5211160.28  10767244.43  3.182571e+06   2832417.42   \n",
      "2019-2   5211160.28  10767244.43   2832417.42  4.926654e+06   4959140.19   \n",
      "2019-3  10767244.43   2832417.42   4959140.19  9.860912e+06   8936129.41   \n",
      "2019-4   2832417.42   4959140.19   8936129.41  3.496641e+06   2135082.18   \n",
      "2019-5   4959140.19   8936129.41   2135082.18  4.769398e+06   4785810.63   \n",
      "2019-6   8936129.41   2135082.18   4785810.63  9.719638e+06  11463149.38   \n",
      "\n",
      "               error  error_perc  \n",
      "2019-1  3.501537e+05   12.362362  \n",
      "2019-2  3.248659e+04    0.655085  \n",
      "2019-3  9.247826e+05   10.348805  \n",
      "2019-4  1.361559e+06   63.770779  \n",
      "2019-5  1.641229e+04    0.342936  \n",
      "2019-6  1.743511e+06   15.209703  \n",
      "17985677.481948975\n",
      "18384042.18999999\n"
     ]
    },
    {
     "data": {
      "image/png": "[encoded data removed]",
      "text/plain": [
       "<Figure size 432x288 with 1 Axes>"
      ]
     },
     "metadata": {},
     "output_type": "display_data"
    }
   ],
   "source": [
    "predicion_validation(x_val_resaped ,model ,x_test)"
   ]
  },
  {
   "cell_type": "code",
   "execution_count": 704,
   "metadata": {},
   "outputs": [],
   "source": [
    "def prediction(model , test ,scaler,n):\n",
    "    output_result = pd.DataFrame(columns= [1 ,2 ,3 ,4] , index=range(n//3))\n",
    "    loc = 0\n",
    "    for i in range(1,n+1):\n",
    "        test_reshape=np.reshape(test,(1, test.shape[0],test.shape[1]))\n",
    "        predict = model.predict(test_reshape)\n",
    "        x = [3 if i%3==0 else i%3]\n",
    "        output_result.loc[loc][x]= predict[0][0]\n",
    "        #print(loc , \"loc\")\n",
    "        if i % 3 == 0 and i >= 3:\n",
    "            loc  = loc+1 \n",
    "            #print(loc,i)\n",
    "        test = np.append(test , predict ,axis=1)[: ,1:]\n",
    "        #print(predict , test.shape)\n",
    "    output_result[4] = output_result[3]\n",
    "    #print(output_result)\n",
    "    output = scaler.inverse_transform(output_result.values)[: , :-1]\n",
    "    list1 = []\n",
    "    \n",
    "    list1.append(sum(output[0]))\n",
    "    list1.append(sum(output[1]))\n",
    "    result = pd.DataFrame(list1  , index=['19q3' , '19q4'] ,columns=['y'])\n",
    "    return result ,output"
   ]
  },
  {
   "cell_type": "code",
   "execution_count": 705,
   "metadata": {},
   "outputs": [],
   "source": [
    "#x_train_reshaped[-1]"
   ]
  },
  {
   "cell_type": "code",
   "execution_count": 706,
   "metadata": {
    "scrolled": true
   },
   "outputs": [
    {
     "name": "stdout",
     "output_type": "stream",
     "text": [
      "                 y\n",
      "19q3  1.870254e+07\n",
      "19q4  1.996675e+07\n"
     ]
    },
    {
     "data": {
      "text/plain": [
       "array([[ 9898812.4318195 ,  3160886.06547275,  5642836.59089544],\n",
       "       [10694888.87011223,  3593324.62565276,  5678531.79496593]])"
      ]
     },
     "execution_count": 706,
     "metadata": {},
     "output_type": "execute_result"
    }
   ],
   "source": [
    "result ,output = prediction(model , x_val_resaped[-1] ,scaler ,6)\n",
    "#print(sum(result))\n",
    "print(result)\n",
    "#output\n",
    "output"
   ]
  },
  {
   "cell_type": "code",
   "execution_count": null,
   "metadata": {},
   "outputs": [],
   "source": []
  },
  {
   "cell_type": "code",
   "execution_count": null,
   "metadata": {},
   "outputs": [],
   "source": [
    "#grouped_dataframe[['Booking Amount']]['2011-01': '2016-11'].describe()"
   ]
  },
  {
   "cell_type": "code",
   "execution_count": null,
   "metadata": {},
   "outputs": [],
   "source": [
    "#grouped_dataframe[['Booking Amount']]['2017-01': '2018-12'].describe()"
   ]
  },
  {
   "cell_type": "code",
   "execution_count": null,
   "metadata": {},
   "outputs": [],
   "source": [
    "#grouped_dataframe[['Booking Amount']]"
   ]
  },
  {
   "cell_type": "code",
   "execution_count": 566,
   "metadata": {},
   "outputs": [
    {
     "data": {
      "text/plain": [
       "(6, 3, 1)"
      ]
     },
     "execution_count": 566,
     "metadata": {},
     "output_type": "execute_result"
    }
   ],
   "source": [
    "x_val_resaped.shape"
   ]
  },
  {
   "cell_type": "code",
   "execution_count": null,
   "metadata": {},
   "outputs": [],
   "source": []
  }
 ],
 "metadata": {
  "kernelspec": {
   "display_name": "Python 3",
   "language": "python",
   "name": "python3"
  },
  "language_info": {
   "codemirror_mode": {
    "name": "ipython",
    "version": 3
   },
   "file_extension": ".py",
   "mimetype": "text/x-python",
   "name": "python",
   "nbconvert_exporter": "python",
   "pygments_lexer": "ipython3",
   "version": "3.6.5"
  }
 },
 "nbformat": 4,
 "nbformat_minor": 2
}
