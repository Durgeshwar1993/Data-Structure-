{
 "cells": [
  {
   "cell_type": "code",
   "execution_count": 77,
   "metadata": {},
   "outputs": [],
   "source": [
    "from keras.datasets import mnist\n",
    "from keras.models import Sequential\n",
    "from keras.layers import Convolution2D, MaxPooling2D, Activation ,Dense ,Dropout , Flatten\n",
    "from keras.utils import np_utils\n",
    "import matplotlib.pyplot as plt"
   ]
  },
  {
   "cell_type": "code",
   "execution_count": 78,
   "metadata": {},
   "outputs": [],
   "source": [
    "batch_size = 128\n",
    "nb_classes = 10\n",
    "nb_epochs = 15\n",
    "img_rows,img_col = 28,28\n",
    "nb_filters = 32\n",
    "nb_pool = 2\n",
    "nb_conv = 3\n"
   ]
  },
  {
   "cell_type": "code",
   "execution_count": 79,
   "metadata": {},
   "outputs": [],
   "source": [
    "(X_train,y_train) , (X_test,y_test) = mnist.load_data()"
   ]
  },
  {
   "cell_type": "code",
   "execution_count": 123,
   "metadata": {},
   "outputs": [
    {
     "data": {
      "text/plain": [
       "(60000, 28, 28, 1)"
      ]
     },
     "execution_count": 123,
     "metadata": {},
     "output_type": "execute_result"
    }
   ],
   "source": [
    "X_train.shape"
   ]
  },
  {
   "cell_type": "code",
   "execution_count": 81,
   "metadata": {},
   "outputs": [
    {
     "data": {
      "text/plain": [
       "(60000,)"
      ]
     },
     "execution_count": 81,
     "metadata": {},
     "output_type": "execute_result"
    }
   ],
   "source": [
    "y_train.shape"
   ]
  },
  {
   "cell_type": "code",
   "execution_count": 105,
   "metadata": {},
   "outputs": [],
   "source": [
    "X_train = X_train.reshape(X_train.shape[0] , img_rows ,img_col ,1)\n",
    "X_test = X_test.reshape(X_test.shape[0] , img_rows ,img_col,1)"
   ]
  },
  {
   "cell_type": "code",
   "execution_count": 83,
   "metadata": {},
   "outputs": [],
   "source": [
    "X_train = X_train.astype('float32')\n",
    "X_test = X_test.astype('float32')"
   ]
  },
  {
   "cell_type": "code",
   "execution_count": 84,
   "metadata": {},
   "outputs": [],
   "source": [
    "X_train /= 255\n",
    "X_test /= 255"
   ]
  },
  {
   "cell_type": "code",
   "execution_count": 85,
   "metadata": {},
   "outputs": [
    {
     "name": "stdout",
     "output_type": "stream",
     "text": [
      "(60000, 1, 28, 28) (10000, 1, 28, 28)\n"
     ]
    }
   ],
   "source": [
    "print(X_train.shape , X_test.shape)"
   ]
  },
  {
   "cell_type": "code",
   "execution_count": 86,
   "metadata": {},
   "outputs": [],
   "source": [
    "y_train = np_utils.to_categorical(y_train ,nb_classes)\n",
    "y_test = np_utils.to_categorical(y_test ,nb_classes)"
   ]
  },
  {
   "cell_type": "code",
   "execution_count": 87,
   "metadata": {},
   "outputs": [
    {
     "data": {
      "text/plain": [
       "<matplotlib.image.AxesImage at 0x20e58e56da0>"
      ]
     },
     "execution_count": 87,
     "metadata": {},
     "output_type": "execute_result"
    },
    {
     "data": {
      "image/png": "[encoded data removed]",
      "text/plain": [
       "<matplotlib.figure.Figure at 0x20e58f46fd0>"
      ]
     },
     "metadata": {},
     "output_type": "display_data"
    }
   ],
   "source": [
    "i = 4600\n",
    "plt.imshow(X_train[i ,0] , interpolation='nearest')"
   ]
  },
  {
   "cell_type": "code",
   "execution_count": 88,
   "metadata": {},
   "outputs": [
    {
     "name": "stdout",
     "output_type": "stream",
     "text": [
      "label [0. 0. 0. 0. 0. 1. 0. 0. 0. 0.]\n"
     ]
    }
   ],
   "source": [
    "print('label' ,y_train[4600 ,:])"
   ]
  },
  {
   "cell_type": "markdown",
   "metadata": {},
   "source": [
    "## model"
   ]
  },
  {
   "cell_type": "code",
   "execution_count": 97,
   "metadata": {},
   "outputs": [],
   "source": [
    "model = Sequential()"
   ]
  },
  {
   "cell_type": "code",
   "execution_count": 98,
   "metadata": {},
   "outputs": [],
   "source": [
    "model.add(Convolution2D(32 ,(3,3) ,input_shape =(img_col ,img_rows,1)))\n",
    "model.add(Activation('relu'))\n",
    "model.add(Convolution2D(32,(3,3)))\n",
    "model.add(Activation('relu'))\n",
    "model.add(MaxPooling2D(pool_size=(2,2)))\n",
    "model.add(Dropout(0.25))\n"
   ]
  },
  {
   "cell_type": "code",
   "execution_count": 99,
   "metadata": {},
   "outputs": [],
   "source": [
    "model.add(Flatten())\n",
    "model.add(Dense(128))"
   ]
  },
  {
   "cell_type": "code",
   "execution_count": 101,
   "metadata": {},
   "outputs": [],
   "source": [
    "model.add(Activation('relu'))\n",
    "model.add(Dropout(0.5))\n",
    "model.add(Dense(nb_classes))\n",
    "model.add(Activation(\"softmax\"))"
   ]
  },
  {
   "cell_type": "code",
   "execution_count": 103,
   "metadata": {},
   "outputs": [],
   "source": [
    "model.compile(loss='categorical_crossentropy',\n",
    "              optimizer='adadelta',\n",
    "              metrics=['accuracy'])"
   ]
  },
  {
   "cell_type": "code",
   "execution_count": 118,
   "metadata": {},
   "outputs": [
    {
     "name": "stdout",
     "output_type": "stream",
     "text": [
      "Train on 60000 samples, validate on 10000 samples\n",
      "Epoch 1/15\n",
      "60000/60000 [==============================] - 195s 3ms/step - loss: 0.0894 - acc: 0.9737 - val_loss: 0.0396 - val_acc: 0.9866\n",
      "Epoch 2/15\n",
      "60000/60000 [==============================] - 195s 3ms/step - loss: 0.0689 - acc: 0.9794 - val_loss: 0.0351 - val_acc: 0.9881\n",
      "Epoch 3/15\n",
      "60000/60000 [==============================] - 210s 3ms/step - loss: 0.0583 - acc: 0.9825 - val_loss: 0.0342 - val_acc: 0.9891\n",
      "Epoch 4/15\n",
      "60000/60000 [==============================] - 159s 3ms/step - loss: 0.0513 - acc: 0.9847 - val_loss: 0.0300 - val_acc: 0.9898\n",
      "Epoch 5/15\n",
      "60000/60000 [==============================] - 157s 3ms/step - loss: 0.0459 - acc: 0.9857 - val_loss: 0.0279 - val_acc: 0.9900\n",
      "Epoch 6/15\n",
      "60000/60000 [==============================] - 157s 3ms/step - loss: 0.0412 - acc: 0.9873 - val_loss: 0.0294 - val_acc: 0.9908\n",
      "Epoch 7/15\n",
      "60000/60000 [==============================] - 144s 2ms/step - loss: 0.0383 - acc: 0.9882 - val_loss: 0.0279 - val_acc: 0.9900\n",
      "Epoch 8/15\n",
      "60000/60000 [==============================] - 137s 2ms/step - loss: 0.0356 - acc: 0.9887 - val_loss: 0.0275 - val_acc: 0.9913\n",
      "Epoch 9/15\n",
      "60000/60000 [==============================] - 133s 2ms/step - loss: 0.0348 - acc: 0.9894 - val_loss: 0.0256 - val_acc: 0.9909\n",
      "Epoch 10/15\n",
      "60000/60000 [==============================] - 139s 2ms/step - loss: 0.0322 - acc: 0.9903 - val_loss: 0.0265 - val_acc: 0.9911\n",
      "Epoch 11/15\n",
      "60000/60000 [==============================] - 135s 2ms/step - loss: 0.0305 - acc: 0.9906 - val_loss: 0.0277 - val_acc: 0.9913\n",
      "Epoch 12/15\n",
      "60000/60000 [==============================] - 133s 2ms/step - loss: 0.0301 - acc: 0.9904 - val_loss: 0.0258 - val_acc: 0.9920\n",
      "Epoch 13/15\n",
      "60000/60000 [==============================] - 129s 2ms/step - loss: 0.0285 - acc: 0.9917 - val_loss: 0.0244 - val_acc: 0.9918\n",
      "Epoch 14/15\n",
      "60000/60000 [==============================] - 135s 2ms/step - loss: 0.0263 - acc: 0.9915 - val_loss: 0.0260 - val_acc: 0.9924\n",
      "Epoch 15/15\n",
      "60000/60000 [==============================] - 138s 2ms/step - loss: 0.0268 - acc: 0.9916 - val_loss: 0.0253 - val_acc: 0.9929\n"
     ]
    },
    {
     "ename": "TypeError",
     "evalue": "Unrecognized keyword arguments: {'show_accuracy': True}",
     "output_type": "error",
     "traceback": [
      "\u001b[1;31m---------------------------------------------------------------------------\u001b[0m",
      "\u001b[1;31mTypeError\u001b[0m                                 Traceback (most recent call last)",
      "\u001b[1;32m<ipython-input-118-13809f4dd3fc>\u001b[0m in \u001b[0;36m<module>\u001b[1;34m()\u001b[0m\n\u001b[0;32m      1\u001b[0m \u001b[0mmodel\u001b[0m\u001b[1;33m.\u001b[0m\u001b[0mfit\u001b[0m\u001b[1;33m(\u001b[0m\u001b[0mX_train\u001b[0m \u001b[1;33m,\u001b[0m\u001b[0my_train\u001b[0m \u001b[1;33m,\u001b[0m\u001b[0mbatch_size\u001b[0m \u001b[1;33m=\u001b[0m \u001b[0mbatch_size\u001b[0m \u001b[1;33m,\u001b[0m\u001b[0mepochs\u001b[0m \u001b[1;33m=\u001b[0m \u001b[0mnb_epochs\u001b[0m\u001b[1;33m,\u001b[0m\u001b[0mverbose\u001b[0m \u001b[1;33m=\u001b[0m \u001b[1;36m1\u001b[0m \u001b[1;33m,\u001b[0m \u001b[0mvalidation_data\u001b[0m\u001b[1;33m=\u001b[0m\u001b[1;33m(\u001b[0m\u001b[0mX_test\u001b[0m\u001b[1;33m,\u001b[0m\u001b[0my_test\u001b[0m\u001b[1;33m)\u001b[0m\u001b[1;33m)\u001b[0m\u001b[1;33m\u001b[0m\u001b[0m\n\u001b[1;32m----> 2\u001b[1;33m \u001b[0mmodel\u001b[0m\u001b[1;33m.\u001b[0m\u001b[0mfit\u001b[0m\u001b[1;33m(\u001b[0m\u001b[0mX_train\u001b[0m \u001b[1;33m,\u001b[0m\u001b[0my_train\u001b[0m \u001b[1;33m,\u001b[0m\u001b[0mbatch_size\u001b[0m \u001b[1;33m=\u001b[0m \u001b[0mbatch_size\u001b[0m \u001b[1;33m,\u001b[0m\u001b[0mepochs\u001b[0m \u001b[1;33m=\u001b[0m \u001b[0mnb_epochs\u001b[0m\u001b[1;33m,\u001b[0m\u001b[0mverbose\u001b[0m \u001b[1;33m=\u001b[0m \u001b[1;36m1\u001b[0m \u001b[1;33m,\u001b[0m \u001b[0mvalidation_split\u001b[0m \u001b[1;33m=\u001b[0m \u001b[1;36m0.2\u001b[0m \u001b[1;33m,\u001b[0m \u001b[0mshow_accuracy\u001b[0m \u001b[1;33m=\u001b[0m \u001b[1;32mTrue\u001b[0m\u001b[1;33m)\u001b[0m\u001b[1;33m\u001b[0m\u001b[0m\n\u001b[0m",
      "\u001b[1;32m~\\AppData\\Local\\Continuum\\anaconda3\\lib\\site-packages\\keras\\models.py\u001b[0m in \u001b[0;36mfit\u001b[1;34m(self, x, y, batch_size, epochs, verbose, callbacks, validation_split, validation_data, shuffle, class_weight, sample_weight, initial_epoch, steps_per_epoch, validation_steps, **kwargs)\u001b[0m\n\u001b[0;32m    983\u001b[0m             \u001b[0mepochs\u001b[0m \u001b[1;33m=\u001b[0m \u001b[0mkwargs\u001b[0m\u001b[1;33m.\u001b[0m\u001b[0mpop\u001b[0m\u001b[1;33m(\u001b[0m\u001b[1;34m'nb_epoch'\u001b[0m\u001b[1;33m)\u001b[0m\u001b[1;33m\u001b[0m\u001b[0m\n\u001b[0;32m    984\u001b[0m         \u001b[1;32mif\u001b[0m \u001b[0mkwargs\u001b[0m\u001b[1;33m:\u001b[0m\u001b[1;33m\u001b[0m\u001b[0m\n\u001b[1;32m--> 985\u001b[1;33m             \u001b[1;32mraise\u001b[0m \u001b[0mTypeError\u001b[0m\u001b[1;33m(\u001b[0m\u001b[1;34m'Unrecognized keyword arguments: '\u001b[0m \u001b[1;33m+\u001b[0m \u001b[0mstr\u001b[0m\u001b[1;33m(\u001b[0m\u001b[0mkwargs\u001b[0m\u001b[1;33m)\u001b[0m\u001b[1;33m)\u001b[0m\u001b[1;33m\u001b[0m\u001b[0m\n\u001b[0m\u001b[0;32m    986\u001b[0m \u001b[1;33m\u001b[0m\u001b[0m\n\u001b[0;32m    987\u001b[0m         \u001b[1;32mif\u001b[0m \u001b[1;32mnot\u001b[0m \u001b[0mself\u001b[0m\u001b[1;33m.\u001b[0m\u001b[0mbuilt\u001b[0m\u001b[1;33m:\u001b[0m\u001b[1;33m\u001b[0m\u001b[0m\n",
      "\u001b[1;31mTypeError\u001b[0m: Unrecognized keyword arguments: {'show_accuracy': True}"
     ]
    }
   ],
   "source": [
    "model.fit(X_train ,y_train ,batch_size = batch_size ,epochs = nb_epochs,verbose = 1 , validation_data=(X_test,y_test))\n",
    "model.fit(X_train ,y_train ,batch_size = batch_size ,epochs = nb_epochs,verbose = 1 , validation_split = 0.2 )"
   ]
  },
  {
   "cell_type": "code",
   "execution_count": 121,
   "metadata": {},
   "outputs": [
    {
     "name": "stdout",
     "output_type": "stream",
     "text": [
      "test_score 0.025286793108575057\n",
      "test_score 0.9929\n",
      "[2 1 0 4]\n",
      "[[0. 0. 1. 0. 0. 0. 0. 0. 0. 0.]\n",
      " [0. 1. 0. 0. 0. 0. 0. 0. 0. 0.]\n",
      " [1. 0. 0. 0. 0. 0. 0. 0. 0. 0.]\n",
      " [0. 0. 0. 0. 1. 0. 0. 0. 0. 0.]]\n"
     ]
    }
   ],
   "source": [
    "score = model.evaluate(X_test,y_test,verbose = 0)\n",
    "print('test_score' , score[0])\n",
    "print('test_score' , score[1])\n",
    "print(model.predict_classes(X_test[1:5]))\n",
    "print(y_test[1:5])"
   ]
  },
  {
   "cell_type": "code",
   "execution_count": 125,
   "metadata": {},
   "outputs": [
    {
     "name": "stdout",
     "output_type": "stream",
     "text": [
      "_________________________________________________________________\n",
      "Layer (type)                 Output Shape              Param #   \n",
      "=================================================================\n",
      "conv2d_31 (Conv2D)           (None, 26, 26, 32)        320       \n",
      "_________________________________________________________________\n",
      "activation_13 (Activation)   (None, 26, 26, 32)        0         \n",
      "_________________________________________________________________\n",
      "conv2d_32 (Conv2D)           (None, 24, 24, 32)        9248      \n",
      "_________________________________________________________________\n",
      "activation_14 (Activation)   (None, 24, 24, 32)        0         \n",
      "_________________________________________________________________\n",
      "max_pooling2d_3 (MaxPooling2 (None, 12, 12, 32)        0         \n",
      "_________________________________________________________________\n",
      "dropout_2 (Dropout)          (None, 12, 12, 32)        0         \n",
      "_________________________________________________________________\n",
      "flatten_6 (Flatten)          (None, 4608)              0         \n",
      "_________________________________________________________________\n",
      "dense_1 (Dense)              (None, 128)               589952    \n",
      "_________________________________________________________________\n",
      "activation_15 (Activation)   (None, 128)               0         \n",
      "_________________________________________________________________\n",
      "activation_16 (Activation)   (None, 128)               0         \n",
      "_________________________________________________________________\n",
      "dropout_3 (Dropout)          (None, 128)               0         \n",
      "_________________________________________________________________\n",
      "dense_2 (Dense)              (None, 10)                1290      \n",
      "_________________________________________________________________\n",
      "activation_17 (Activation)   (None, 10)                0         \n",
      "=================================================================\n",
      "Total params: 600,810\n",
      "Trainable params: 600,810\n",
      "Non-trainable params: 0\n",
      "_________________________________________________________________\n"
     ]
    }
   ],
   "source": [
    "model.summary()"
   ]
  },
  {
   "cell_type": "code",
   "execution_count": 126,
   "metadata": {},
   "outputs": [
    {
     "data": {
      "text/plain": [
       "[{'class_name': 'Conv2D',\n",
       "  'config': {'activation': 'linear',\n",
       "   'activity_regularizer': None,\n",
       "   'batch_input_shape': (None, 28, 28, 1),\n",
       "   'bias_constraint': None,\n",
       "   'bias_initializer': {'class_name': 'Zeros', 'config': {}},\n",
       "   'bias_regularizer': None,\n",
       "   'data_format': 'channels_last',\n",
       "   'dilation_rate': (1, 1),\n",
       "   'dtype': 'float32',\n",
       "   'filters': 32,\n",
       "   'kernel_constraint': None,\n",
       "   'kernel_initializer': {'class_name': 'VarianceScaling',\n",
       "    'config': {'distribution': 'uniform',\n",
       "     'mode': 'fan_avg',\n",
       "     'scale': 1.0,\n",
       "     'seed': None}},\n",
       "   'kernel_regularizer': None,\n",
       "   'kernel_size': (3, 3),\n",
       "   'name': 'conv2d_31',\n",
       "   'padding': 'valid',\n",
       "   'strides': (1, 1),\n",
       "   'trainable': True,\n",
       "   'use_bias': True}},\n",
       " {'class_name': 'Activation',\n",
       "  'config': {'activation': 'relu',\n",
       "   'name': 'activation_13',\n",
       "   'trainable': True}},\n",
       " {'class_name': 'Conv2D',\n",
       "  'config': {'activation': 'linear',\n",
       "   'activity_regularizer': None,\n",
       "   'bias_constraint': None,\n",
       "   'bias_initializer': {'class_name': 'Zeros', 'config': {}},\n",
       "   'bias_regularizer': None,\n",
       "   'data_format': 'channels_last',\n",
       "   'dilation_rate': (1, 1),\n",
       "   'filters': 32,\n",
       "   'kernel_constraint': None,\n",
       "   'kernel_initializer': {'class_name': 'VarianceScaling',\n",
       "    'config': {'distribution': 'uniform',\n",
       "     'mode': 'fan_avg',\n",
       "     'scale': 1.0,\n",
       "     'seed': None}},\n",
       "   'kernel_regularizer': None,\n",
       "   'kernel_size': (3, 3),\n",
       "   'name': 'conv2d_32',\n",
       "   'padding': 'valid',\n",
       "   'strides': (1, 1),\n",
       "   'trainable': True,\n",
       "   'use_bias': True}},\n",
       " {'class_name': 'Activation',\n",
       "  'config': {'activation': 'relu',\n",
       "   'name': 'activation_14',\n",
       "   'trainable': True}},\n",
       " {'class_name': 'MaxPooling2D',\n",
       "  'config': {'data_format': 'channels_last',\n",
       "   'name': 'max_pooling2d_3',\n",
       "   'padding': 'valid',\n",
       "   'pool_size': (2, 2),\n",
       "   'strides': (2, 2),\n",
       "   'trainable': True}},\n",
       " {'class_name': 'Dropout',\n",
       "  'config': {'name': 'dropout_2',\n",
       "   'noise_shape': None,\n",
       "   'rate': 0.25,\n",
       "   'seed': None,\n",
       "   'trainable': True}},\n",
       " {'class_name': 'Flatten',\n",
       "  'config': {'data_format': 'channels_last',\n",
       "   'name': 'flatten_6',\n",
       "   'trainable': True}},\n",
       " {'class_name': 'Dense',\n",
       "  'config': {'activation': 'linear',\n",
       "   'activity_regularizer': None,\n",
       "   'bias_constraint': None,\n",
       "   'bias_initializer': {'class_name': 'Zeros', 'config': {}},\n",
       "   'bias_regularizer': None,\n",
       "   'kernel_constraint': None,\n",
       "   'kernel_initializer': {'class_name': 'VarianceScaling',\n",
       "    'config': {'distribution': 'uniform',\n",
       "     'mode': 'fan_avg',\n",
       "     'scale': 1.0,\n",
       "     'seed': None}},\n",
       "   'kernel_regularizer': None,\n",
       "   'name': 'dense_1',\n",
       "   'trainable': True,\n",
       "   'units': 128,\n",
       "   'use_bias': True}},\n",
       " {'class_name': 'Activation',\n",
       "  'config': {'activation': 'relu',\n",
       "   'name': 'activation_15',\n",
       "   'trainable': True}},\n",
       " {'class_name': 'Activation',\n",
       "  'config': {'activation': 'relu',\n",
       "   'name': 'activation_16',\n",
       "   'trainable': True}},\n",
       " {'class_name': 'Dropout',\n",
       "  'config': {'name': 'dropout_3',\n",
       "   'noise_shape': None,\n",
       "   'rate': 0.5,\n",
       "   'seed': None,\n",
       "   'trainable': True}},\n",
       " {'class_name': 'Dense',\n",
       "  'config': {'activation': 'linear',\n",
       "   'activity_regularizer': None,\n",
       "   'bias_constraint': None,\n",
       "   'bias_initializer': {'class_name': 'Zeros', 'config': {}},\n",
       "   'bias_regularizer': None,\n",
       "   'kernel_constraint': None,\n",
       "   'kernel_initializer': {'class_name': 'VarianceScaling',\n",
       "    'config': {'distribution': 'uniform',\n",
       "     'mode': 'fan_avg',\n",
       "     'scale': 1.0,\n",
       "     'seed': None}},\n",
       "   'kernel_regularizer': None,\n",
       "   'name': 'dense_2',\n",
       "   'trainable': True,\n",
       "   'units': 10,\n",
       "   'use_bias': True}},\n",
       " {'class_name': 'Activation',\n",
       "  'config': {'activation': 'softmax',\n",
       "   'name': 'activation_17',\n",
       "   'trainable': True}}]"
      ]
     },
     "execution_count": 126,
     "metadata": {},
     "output_type": "execute_result"
    }
   ],
   "source": [
    "model.get_config()"
   ]
  },
  {
   "cell_type": "code",
   "execution_count": 127,
   "metadata": {},
   "outputs": [
    {
     "data": {
      "text/plain": [
       "[array([[[[-0.21899521,  0.18920955,  0.24761179,  0.03470551,\n",
       "           -0.22882004,  0.06892455, -0.04462238,  0.27603906,\n",
       "            0.23980361,  0.15194032,  0.22549354, -0.131482  ,\n",
       "           -0.0274996 ,  0.1787243 ,  0.28629467,  0.10594008,\n",
       "           -0.22884281, -0.33275035,  0.04885638, -0.33938256,\n",
       "            0.16188398, -0.15091413,  0.05446226, -0.05894794,\n",
       "            0.00449469, -0.08648102,  0.35727143,  0.1316511 ,\n",
       "            0.30504605, -0.09182224, -0.2965341 , -0.07159112]],\n",
       " \n",
       "         [[-0.34204683,  0.03513836,  0.24072783, -0.10687273,\n",
       "           -0.2768028 ,  0.3337129 , -0.3922533 , -0.0917398 ,\n",
       "            0.18381982, -0.13720183,  0.0981345 , -0.03538546,\n",
       "           -0.19099511,  0.07816358,  0.19711278,  0.03702513,\n",
       "            0.04281265, -0.0971755 ,  0.08289573, -0.18298985,\n",
       "            0.0822572 ,  0.20498429, -0.1150997 ,  0.16171472,\n",
       "            0.19479795,  0.10830338, -0.0506357 , -0.19486155,\n",
       "            0.2822808 ,  0.05373726, -0.26611516, -0.00897339]],\n",
       " \n",
       "         [[-0.18181673,  0.21300803, -0.04291043,  0.21175925,\n",
       "            0.11632788,  0.12271722, -0.20346211, -0.34295985,\n",
       "            0.22188935, -0.30344114,  0.11769085,  0.04424784,\n",
       "           -0.01312963,  0.01971231,  0.2473254 , -0.10781078,\n",
       "            0.2721217 , -0.05450172,  0.2698549 ,  0.00238532,\n",
       "            0.18883722,  0.15478101, -0.29041335, -0.33765593,\n",
       "            0.17959444,  0.21589604, -0.41297558, -0.20735925,\n",
       "            0.4596503 ,  0.19254734, -0.00768537,  0.2128094 ]]],\n",
       " \n",
       " \n",
       "        [[[ 0.14300457,  0.1997362 ,  0.25144926,  0.0709945 ,\n",
       "           -0.2675125 ,  0.1995902 , -0.00389794,  0.21259068,\n",
       "           -0.07644724,  0.08031496,  0.21592128,  0.03717721,\n",
       "            0.20165691,  0.19830322,  0.04843896,  0.22088563,\n",
       "           -0.3267297 , -0.07188062, -0.281775  ,  0.17355573,\n",
       "            0.13534763, -0.2908453 ,  0.1291005 , -0.2006973 ,\n",
       "           -0.3712674 , -0.10032101,  0.14993282,  0.09744652,\n",
       "           -0.10736068,  0.00873858, -0.20676896, -0.2524529 ]],\n",
       " \n",
       "         [[ 0.10387264, -0.0863276 ,  0.08653203,  0.13507123,\n",
       "            0.01853486,  0.00631216, -0.08394749,  0.05414889,\n",
       "            0.10036056,  0.06441212, -0.25351128,  0.0719237 ,\n",
       "           -0.31607947,  0.09189466, -0.11187512, -0.13816965,\n",
       "           -0.05858953,  0.19827922,  0.1011714 ,  0.19121444,\n",
       "            0.13526855, -0.05780346, -0.21750335,  0.18266663,\n",
       "           -0.46328545,  0.152056  , -0.22271106, -0.12126221,\n",
       "           -0.02949515, -0.02461985,  0.07430778,  0.05610048]],\n",
       " \n",
       "         [[-0.05231576,  0.07864329, -0.2578436 ,  0.18823534,\n",
       "            0.20582671, -0.24911264,  0.0759856 , -0.19317318,\n",
       "           -0.06006349, -0.12607287, -0.20452635,  0.19202776,\n",
       "           -0.08876662, -0.2994019 ,  0.10926598, -0.1575871 ,\n",
       "            0.13465992,  0.03886731,  0.01063815,  0.21802653,\n",
       "           -0.1239652 ,  0.24378647, -0.07685937, -0.04990717,\n",
       "           -0.38748536,  0.16380319, -0.40842342, -0.16141976,\n",
       "            0.04898793,  0.1261002 ,  0.25628275,  0.05734539]]],\n",
       " \n",
       " \n",
       "        [[[ 0.13215065, -0.15918712,  0.09990641, -0.29351228,\n",
       "            0.12546492,  0.15847448,  0.28792042, -0.1103051 ,\n",
       "           -0.3943788 ,  0.192104  ,  0.04429598, -0.13303009,\n",
       "            0.32705298,  0.08766402, -0.3602569 ,  0.23422194,\n",
       "           -0.1443922 ,  0.06288078, -0.33376372,  0.15473485,\n",
       "           -0.02952629, -0.17374067,  0.20837829, -0.05398994,\n",
       "            0.12002106, -0.02743934, -0.05177273,  0.16457498,\n",
       "           -0.3589748 ,  0.26472008, -0.07630169, -0.08492365]],\n",
       " \n",
       "         [[ 0.09633315, -0.27907595, -0.25003493, -0.14881042,\n",
       "            0.14434437, -0.1067824 ,  0.28464508,  0.19197057,\n",
       "           -0.36011755,  0.24559139,  0.0328052 ,  0.06688518,\n",
       "            0.05238522,  0.10493422, -0.19156155, -0.15241194,\n",
       "           -0.16648318,  0.07587782, -0.06580217,  0.18624823,\n",
       "           -0.09027873, -0.01290466,  0.12375706,  0.20301436,\n",
       "            0.15022394, -0.09070695, -0.3215942 ,  0.15739171,\n",
       "           -0.32503933,  0.14222756,  0.18244293, -0.12479898]],\n",
       " \n",
       "         [[ 0.22497256, -0.21525407, -0.42018506, -0.01078857,\n",
       "            0.1377296 , -0.3796747 , -0.01226186,  0.10485264,\n",
       "           -0.22312865,  0.16430053, -0.03798979, -0.02986087,\n",
       "           -0.08487678, -0.02514383, -0.08170379, -0.0558347 ,\n",
       "            0.09388891,  0.0892242 ,  0.20078331, -0.2179365 ,\n",
       "           -0.2728812 ,  0.19065705,  0.20883013,  0.13228728,\n",
       "            0.04798922, -0.05557362, -0.1563993 ,  0.10403582,\n",
       "           -0.26372182, -0.2260909 ,  0.08521206,  0.1443443 ]]]],\n",
       "       dtype=float32),\n",
       " array([-0.00459412,  0.01950669,  0.04242562, -0.00225853, -0.00830627,\n",
       "        -0.00119875,  0.08208794, -0.01086737,  0.0462158 , -0.00398373,\n",
       "        -0.00258725, -0.01260372,  0.04027171, -0.00336869,  0.01535674,\n",
       "        -0.0056628 , -0.00300006,  0.03304235,  0.00330235, -0.0085832 ,\n",
       "        -0.00214774, -0.00735109,  0.00721796, -0.0040367 ,  0.1155296 ,\n",
       "        -0.01921419,  0.13409354,  0.00608101,  0.04332918, -0.00648583,\n",
       "        -0.00514284, -0.03613048], dtype=float32)]"
      ]
     },
     "execution_count": 127,
     "metadata": {},
     "output_type": "execute_result"
    }
   ],
   "source": [
    "model.layers[0].get_weights()"
   ]
  },
  {
   "cell_type": "code",
   "execution_count": null,
   "metadata": {},
   "outputs": [],
   "source": [
    "\n",
    "\n",
    "import dhash\n",
    "from PIL import Image\n",
    "\n",
    "image = Image.open('C://Users//DU357159//Pictures//Audii.png')\n",
    "row, col = dhash.dhash_row_col(image)\n",
    "hash1 = dhash.format_hex(row, col)\n",
    "\n",
    "image = Image.open('C://Users//DU357159//Pictures//car.jpg')\n",
    "row, col = dhash.dhash_row_col(image)\n",
    "hash2 = dhash.format_hex(row, col)\n",
    "\n",
    "def hamming_distance(s1, s2):\n",
    "    assert len(s1) == len(s2)\n",
    "    return sum(ch1 != ch2 for ch1, ch2 in zip(s1, s2))\n",
    " \n",
    "if __name__==\"__main__\":\n",
    "    print(hamming_distance(hash1, hash2))\n"
   ]
  },
  {
   "cell_type": "code",
   "execution_count": 164,
   "metadata": {},
   "outputs": [
    {
     "ename": "ModuleNotFoundError",
     "evalue": "No module named 'pytesser'",
     "output_type": "error",
     "traceback": [
      "\u001b[1;31m---------------------------------------------------------------------------\u001b[0m",
      "\u001b[1;31mModuleNotFoundError\u001b[0m                       Traceback (most recent call last)",
      "\u001b[1;32m<ipython-input-164-91945c11d49c>\u001b[0m in \u001b[0;36m<module>\u001b[1;34m()\u001b[0m\n\u001b[1;32m----> 1\u001b[1;33m \u001b[1;32mimport\u001b[0m \u001b[0mpytesser\u001b[0m\u001b[1;33m\u001b[0m\u001b[0m\n\u001b[0m",
      "\u001b[1;31mModuleNotFoundError\u001b[0m: No module named 'pytesser'"
     ]
    }
   ],
   "source": [
    "import pytesser"
   ]
  },
  {
   "cell_type": "code",
   "execution_count": null,
   "metadata": {},
   "outputs": [],
   "source": []
  }
 ],
 "metadata": {
  "kernelspec": {
   "display_name": "Python 3",
   "language": "python",
   "name": "python3"
  },
  "language_info": {
   "codemirror_mode": {
    "name": "ipython",
    "version": 3
   },
   "file_extension": ".py",
   "mimetype": "text/x-python",
   "name": "python",
   "nbconvert_exporter": "python",
   "pygments_lexer": "ipython3",
   "version": "3.6.4"
  }
 },
 "nbformat": 4,
 "nbformat_minor": 2
}
