{
 "cells": [
  {
   "cell_type": "markdown",
   "metadata": {},
   "source": [
    "## Find whether an array is subset of another array | Added Method 3"
   ]
  },
  {
   "cell_type": "code",
   "execution_count": 48,
   "metadata": {},
   "outputs": [],
   "source": [
    "list1 = [11,2,3,5,13,17,21]\n",
    "list2  = [2,5,17,13,21]"
   ]
  },
  {
   "cell_type": "code",
   "execution_count": 49,
   "metadata": {},
   "outputs": [],
   "source": [
    "list1 = sorted(list1)\n",
    "list2 = sorted(list2)"
   ]
  },
  {
   "cell_type": "code",
   "execution_count": 50,
   "metadata": {},
   "outputs": [
    {
     "name": "stdout",
     "output_type": "stream",
     "text": [
      "matched\n"
     ]
    }
   ],
   "source": [
    "i = 0\n",
    "j = 0\n",
    "m = len(list1)\n",
    "n =  len(list2)\n",
    "while i < m and j < n :\n",
    "    if list1[i] != list2[j] :\n",
    "        i+=1   \n",
    "    elif list1[i] == list2[j]:\n",
    "        i =i+1\n",
    "        j =j+1\n",
    "if j ==len(list2):\n",
    "    print(\"matched\")\n",
    "else :\n",
    "    print(\"not matched\")\n",
    "        \n"
   ]
  },
  {
   "cell_type": "markdown",
   "metadata": {},
   "source": [
    "## Given an array A[] and a number x, check for pair in A[] with sum as x"
   ]
  },
  {
   "cell_type": "code",
   "execution_count": 60,
   "metadata": {},
   "outputs": [],
   "source": [
    "list1= [1,4,45,6,10,-8]"
   ]
  },
  {
   "cell_type": "code",
   "execution_count": 61,
   "metadata": {},
   "outputs": [],
   "source": [
    "list1 = sorted(list1)\n",
    "x = 16"
   ]
  },
  {
   "cell_type": "code",
   "execution_count": 62,
   "metadata": {},
   "outputs": [
    {
     "name": "stdout",
     "output_type": "stream",
     "text": [
      "10 6\n"
     ]
    }
   ],
   "source": [
    "i = 0\n",
    "j = len(list1)-1\n",
    "n = len(list1)\n",
    "while j > i:\n",
    "    if list1[i] +list1[j] < x :\n",
    "        i = i+1\n",
    "    elif list1[i] +list1[j] == x:\n",
    "        j = j-1\n",
    "        i = i+1\n",
    "        print(list1[i],list1[j])\n",
    "    else :\n",
    "        j = j-1\n",
    "    \n",
    "        \n",
    "    "
   ]
  },
  {
   "cell_type": "code",
   "execution_count": 67,
   "metadata": {},
   "outputs": [
    {
     "name": "stdout",
     "output_type": "stream",
     "text": [
      "15 set()\n",
      "12 {1}\n",
      "-29 {1, 4}\n",
      "10 {1, 4, 45}\n",
      "6 {1, 4, 45, 6}\n",
      "Pair with the given sum is 10 and 6\n",
      "24 {1, 4, 6, 10, 45}\n"
     ]
    }
   ],
   "source": [
    "def printPairs(arr, arr_size, sum):\n",
    "     \n",
    "    # Create an empty hash set\n",
    "    s = set()\n",
    "     \n",
    "    for i in range(0,arr_size):\n",
    "        temp = sum-arr[i]\n",
    "        print(temp,s)\n",
    "        if (temp>=0 and temp in s):\n",
    "            print (\"Pair with the given sum is\", arr[i], \"and\", temp)\n",
    "        s.add(arr[i])\n",
    " \n",
    "# driver program to check the above function\n",
    "A = [1,4,45,6,10,-8]\n",
    "n = 16\n",
    "printPairs(A, len(A), n)"
   ]
  },
  {
   "cell_type": "markdown",
   "metadata": {},
   "source": [
    "## Check if a given array contains duplicate elements within k distance from each other"
   ]
  },
  {
   "cell_type": "code",
   "execution_count": 231,
   "metadata": {},
   "outputs": [],
   "source": [
    "def duplicate_at_k_distance(arr ,arr_size,k):\n",
    "    s = []\n",
    "    for i in range(arr_size):\n",
    "        if arr[i] in s:\n",
    "            if s[i-k-1] == arr[i]:\n",
    "                print(\"yes\")\n",
    "        s.append(arr[i])"
   ]
  },
  {
   "cell_type": "code",
   "execution_count": 232,
   "metadata": {},
   "outputs": [],
   "source": [
    "#arr = [10, 5, 3, 4, 10, 5, 6]\n",
    "arr = [1, 2, 3, 8, 5, 5]\n",
    "duplicate_at_k_distance(arr ,len(arr) ,3)"
   ]
  },
  {
   "cell_type": "markdown",
   "metadata": {},
   "source": [
    "## Group multiple occurrence of array elements ordered by first occurrence"
   ]
  },
  {
   "cell_type": "code",
   "execution_count": 264,
   "metadata": {},
   "outputs": [],
   "source": [
    "def grp_multi_occur(arr):\n",
    "    dict ={}\n",
    "    for i in range(len(arr)):\n",
    "        try:\n",
    "            dict[arr[i]].append(arr[i])\n",
    "        except:\n",
    "            dict[arr[i]] = [arr[i]]\n",
    "    print(*dict.values())"
   ]
  },
  {
   "cell_type": "code",
   "execution_count": 265,
   "metadata": {},
   "outputs": [
    {
     "name": "stdout",
     "output_type": "stream",
     "text": [
      "[4, 4, 4] [6, 6] [9, 9] [2] [3] [10]\n"
     ]
    }
   ],
   "source": [
    "arr = [4, 6, 9, 2, 3, 4, 9, 6, 10, 4]\n",
    "grp_multi_occur(arr)"
   ]
  },
  {
   "cell_type": "code",
   "execution_count": 269,
   "metadata": {},
   "outputs": [],
   "source": [
    "s= set([12, 34, 11, 9, 3])\n",
    "s1 = set([7, 2, 1, 3])"
   ]
  },
  {
   "cell_type": "code",
   "execution_count": 270,
   "metadata": {},
   "outputs": [
    {
     "data": {
      "text/plain": [
       "False"
      ]
     },
     "execution_count": 270,
     "metadata": {},
     "output_type": "execute_result"
    }
   ],
   "source": [
    "s.isdisjoint(s1)"
   ]
  },
  {
   "cell_type": "markdown",
   "metadata": {},
   "source": [
    "## Pair with given product | Set 1 (Find if any pair exists)"
   ]
  },
  {
   "cell_type": "code",
   "execution_count": 282,
   "metadata": {},
   "outputs": [],
   "source": [
    "def pair_given_product(arr ,x):\n",
    "    s = set()\n",
    "    for i in range(len(arr)):\n",
    "        if x / arr[i] in s:\n",
    "            print(arr[i] , x//arr[i])\n",
    "        s.add(arr[i])"
   ]
  },
  {
   "cell_type": "code",
   "execution_count": 284,
   "metadata": {},
   "outputs": [
    {
     "name": "stdout",
     "output_type": "stream",
     "text": [
      "-40 -10\n"
     ]
    }
   ],
   "source": [
    "arr = [-10, 20, 9, -40]\n",
    "x =400\n",
    "pair_given_product(arr ,x)"
   ]
  },
  {
   "cell_type": "markdown",
   "metadata": {},
   "source": [
    "## Convert an array to reduced form | Set 1 (Simple and Hashing)"
   ]
  },
  {
   "cell_type": "code",
   "execution_count": 450,
   "metadata": {},
   "outputs": [],
   "source": [
    "def convert_arr_to_reduced(arr):\n",
    "    list =sorted(arr)\n",
    "    p =0\n",
    "    for elem in list:\n",
    "        for i in range(len(arr)):\n",
    "            if arr[i] == elem:\n",
    "                arr[i] = p\n",
    "                p =p+1\n",
    "    print(arr)   "
   ]
  },
  {
   "cell_type": "code",
   "execution_count": 451,
   "metadata": {},
   "outputs": [
    {
     "name": "stdout",
     "output_type": "stream",
     "text": [
      "[0, 4, 3, 2, 1, 5]\n"
     ]
    }
   ],
   "source": [
    "arr =  [10, 20, 15, 12, 11, 50]\n",
    "convert_arr_to_reduced(arr)"
   ]
  },
  {
   "cell_type": "code",
   "execution_count": 452,
   "metadata": {},
   "outputs": [],
   "source": [
    "arr =  [10, 20, 15, 12, 11, 50]"
   ]
  },
  {
   "cell_type": "code",
   "execution_count": 453,
   "metadata": {},
   "outputs": [],
   "source": [
    "temp = arr\n",
    "temp = sorted(arr)\n",
    "dict = {}\n",
    "for i in range(len(temp)):\n",
    "    dict[i] = temp[i]"
   ]
  },
  {
   "cell_type": "code",
   "execution_count": 454,
   "metadata": {},
   "outputs": [
    {
     "data": {
      "text/plain": [
       "{0: 10, 1: 11, 2: 12, 3: 15, 4: 20, 5: 50}"
      ]
     },
     "execution_count": 454,
     "metadata": {},
     "output_type": "execute_result"
    }
   ],
   "source": [
    "dict"
   ]
  },
  {
   "cell_type": "code",
   "execution_count": 455,
   "metadata": {},
   "outputs": [
    {
     "data": {
      "text/plain": [
       "[10, 20, 15, 12, 11, 50]"
      ]
     },
     "execution_count": 455,
     "metadata": {},
     "output_type": "execute_result"
    }
   ],
   "source": [
    "arr"
   ]
  },
  {
   "cell_type": "code",
   "execution_count": 456,
   "metadata": {},
   "outputs": [
    {
     "data": {
      "text/plain": [
       "[0, 1, 2, 3, 4, 5]"
      ]
     },
     "execution_count": 456,
     "metadata": {},
     "output_type": "execute_result"
    }
   ],
   "source": [
    "list(dict.keys())"
   ]
  },
  {
   "cell_type": "code",
   "execution_count": 457,
   "metadata": {},
   "outputs": [
    {
     "data": {
      "text/plain": [
       "[10, 11, 12, 15, 20, 50]"
      ]
     },
     "execution_count": 457,
     "metadata": {},
     "output_type": "execute_result"
    }
   ],
   "source": [
    "list(dict.values())"
   ]
  },
  {
   "cell_type": "code",
   "execution_count": 458,
   "metadata": {},
   "outputs": [],
   "source": [
    "l = 0\n",
    "for i in arr:\n",
    "    p = list(dict.keys())[list(dict.values()).index(i)]\n",
    "    arr[l] = p\n",
    "    l = l+1"
   ]
  },
  {
   "cell_type": "code",
   "execution_count": 459,
   "metadata": {},
   "outputs": [
    {
     "data": {
      "text/plain": [
       "[0, 4, 3, 2, 1, 5]"
      ]
     },
     "execution_count": 459,
     "metadata": {},
     "output_type": "execute_result"
    }
   ],
   "source": [
    "arr"
   ]
  },
  {
   "cell_type": "markdown",
   "metadata": {},
   "source": [
    "## Find Itinerary from a given list of tickets"
   ]
  },
  {
   "cell_type": "code",
   "execution_count": 57,
   "metadata": {},
   "outputs": [],
   "source": [
    "def itinerary_from_list(dictionary):\n",
    "    dict1  = {}\n",
    "    list = []\n",
    "    for i , j in dictionary.items():\n",
    "        dict1[j] = i\n",
    "    ## find starting pont\n",
    "    p = [i for i in dictionary.keys() if i not in dict1.keys()]\n",
    "    for i in range(len(dictionary)):\n",
    "        l = dictionary[p[0]]\n",
    "        list.append([p[0] ,l])\n",
    "        p[0] = l\n",
    "    print(list)\n",
    "    \n",
    "    \n",
    "    \n",
    "            \n",
    "        \n",
    "    \n",
    "    "
   ]
  },
  {
   "cell_type": "code",
   "execution_count": 58,
   "metadata": {},
   "outputs": [],
   "source": [
    "dict = {}\n",
    "dict[\"chennai\"] = \"banglore\"\n",
    "dict[\"bombay\"] = \"delhi\"\n",
    "dict[\"goa\"] = \"chennai\"\n",
    "dict[\"delhi\"] = \"goa\""
   ]
  },
  {
   "cell_type": "code",
   "execution_count": 59,
   "metadata": {},
   "outputs": [
    {
     "data": {
      "text/plain": [
       "{'bombay': 'delhi', 'chennai': 'banglore', 'delhi': 'goa', 'goa': 'chennai'}"
      ]
     },
     "execution_count": 59,
     "metadata": {},
     "output_type": "execute_result"
    }
   ],
   "source": [
    "dict"
   ]
  },
  {
   "cell_type": "code",
   "execution_count": 60,
   "metadata": {},
   "outputs": [
    {
     "name": "stdout",
     "output_type": "stream",
     "text": [
      "[['bombay', 'delhi'], ['delhi', 'goa'], ['goa', 'chennai'], ['chennai', 'banglore']]\n"
     ]
    }
   ],
   "source": [
    "itinerary_from_list(dict)"
   ]
  },
  {
   "cell_type": "markdown",
   "metadata": {},
   "source": [
    "## Check if an array can be divided into pairs whose sum is divisible by k\n"
   ]
  },
  {
   "cell_type": "code",
   "execution_count": 61,
   "metadata": {},
   "outputs": [],
   "source": [
    "from itertools import combinations    "
   ]
  },
  {
   "cell_type": "code",
   "execution_count": 84,
   "metadata": {},
   "outputs": [
    {
     "data": {
      "text/plain": [
       "[(9, 3), (7, 5)]"
      ]
     },
     "execution_count": 84,
     "metadata": {},
     "output_type": "execute_result"
    }
   ],
   "source": [
    "arr = [9, 7, 5, 3]\n",
    "l= [i for i in combinations(arr,2) if (i[0]+i[1]) % 3 == 0]\n",
    "l"
   ]
  },
  {
   "cell_type": "markdown",
   "metadata": {},
   "source": [
    "## Find four elements a, b, c and d in an array such that a+b = c+d\n"
   ]
  },
  {
   "cell_type": "code",
   "execution_count": 87,
   "metadata": {},
   "outputs": [],
   "source": [
    "arr = [3, 4, 7, 1, 2, 9, 8]"
   ]
  },
  {
   "cell_type": "code",
   "execution_count": 88,
   "metadata": {},
   "outputs": [],
   "source": [
    "from itertools import combinations"
   ]
  },
  {
   "cell_type": "code",
   "execution_count": 91,
   "metadata": {},
   "outputs": [],
   "source": [
    "p = [ [i , sum(i)]  for i in combinations(arr , 2)]"
   ]
  },
  {
   "cell_type": "code",
   "execution_count": 93,
   "metadata": {},
   "outputs": [],
   "source": [
    "dict = {}\n",
    "for i in p:\n",
    "    try:\n",
    "        dict[i[1]].append(i[0])\n",
    "    except:\n",
    "        dict[i[1]] = [i[0]]"
   ]
  },
  {
   "cell_type": "code",
   "execution_count": 98,
   "metadata": {},
   "outputs": [
    {
     "name": "stdout",
     "output_type": "stream",
     "text": [
      "[(3, 7), (1, 9), (2, 8)]\n",
      "[(3, 2), (4, 1)]\n",
      "[(3, 9), (4, 8)]\n",
      "[(3, 8), (4, 7), (2, 9)]\n",
      "[(7, 2), (1, 8)]\n"
     ]
    }
   ],
   "source": [
    "dict.values()\n",
    "for k in dict.values():\n",
    "    if len(k) > 1:\n",
    "        print(k)"
   ]
  },
  {
   "cell_type": "markdown",
   "metadata": {},
   "source": [
    "## Find the largest subarray with 0 sum\n"
   ]
  },
  {
   "cell_type": "code",
   "execution_count": 188,
   "metadata": {},
   "outputs": [],
   "source": [
    "arr = [15, -2, 2, -8, 1, 7, 10, 13]"
   ]
  },
  {
   "cell_type": "code",
   "execution_count": 189,
   "metadata": {},
   "outputs": [],
   "source": [
    "from itertools import combinations"
   ]
  },
  {
   "cell_type": "code",
   "execution_count": 211,
   "metadata": {},
   "outputs": [],
   "source": [
    "l = 0\n",
    "for i in range(len(arr) ,0 ,-1):\n",
    "    for j in combinations(arr,i):\n",
    "        if sum(j) == 0:\n",
    "            l = l+1\n",
    "            p = j\n",
    "            break\n",
    "        else:\n",
    "            continue\n",
    "    if l > 0:\n",
    "        break"
   ]
  },
  {
   "cell_type": "code",
   "execution_count": 212,
   "metadata": {},
   "outputs": [
    {
     "data": {
      "text/plain": [
       "(-2, 2, -8, 1, 7)"
      ]
     },
     "execution_count": 212,
     "metadata": {},
     "output_type": "execute_result"
    }
   ],
   "source": [
    "p"
   ]
  },
  {
   "cell_type": "code",
   "execution_count": 214,
   "metadata": {},
   "outputs": [
    {
     "name": "stdout",
     "output_type": "stream",
     "text": [
      "(-2, 2, -8, 1, 7)\n"
     ]
    }
   ],
   "source": [
    "for i in range(len(arr) ,0 ,-1):\n",
    "    p = [ j for j in combinations(arr , i) if sum(j) == 0]\n",
    "    if len(p) >0 :\n",
    "        print(p[0])\n",
    "        break\n"
   ]
  },
  {
   "cell_type": "markdown",
   "metadata": {},
   "source": [
    "## Count distinct elements in every window of size k\n"
   ]
  },
  {
   "cell_type": "code",
   "execution_count": 241,
   "metadata": {},
   "outputs": [],
   "source": [
    "def Count_distict(arr ,k):\n",
    "    for i in range(len(arr)):\n",
    "        if i+k <= len(arr):\n",
    "            print(len(set(arr[i:i+k])))\n",
    "    \n",
    "    "
   ]
  },
  {
   "cell_type": "code",
   "execution_count": 242,
   "metadata": {},
   "outputs": [
    {
     "name": "stdout",
     "output_type": "stream",
     "text": [
      "3\n",
      "4\n",
      "4\n",
      "3\n"
     ]
    }
   ],
   "source": [
    "arr = [1, 2, 1, 3, 4, 2, 3] \n",
    "k = 4\n",
    "Count_distict(arr ,k)"
   ]
  },
  {
   "cell_type": "markdown",
   "metadata": {},
   "source": [
    "## Divide and Conquer\n"
   ]
  },
  {
   "cell_type": "markdown",
   "metadata": {},
   "source": [
    "### Binary Search\n"
   ]
  },
  {
   "cell_type": "code",
   "execution_count": 251,
   "metadata": {},
   "outputs": [],
   "source": [
    "def binary_search(arr ,l,r, x):\n",
    "    mid = (l+r)//2\n",
    "    if r > l:\n",
    "        if arr[mid] == x :\n",
    "            return mid\n",
    "        if arr[mid] > x:\n",
    "            return binary_search(arr,l , mid-1 ,x)\n",
    "        else :\n",
    "            return binary_search(arr,mid+1 ,r,x)\n",
    "    \n",
    "    "
   ]
  },
  {
   "cell_type": "code",
   "execution_count": 253,
   "metadata": {},
   "outputs": [
    {
     "data": {
      "text/plain": [
       "3"
      ]
     },
     "execution_count": 253,
     "metadata": {},
     "output_type": "execute_result"
    }
   ],
   "source": [
    "arr = [ 2, 3, 4, 10, 40 ]\n",
    "x = 10\n",
    "binary_search(arr , 0 , len(arr)-1,x)"
   ]
  },
  {
   "cell_type": "markdown",
   "metadata": {},
   "source": [
    "### Merge Sort\n",
    "MergeSort(arr[], l,  r)\n",
    "If r > l\n",
    "     1. Find the middle point to divide the array into two halves:  \n",
    "             middle m = (l+r)/2\n",
    "     2. Call mergeSort for first half:   \n",
    "             Call mergeSort(arr, l, m)\n",
    "     3. Call mergeSort for second half:\n",
    "             Call mergeSort(arr, m+1, r)\n",
    "     4. Merge the two halves sorted in step 2 and 3:\n",
    "             Call merge(arr, l, m, r)"
   ]
  },
  {
   "cell_type": "code",
   "execution_count": 362,
   "metadata": {},
   "outputs": [],
   "source": [
    "def merge(arr,l,m,r):\n",
    "\n",
    "    n1 = m-l+1\n",
    "    n2 = r-m\n",
    "    L = [0]*n1\n",
    "    R = [0]*n2\n",
    "    \n",
    "    for i in range(0 , n1):\n",
    "        L[i] = arr[l + i]\n",
    " \n",
    "    for j in range(0 , n2):\n",
    "        R[j] = arr[m + 1 + j]\n",
    "        \n",
    "    k = l\n",
    "    i = 0\n",
    "    j = 0\n",
    "    \n",
    "    while i < n1 and j < n2 :\n",
    "        if L[i] <= R[j]:\n",
    "            arr[k] = L[i]\n",
    "            i = i+1\n",
    "        else :\n",
    "            arr[k] = R[j]\n",
    "            j = j+1\n",
    "        k = k+1\n",
    "        \n",
    "    while i < n1:\n",
    "        arr[k] = L[i]\n",
    "        i += 1\n",
    "        k += 1\n",
    "        \n",
    "    while j < n2:\n",
    "        arr[k] = R[j]\n",
    "        j = j+1\n",
    "        k = k+1\n",
    "    \n",
    "    return arr\n",
    "    \n",
    "    "
   ]
  },
  {
   "cell_type": "code",
   "execution_count": 363,
   "metadata": {},
   "outputs": [],
   "source": [
    "def merge_sort(arr , l , r):\n",
    "    if r > l :\n",
    "        m = (l+r)//2\n",
    "        merge_sort(arr , l ,m)\n",
    "        merge_sort(arr, m+1 , r)\n",
    "        merge(arr,l,m,r)\n",
    "    return arr"
   ]
  },
  {
   "cell_type": "code",
   "execution_count": 364,
   "metadata": {},
   "outputs": [
    {
     "data": {
      "text/plain": [
       "[5, 6, 7, 9, 11, 12, 13]"
      ]
     },
     "execution_count": 364,
     "metadata": {},
     "output_type": "execute_result"
    }
   ],
   "source": [
    "arr = [12, 11, 13, 5, 6, 7,9]\n",
    "merge_sort(arr ,0 ,len(arr)-1)"
   ]
  },
  {
   "cell_type": "markdown",
   "metadata": {},
   "source": [
    "## QuickSort"
   ]
  },
  {
   "cell_type": "code",
   "execution_count": 382,
   "metadata": {},
   "outputs": [],
   "source": [
    "def partition(arr,low,high):\n",
    "    pivot = arr[high]\n",
    "    i = low\n",
    "    for j in range(low,high):\n",
    "        if arr[j] <= pivot:\n",
    "            arr[i] , arr[j] = arr[j] ,arr[i]\n",
    "            i = i+1\n",
    "           \n",
    "    arr[high] ,arr[i] = arr[i] ,arr[high]\n",
    "    return i\n",
    "        \n",
    "    "
   ]
  },
  {
   "cell_type": "code",
   "execution_count": 383,
   "metadata": {},
   "outputs": [],
   "source": [
    "def quick_sort(arr,l,r):\n",
    "    if r >l :\n",
    "        pi = partition(arr,l,r)\n",
    "        quick_sort(arr,l,pi-1)\n",
    "        quick_sort(arr,pi+1,r)"
   ]
  },
  {
   "cell_type": "code",
   "execution_count": 384,
   "metadata": {},
   "outputs": [
    {
     "name": "stdout",
     "output_type": "stream",
     "text": [
      "Sorted array is:\n",
      "1 5 7 8 9 10 "
     ]
    }
   ],
   "source": [
    "arr = [10, 7, 8, 9, 1, 5]\n",
    "n = len(arr)\n",
    "quick_sort(arr,0,n-1)\n",
    "print (\"Sorted array is:\")\n",
    "for i in range(n):\n",
    "    print (\"%d\" %arr[i] ,end = \" \"),"
   ]
  },
  {
   "cell_type": "markdown",
   "metadata": {},
   "source": [
    "## Write a program to calculate pow(x,n)"
   ]
  },
  {
   "cell_type": "code",
   "execution_count": 411,
   "metadata": {},
   "outputs": [],
   "source": [
    "def pow_calculate(x,n):\n",
    "    p = x\n",
    "    for i in range(n-1):\n",
    "        p = x*p\n",
    "    return p\n",
    "    "
   ]
  },
  {
   "cell_type": "code",
   "execution_count": 413,
   "metadata": {},
   "outputs": [
    {
     "data": {
      "text/plain": [
       "2401"
      ]
     },
     "execution_count": 413,
     "metadata": {},
     "output_type": "execute_result"
    }
   ],
   "source": [
    "pow_calculate(7,4)"
   ]
  },
  {
   "cell_type": "markdown",
   "metadata": {},
   "source": [
    "## Median of two sorted arrays of same size"
   ]
  },
  {
   "cell_type": "code",
   "execution_count": 433,
   "metadata": {},
   "outputs": [],
   "source": [
    "def median_of_sorted_arr(arr1,arr2):\n",
    "    arr1 = sorted(arr1 +arr2)\n",
    "    if len(arr1) % 2 ==0:\n",
    "        return (arr1[len(arr1)//2-1] +arr1[len(arr1)//2])//2\n",
    "    else :\n",
    "        return (arr1[len(arr1)//2+1])//2\n",
    "    "
   ]
  },
  {
   "cell_type": "code",
   "execution_count": 434,
   "metadata": {},
   "outputs": [
    {
     "data": {
      "text/plain": [
       "16"
      ]
     },
     "execution_count": 434,
     "metadata": {},
     "output_type": "execute_result"
    }
   ],
   "source": [
    "arr1 = [1, 12, 15, 26, 38]\n",
    "arr2 = [2, 13, 17, 30, 45]\n",
    "median_of_sorted_arr(arr1,arr2)"
   ]
  },
  {
   "cell_type": "code",
   "execution_count": 435,
   "metadata": {},
   "outputs": [
    {
     "data": {
      "text/plain": [
       "10"
      ]
     },
     "execution_count": 435,
     "metadata": {},
     "output_type": "execute_result"
    }
   ],
   "source": [
    "arr1 = [900]\n",
    "arr2 = [5, 8, 10, 20]\n",
    "median_of_sorted_arr(arr1,arr2)"
   ]
  },
  {
   "cell_type": "markdown",
   "metadata": {},
   "source": [
    "## Check for Majority Element in a sorted array"
   ]
  },
  {
   "cell_type": "code",
   "execution_count": 444,
   "metadata": {},
   "outputs": [],
   "source": [
    "def majortiy (arr):\n",
    "    dict = {}\n",
    "    for i in arr:\n",
    "        dict[i] = arr.count(i)\n",
    "    return dict"
   ]
  },
  {
   "cell_type": "code",
   "execution_count": 456,
   "metadata": {},
   "outputs": [
    {
     "data": {
      "text/plain": [
       "dict_values([1, 1, 4, 1])"
      ]
     },
     "execution_count": 456,
     "metadata": {},
     "output_type": "execute_result"
    }
   ],
   "source": [
    "arr = [1, 2, 3, 3, 3, 3, 10]\n",
    "x = 3\n",
    "dict = majortiy(arr)\n",
    "dict.values()"
   ]
  },
  {
   "cell_type": "code",
   "execution_count": 453,
   "metadata": {},
   "outputs": [
    {
     "data": {
      "text/plain": [
       "2"
      ]
     },
     "execution_count": 453,
     "metadata": {},
     "output_type": "execute_result"
    }
   ],
   "source": [
    "list(dict.values()).index(4)"
   ]
  },
  {
   "cell_type": "code",
   "execution_count": 458,
   "metadata": {},
   "outputs": [
    {
     "data": {
      "text/plain": [
       "3"
      ]
     },
     "execution_count": 458,
     "metadata": {},
     "output_type": "execute_result"
    }
   ],
   "source": [
    "list(dict.keys())[2]"
   ]
  },
  {
   "cell_type": "markdown",
   "metadata": {},
   "source": [
    "## Find the maximum element in an array which is first increasing and then decreasing"
   ]
  },
  {
   "cell_type": "code",
   "execution_count": 522,
   "metadata": {},
   "outputs": [],
   "source": [
    "def maximum_element(arr,l ,r):\n",
    "    if l == r :\n",
    "        return arr[l]\n",
    "    if l == r-1 and arr[l] > arr[r]:\n",
    "        return arr[l]\n",
    "    if l == r -1 and ar[r] > arr[l]:\n",
    "        return arr[r]\n",
    "    \n",
    "    mid = (l+r)//2\n",
    "    if arr[mid] > arr[mid-1] and arr[mid] > arr[mid+1]:\n",
    "        return arr[mid]\n",
    "    if arr[mid] > arr[mid+1] and arr[mid-1] > arr[mid] :\n",
    "        return maximum_element(arr ,l,mid-1)\n",
    "    else :\n",
    "        return maximum_element(arr,mid+1 ,r)\n",
    "    "
   ]
  },
  {
   "cell_type": "code",
   "execution_count": 523,
   "metadata": {},
   "outputs": [
    {
     "data": {
      "text/plain": [
       "50"
      ]
     },
     "execution_count": 523,
     "metadata": {},
     "output_type": "execute_result"
    }
   ],
   "source": [
    "arr = [1, 3, 50, 10, 9, 7, 6,4]\n",
    "#arr = [10, 20, 30, 40, 50 ,60,30 ,20]\n",
    "maximum_element(arr ,0 , len(arr)-1)"
   ]
  },
  {
   "cell_type": "markdown",
   "metadata": {},
   "source": [
    "## Find a peak element"
   ]
  },
  {
   "cell_type": "code",
   "execution_count": 548,
   "metadata": {},
   "outputs": [],
   "source": [
    "def peak_element(arr ,low ,high,list):\n",
    "    mid = (low+high)//2\n",
    "    if arr[mid] > arr[mid+1] and arr[mid] > arr[mid-1]:\n",
    "        print(arr[mid])\n",
    "        list.append((arr[mid] ,mid))\n",
    "        return list \n",
    "    if arr[mid-1] > arr[mid]:\n",
    "        return peak_element(arr ,low , mid-1,list)\n",
    "    else :\n",
    "        return peak_element(arr, mid+1 ,high,list)\n",
    "    "
   ]
  },
  {
   "cell_type": "code",
   "execution_count": 553,
   "metadata": {},
   "outputs": [
    {
     "name": "stdout",
     "output_type": "stream",
     "text": [
      "20\n"
     ]
    },
    {
     "data": {
      "text/plain": [
       "[(20, 1)]"
      ]
     },
     "execution_count": 553,
     "metadata": {},
     "output_type": "execute_result"
    }
   ],
   "source": [
    "arr = [10, 20, 15, 2, 23, 90, 67]\n",
    "list = []\n",
    "peak_element(arr,0,len(arr)-1 ,list)"
   ]
  },
  {
   "cell_type": "markdown",
   "metadata": {},
   "source": [
    "## Find the minimum element in a sorted and rotated array"
   ]
  },
  {
   "cell_type": "code",
   "execution_count": 609,
   "metadata": {},
   "outputs": [],
   "source": [
    "def minimum_element(arr ,low ,high,list):\n",
    "    mid = (low+high)//2\n",
    "    if arr[mid] < arr[mid+1] and arr[mid] < arr[mid-1]:\n",
    "        print(arr[mid])\n",
    "        list.append((arr[mid] ,mid))\n",
    "        return list \n",
    "    if arr[mid+1] < arr[mid]:\n",
    "        return arr[mid+1]\n",
    "    if arr[mid-1] < arr[mid]:\n",
    "        return minimum_element(arr ,low , mid-1,list)\n",
    "    else :\n",
    "        return minimum_element(arr, mid+1 ,high,list)\n",
    "    "
   ]
  },
  {
   "cell_type": "code",
   "execution_count": 611,
   "metadata": {},
   "outputs": [
    {
     "data": {
      "text/plain": [
       "2"
      ]
     },
     "execution_count": 611,
     "metadata": {},
     "output_type": "execute_result"
    }
   ],
   "source": [
    "arr = [5, 6, 7, 8, 2, 3, 4]\n",
    "list = []\n",
    "minimum_element(arr,0 , len(arr)-1 ,list)"
   ]
  },
  {
   "cell_type": "markdown",
   "metadata": {},
   "source": [
    "## Find the missing number in Arithmetic Progression\n"
   ]
  },
  {
   "cell_type": "code",
   "execution_count": 634,
   "metadata": {},
   "outputs": [],
   "source": [
    "def missing_number(arr,low  ,high):\n",
    "    diff = 5\n",
    "    mid  = (low + high)//2\n",
    "    if arr[mid+1] - arr[mid] != diff:\n",
    "        return arr[mid] +diff\n",
    "    if arr[mid] - arr[mid-1] != diff:\n",
    "        return arr[mid-1] +diff\n",
    "    if arr[mid] == arr[0] + mid*diff:\n",
    "        return missing_number(arr,mid+1 ,high)\n",
    "    else:\n",
    "        return missing_number(arr,low,mid-1)\n",
    "    "
   ]
  },
  {
   "cell_type": "code",
   "execution_count": 635,
   "metadata": {},
   "outputs": [
    {
     "data": {
      "text/plain": [
       "26"
      ]
     },
     "execution_count": 635,
     "metadata": {},
     "output_type": "execute_result"
    }
   ],
   "source": [
    "arr = [1, 6, 11, 16, 21, 31]\n",
    "missing_number(arr,0,len(arr)-1)"
   ]
  },
  {
   "cell_type": "markdown",
   "metadata": {},
   "source": [
    "## maxmum subarray sum"
   ]
  },
  {
   "cell_type": "code",
   "execution_count": 692,
   "metadata": {},
   "outputs": [],
   "source": [
    "def maximum_sum(arr,l,m,h):\n",
    "    sum1 = 0\n",
    "    left_sum = -1\n",
    "    for i  in range(m,l-1,-1):\n",
    "        sum1 = sum1  + arr[i]\n",
    "        if sum1 >left_sum:\n",
    "            left_sum = sum1\n",
    "    sum1 = 0\n",
    "    right_sum = -1\n",
    "    for i in range(m+1 ,h+1):\n",
    "        sum1 = sum1+arr[i]\n",
    "        if sum1 >right_sum:\n",
    "            right_sum = sum1 \n",
    "    return list.append(left_sum + right_sum)\n",
    "        \n",
    "        \n",
    "        \n",
    "    \n",
    "    "
   ]
  },
  {
   "cell_type": "code",
   "execution_count": 693,
   "metadata": {},
   "outputs": [],
   "source": [
    "def max_sub_array(arr,l,h):\n",
    "    if l == h:\n",
    "        return arr[l]\n",
    "    m = (l+h)//2\n",
    "    max_sub_array(arr,l,m)\n",
    "    max_sub_array(arr , m+1 ,h)\n",
    "    maximum_sum(arr,l,m,h)\n",
    "    return list"
   ]
  },
  {
   "cell_type": "code",
   "execution_count": 694,
   "metadata": {},
   "outputs": [
    {
     "data": {
      "text/plain": [
       "21"
      ]
     },
     "execution_count": 694,
     "metadata": {},
     "output_type": "execute_result"
    }
   ],
   "source": [
    "arr = [2, 3, 4, 5, 7]\n",
    "n = len(arr)\n",
    "max(max_sub_array(arr,0 ,n-1))"
   ]
  },
  {
   "cell_type": "markdown",
   "metadata": {},
   "source": [
    "## time complexity O(n^2)"
   ]
  },
  {
   "cell_type": "code",
   "execution_count": 695,
   "metadata": {},
   "outputs": [],
   "source": [
    "sum = -1\n",
    "sum1 = 0\n",
    "arr = [-2, -5, 6, -2, -3, 1, 5, -6]\n",
    "list = []\n",
    "for i in range(len(arr)):\n",
    "    for j in range(i,len(arr)):\n",
    "        sum1 = sum1+arr[j]\n",
    "        if sum1 > sum:\n",
    "            sum = sum1\n",
    "        \n",
    "    list.append(sum)\n",
    "    sum =-1\n",
    "    sum1 =0"
   ]
  },
  {
   "cell_type": "code",
   "execution_count": null,
   "metadata": {},
   "outputs": [],
   "source": []
  },
  {
   "cell_type": "code",
   "execution_count": null,
   "metadata": {},
   "outputs": [],
   "source": []
  },
  {
   "cell_type": "code",
   "execution_count": 696,
   "metadata": {},
   "outputs": [
    {
     "data": {
      "text/plain": [
       "7"
      ]
     },
     "execution_count": 696,
     "metadata": {},
     "output_type": "execute_result"
    }
   ],
   "source": [
    "max(list)"
   ]
  },
  {
   "cell_type": "markdown",
   "metadata": {},
   "source": [
    "## Allocate minimum number of pages"
   ]
  },
  {
   "cell_type": "code",
   "execution_count": 928,
   "metadata": {},
   "outputs": [],
   "source": [
    "def Allocate_minimum(arr , m):\n",
    "    dict1 = {}\n",
    "    for i in range(1,m+1):\n",
    "        for j in range(0,len(arr)+i-m):\n",
    "            try:\n",
    "                dict1[i].append(arr[i-1:j+1])\n",
    "            except:\n",
    "                dict1[i] = [arr[i-1:j+1]]\n",
    "    return dict1\n",
    "    \n",
    "    "
   ]
  },
  {
   "cell_type": "code",
   "execution_count": 929,
   "metadata": {},
   "outputs": [],
   "source": [
    "arr = [11,12,13,14,15,16,17,18,19,20,21,22]\n",
    "m=3\n",
    "dictionary = Allocate_minimum(arr ,m)"
   ]
  },
  {
   "cell_type": "code",
   "execution_count": 930,
   "metadata": {},
   "outputs": [
    {
     "data": {
      "text/plain": [
       "{1: [[11],\n",
       "  [11, 12],\n",
       "  [11, 12, 13],\n",
       "  [11, 12, 13, 14],\n",
       "  [11, 12, 13, 14, 15],\n",
       "  [11, 12, 13, 14, 15, 16],\n",
       "  [11, 12, 13, 14, 15, 16, 17],\n",
       "  [11, 12, 13, 14, 15, 16, 17, 18],\n",
       "  [11, 12, 13, 14, 15, 16, 17, 18, 19],\n",
       "  [11, 12, 13, 14, 15, 16, 17, 18, 19, 20]],\n",
       " 2: [[],\n",
       "  [12],\n",
       "  [12, 13],\n",
       "  [12, 13, 14],\n",
       "  [12, 13, 14, 15],\n",
       "  [12, 13, 14, 15, 16],\n",
       "  [12, 13, 14, 15, 16, 17],\n",
       "  [12, 13, 14, 15, 16, 17, 18],\n",
       "  [12, 13, 14, 15, 16, 17, 18, 19],\n",
       "  [12, 13, 14, 15, 16, 17, 18, 19, 20],\n",
       "  [12, 13, 14, 15, 16, 17, 18, 19, 20, 21]],\n",
       " 3: [[],\n",
       "  [],\n",
       "  [13],\n",
       "  [13, 14],\n",
       "  [13, 14, 15],\n",
       "  [13, 14, 15, 16],\n",
       "  [13, 14, 15, 16, 17],\n",
       "  [13, 14, 15, 16, 17, 18],\n",
       "  [13, 14, 15, 16, 17, 18, 19],\n",
       "  [13, 14, 15, 16, 17, 18, 19, 20],\n",
       "  [13, 14, 15, 16, 17, 18, 19, 20, 21],\n",
       "  [13, 14, 15, 16, 17, 18, 19, 20, 21, 22]]}"
      ]
     },
     "execution_count": 930,
     "metadata": {},
     "output_type": "execute_result"
    }
   ],
   "source": [
    "dictionary"
   ]
  },
  {
   "cell_type": "code",
   "execution_count": 931,
   "metadata": {},
   "outputs": [
    {
     "data": {
      "text/plain": [
       "dict_values([[[11], [11, 12], [11, 12, 13], [11, 12, 13, 14], [11, 12, 13, 14, 15], [11, 12, 13, 14, 15, 16], [11, 12, 13, 14, 15, 16, 17], [11, 12, 13, 14, 15, 16, 17, 18], [11, 12, 13, 14, 15, 16, 17, 18, 19], [11, 12, 13, 14, 15, 16, 17, 18, 19, 20]], [[], [12], [12, 13], [12, 13, 14], [12, 13, 14, 15], [12, 13, 14, 15, 16], [12, 13, 14, 15, 16, 17], [12, 13, 14, 15, 16, 17, 18], [12, 13, 14, 15, 16, 17, 18, 19], [12, 13, 14, 15, 16, 17, 18, 19, 20], [12, 13, 14, 15, 16, 17, 18, 19, 20, 21]], [[], [], [13], [13, 14], [13, 14, 15], [13, 14, 15, 16], [13, 14, 15, 16, 17], [13, 14, 15, 16, 17, 18], [13, 14, 15, 16, 17, 18, 19], [13, 14, 15, 16, 17, 18, 19, 20], [13, 14, 15, 16, 17, 18, 19, 20, 21], [13, 14, 15, 16, 17, 18, 19, 20, 21, 22]]])"
      ]
     },
     "execution_count": 931,
     "metadata": {},
     "output_type": "execute_result"
    }
   ],
   "source": [
    "dictionary.values()"
   ]
  },
  {
   "cell_type": "code",
   "execution_count": 932,
   "metadata": {},
   "outputs": [],
   "source": [
    "dict = {}\n",
    "for i ,j in dictionary.items():\n",
    "    for k in j:\n",
    "        try :\n",
    "            dict[len(k)].append(sum(k))\n",
    "        except:\n",
    "            dict[len(k)] = [sum(k)]"
   ]
  },
  {
   "cell_type": "code",
   "execution_count": 933,
   "metadata": {},
   "outputs": [
    {
     "data": {
      "text/plain": [
       "{0: [0, 0, 0],\n",
       " 1: [11, 12, 13],\n",
       " 2: [23, 25, 27],\n",
       " 3: [36, 39, 42],\n",
       " 4: [50, 54, 58],\n",
       " 5: [65, 70, 75],\n",
       " 6: [81, 87, 93],\n",
       " 7: [98, 105, 112],\n",
       " 8: [116, 124, 132],\n",
       " 9: [135, 144, 153],\n",
       " 10: [155, 165, 175]}"
      ]
     },
     "execution_count": 933,
     "metadata": {},
     "output_type": "execute_result"
    }
   ],
   "source": [
    "dict"
   ]
  },
  {
   "cell_type": "code",
   "execution_count": 934,
   "metadata": {},
   "outputs": [],
   "source": [
    "p = max(list(dict.keys()))"
   ]
  },
  {
   "cell_type": "code",
   "execution_count": 935,
   "metadata": {},
   "outputs": [
    {
     "data": {
      "text/plain": [
       "155"
      ]
     },
     "execution_count": 935,
     "metadata": {},
     "output_type": "execute_result"
    }
   ],
   "source": [
    "min(dict[p])"
   ]
  },
  {
   "cell_type": "markdown",
   "metadata": {},
   "source": [
    "## sorting two list together"
   ]
  },
  {
   "cell_type": "code",
   "execution_count": 948,
   "metadata": {},
   "outputs": [],
   "source": [
    "list1 = [11,23,54,22,5,43,1,7,8]\n",
    "list2 = [4,3,55,32,67,88,5,86,34]"
   ]
  },
  {
   "cell_type": "code",
   "execution_count": 949,
   "metadata": {},
   "outputs": [],
   "source": [
    "list1 , list2 = zip(*sorted(zip(list1,list2)))"
   ]
  },
  {
   "cell_type": "code",
   "execution_count": 955,
   "metadata": {},
   "outputs": [
    {
     "data": {
      "text/plain": [
       "(1, 5, 7, 8, 11, 22, 23, 43, 54)"
      ]
     },
     "execution_count": 955,
     "metadata": {},
     "output_type": "execute_result"
    }
   ],
   "source": [
    "list1"
   ]
  },
  {
   "cell_type": "code",
   "execution_count": 956,
   "metadata": {},
   "outputs": [
    {
     "data": {
      "text/plain": [
       "(5, 67, 86, 34, 4, 32, 3, 88, 55)"
      ]
     },
     "execution_count": 956,
     "metadata": {},
     "output_type": "execute_result"
    }
   ],
   "source": [
    "list2"
   ]
  },
  {
   "cell_type": "code",
   "execution_count": null,
   "metadata": {},
   "outputs": [],
   "source": []
  },
  {
   "cell_type": "markdown",
   "metadata": {},
   "source": [
    "## Prefix Sum of Matrix (Or 2D Array)"
   ]
  },
  {
   "cell_type": "code",
   "execution_count": 982,
   "metadata": {},
   "outputs": [],
   "source": [
    "lists = [[10,20,30],[5,10,20],[2,4,6]]"
   ]
  },
  {
   "cell_type": "code",
   "execution_count": 983,
   "metadata": {},
   "outputs": [],
   "source": [
    "list = []\n",
    "sum = 0\n",
    "list2 = []\n",
    "for i in range(len(lists)):\n",
    "    if i==0:\n",
    "        for j in lists[i]:\n",
    "            sum = sum+j\n",
    "            list.append(sum)\n",
    "        list2.append(list)\n",
    "    else :\n",
    "        list = []\n",
    "        list.append(lists[i][0]+list2[i-1][0])\n",
    "        for k in range(1,len(lists[i])):\n",
    "            list.append((list2[i-1][k]-list2[i-1][k-1])+list[k-1]+lists[i][k])\n",
    "        list2.append(list)\n",
    "        "
   ]
  },
  {
   "cell_type": "code",
   "execution_count": 984,
   "metadata": {},
   "outputs": [
    {
     "name": "stdout",
     "output_type": "stream",
     "text": [
      "10 30 60\n",
      "15 45 95\n",
      "17 51 107\n"
     ]
    }
   ],
   "source": [
    "for i in list2:\n",
    "    print(*i ),"
   ]
  },
  {
   "cell_type": "markdown",
   "metadata": {},
   "source": [
    "## Maximum equlibrium sum in an array\n"
   ]
  },
  {
   "cell_type": "code",
   "execution_count": 1034,
   "metadata": {},
   "outputs": [],
   "source": [
    "arr = [-1, 2, 3, 0, 3, 2, -1]\n",
    "list1  = []"
   ]
  },
  {
   "cell_type": "code",
   "execution_count": 1035,
   "metadata": {},
   "outputs": [],
   "source": [
    "for i in range(len(arr)):\n",
    "    if sum(arr[:i+1]) == sum(arr[i:]):\n",
    "        list1.append(sum(arr[:i+1]))\n",
    "    "
   ]
  },
  {
   "cell_type": "code",
   "execution_count": 1036,
   "metadata": {},
   "outputs": [
    {
     "data": {
      "text/plain": [
       "[4]"
      ]
     },
     "execution_count": 1036,
     "metadata": {},
     "output_type": "execute_result"
    }
   ],
   "source": [
    "list1"
   ]
  },
  {
   "cell_type": "code",
   "execution_count": null,
   "metadata": {},
   "outputs": [],
   "source": []
  },
  {
   "cell_type": "markdown",
   "metadata": {},
   "source": [
    "## Removing an element makes array elements consecutive"
   ]
  },
  {
   "cell_type": "code",
   "execution_count": 24,
   "metadata": {},
   "outputs": [],
   "source": [
    "def removing_elem(arr):\n",
    "    flag = False\n",
    "    for i in range(len(arr)):\n",
    "        if i+1 <  len(arr):\n",
    "            if arr[i+1] -arr[i] > 1 :\n",
    "                b =  arr[i]\n",
    "                flag  =True\n",
    "                break\n",
    "            else :\n",
    "                continue\n",
    "                \n",
    "    if flag :\n",
    "        return b\n",
    "    else:\n",
    "        return \"Array elements are already consecutive\""
   ]
  },
  {
   "cell_type": "code",
   "execution_count": 26,
   "metadata": {},
   "outputs": [
    {
     "data": {
      "text/plain": [
       "5"
      ]
     },
     "execution_count": 26,
     "metadata": {},
     "output_type": "execute_result"
    }
   ],
   "source": [
    "arr = [7, 5, 12, 8]\n",
    "removing_elem(sorted(arr))"
   ]
  },
  {
   "cell_type": "code",
   "execution_count": 8,
   "metadata": {},
   "outputs": [
    {
     "name": "stdout",
     "output_type": "stream",
     "text": [
      "fr\n",
      "en\n",
      "None\n"
     ]
    }
   ],
   "source": [
    "from langdetect import detect_langs\n",
    "\n",
    "def englishOrFrench(string):\n",
    "    res = detect_langs(string)\n",
    "    for item in res:\n",
    "        if item.lang == \"fr\" or item.lang == \"en\":\n",
    "            return item.lang\n",
    "    return None\n",
    "\n",
    "print(englishOrFrench(\"Bonjour\"))              # fr\n",
    "print(englishOrFrench(\"The quick brown fox\"))  # en\n",
    "print(englishOrFrench(\"Hallo, mein Freund\"))"
   ]
  },
  {
   "cell_type": "code",
   "execution_count": 59,
   "metadata": {},
   "outputs": [],
   "source": [
    "from langdetect import detect\n",
    "import pandas as pd\n",
    "df = pd.read_excel('C:\\\\Users\\\\DU357159\\\\Documents\\\\ENU_DATA\\\\All_LangaugesShort.xls') #"
   ]
  },
  {
   "cell_type": "code",
   "execution_count": 60,
   "metadata": {},
   "outputs": [],
   "source": [
    "df['Languagereveiw'] = df['Review'].apply(detect)"
   ]
  },
  {
   "cell_type": "code",
   "execution_count": 61,
   "metadata": {},
   "outputs": [
    {
     "data": {
      "text/html": [
       "<div>\n",
       "<style scoped>\n",
       "    .dataframe tbody tr th:only-of-type {\n",
       "        vertical-align: middle;\n",
       "    }\n",
       "\n",
       "    .dataframe tbody tr th {\n",
       "        vertical-align: top;\n",
       "    }\n",
       "\n",
       "    .dataframe thead th {\n",
       "        text-align: right;\n",
       "    }\n",
       "</style>\n",
       "<table border=\"1\" class=\"dataframe\">\n",
       "  <thead>\n",
       "    <tr style=\"text-align: right;\">\n",
       "      <th></th>\n",
       "      <th>Topic</th>\n",
       "      <th>Review</th>\n",
       "      <th>Languagereveiw</th>\n",
       "    </tr>\n",
       "  </thead>\n",
       "  <tbody>\n",
       "    <tr>\n",
       "      <th>0</th>\n",
       "      <td>”ممتعة للصغار والكبار“</td>\n",
       "      <td>كانت جميله وممتعة للأطفال اولا حيث اماكن اللعب...</td>\n",
       "      <td>ar</td>\n",
       "    </tr>\n",
       "    <tr>\n",
       "      <th>1</th>\n",
       "      <td>“太热而且没什么亮点”</td>\n",
       "      <td>的马来西亚，天气忽晴忽雨，所以来到乐高乐园要看您的运气，因为大多数都是户外的游乐设施，如果遇...</td>\n",
       "      <td>zh-cn</td>\n",
       "    </tr>\n",
       "    <tr>\n",
       "      <th>2</th>\n",
       "      <td>“Perfekt til 3 og 6 årig”</td>\n",
       "      <td>Vi havde 2 perfekte dage i Legoland Malaysia. ...</td>\n",
       "      <td>da</td>\n",
       "    </tr>\n",
       "    <tr>\n",
       "      <th>3</th>\n",
       "      <td>“Dag Legoland”</td>\n",
       "      <td>Wij hebben alleen gekozen voor het waterpark m...</td>\n",
       "      <td>nl</td>\n",
       "    </tr>\n",
       "    <tr>\n",
       "      <th>4</th>\n",
       "      <td>“Its Ok”</td>\n",
       "      <td>This is a park thats just ok, nothing great to...</td>\n",
       "      <td>en</td>\n",
       "    </tr>\n",
       "  </tbody>\n",
       "</table>\n",
       "</div>"
      ],
      "text/plain": [
       "                       Topic  \\\n",
       "0     ”ممتعة للصغار والكبار“   \n",
       "1                “太热而且没什么亮点”   \n",
       "2  “Perfekt til 3 og 6 årig”   \n",
       "3             “Dag Legoland”   \n",
       "4                   “Its Ok”   \n",
       "\n",
       "                                              Review Languagereveiw  \n",
       "0  كانت جميله وممتعة للأطفال اولا حيث اماكن اللعب...             ar  \n",
       "1  的马来西亚，天气忽晴忽雨，所以来到乐高乐园要看您的运气，因为大多数都是户外的游乐设施，如果遇...          zh-cn  \n",
       "2  Vi havde 2 perfekte dage i Legoland Malaysia. ...             da  \n",
       "3  Wij hebben alleen gekozen voor het waterpark m...             nl  \n",
       "4  This is a park thats just ok, nothing great to...             en  "
      ]
     },
     "execution_count": 61,
     "metadata": {},
     "output_type": "execute_result"
    }
   ],
   "source": [
    "df"
   ]
  },
  {
   "cell_type": "code",
   "execution_count": 62,
   "metadata": {},
   "outputs": [],
   "source": [
    "arabic_text = u\"\"\"\n",
    "أفاد مصدر امني في قيادة عمليات صلاح الدين في العراق بأن \" القوات الامنية تتوقف لليوم\n",
    "الثالث على التوالي عن التقدم الى داخل مدينة تكريت بسبب\n",
    "انتشار قناصي التنظيم الذي يطلق على نفسه اسم \"الدولة الاسلامية\" والعبوات الناسفة\n",
    "والمنازل المفخخة والانتحاريين، فضلا عن ان القوات الامنية تنتظر وصول تعزيزات اضافية \".\n",
    "\"\"\""
   ]
  },
  {
   "cell_type": "code",
   "execution_count": 63,
   "metadata": {},
   "outputs": [
    {
     "data": {
      "text/plain": [
       "'ar'"
      ]
     },
     "execution_count": 63,
     "metadata": {},
     "output_type": "execute_result"
    }
   ],
   "source": [
    "detect(arabic_text)"
   ]
  },
  {
   "cell_type": "code",
   "execution_count": 64,
   "metadata": {},
   "outputs": [],
   "source": [
    "mixed_text = u\"\"\"\n",
    "China (simplified Chinese: 中国; traditional Chinese: 中國),\n",
    "officially the People's Republic of China (PRC), is a sovereign state located in East Asia.\n",
    "\"\"\""
   ]
  },
  {
   "cell_type": "code",
   "execution_count": 65,
   "metadata": {},
   "outputs": [
    {
     "data": {
      "text/plain": [
       "'en'"
      ]
     },
     "execution_count": 65,
     "metadata": {},
     "output_type": "execute_result"
    }
   ],
   "source": [
    "detect(mixed_text)"
   ]
  },
  {
   "cell_type": "markdown",
   "metadata": {},
   "source": [
    "## pickle"
   ]
  },
  {
   "cell_type": "code",
   "execution_count": 8,
   "metadata": {},
   "outputs": [],
   "source": [
    "import pickle"
   ]
  },
  {
   "cell_type": "code",
   "execution_count": 9,
   "metadata": {},
   "outputs": [
    {
     "name": "stdout",
     "output_type": "stream",
     "text": [
      "Omkar => {'key': 'Omkar', 'name': 'Omkar Pathak', 'age': 21, 'pay': 40000}\n",
      "Jagdish => {'key': 'Jagdish', 'name': 'Jagdish Pathak', 'age': 50, 'pay': 50000}\n"
     ]
    }
   ],
   "source": [
    "def storeData():\n",
    "    # initializing data to be stored in db\n",
    "    Omkar = {'key' : 'Omkar', 'name' : 'Omkar Pathak',\n",
    "    'age' : 21, 'pay' : 40000}\n",
    "    Jagdish = {'key' : 'Jagdish', 'name' : 'Jagdish Pathak',\n",
    "    'age' : 50, 'pay' : 50000}\n",
    " \n",
    "    # database\n",
    "    db = {}\n",
    "    db['Omkar'] = Omkar\n",
    "    db['Jagdish'] = Jagdish\n",
    "     \n",
    "    # Its important to use binary mode\n",
    "    dbfile = open('C:\\\\Users\\\\DU357159\\\\Desktop\\\\Notenooks\\\\examplePickle', 'ab')\n",
    "     \n",
    "    # source, destination\n",
    "    pickle.dump(db, dbfile)   \n",
    "    dbfile.close()\n",
    " \n",
    "def loadData():\n",
    "    # for reading also binary mode is important\n",
    "    dbfile = open('C:\\\\Users\\\\DU357159\\\\Desktop\\\\Notenooks\\\\examplePickle', 'rb')     \n",
    "    db = pickle.load(dbfile)\n",
    "    for keys in db:\n",
    "        print(keys, '=>', db[keys])\n",
    "    dbfile.close()\n",
    " \n",
    "if __name__ == '__main__':\n",
    "    storeData()\n",
    "    loadData()"
   ]
  },
  {
   "cell_type": "code",
   "execution_count": null,
   "metadata": {},
   "outputs": [],
   "source": []
  },
  {
   "cell_type": "code",
   "execution_count": null,
   "metadata": {},
   "outputs": [],
   "source": []
  }
 ],
 "metadata": {
  "kernelspec": {
   "display_name": "Python 3",
   "language": "python",
   "name": "python3"
  },
  "language_info": {
   "codemirror_mode": {
    "name": "ipython",
    "version": 3
   },
   "file_extension": ".py",
   "mimetype": "text/x-python",
   "name": "python",
   "nbconvert_exporter": "python",
   "pygments_lexer": "ipython3",
   "version": "3.6.4"
  }
 },
 "nbformat": 4,
 "nbformat_minor": 2
}
