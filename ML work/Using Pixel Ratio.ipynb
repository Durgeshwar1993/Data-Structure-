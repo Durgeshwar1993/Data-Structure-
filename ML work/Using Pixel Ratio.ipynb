{
 "cells": [
  {
   "cell_type": "code",
   "execution_count": null,
   "metadata": {},
   "outputs": [],
   "source": [
    "from osgeo import gdal ,gdal_array\n",
    "gdal.AllRegister()\n",
    "import os\n",
    "import numpy\n",
    "import cv2\n",
    "import gdalnumeric\n",
    "\n",
    "path3 = 'C://Users//DU357159//Documents//ENU_DATA//New_Data//combined'\n",
    "\n",
    "for filename in os.listdir(path3):                    \n",
    "    print(filename)\n",
    "    file = os.path.join(path3, filename)\n",
    "    print(file)\n",
    "    (fileRoot, fileExt) = os.path.splitext(file)\n",
    "    outFileName = fileRoot + \"_mod\" + fileExt\n",
    "    ds = gdal.Open(os.path.join(path3, filename), gdal.GA_ReadOnly)\n",
    "    gt = ds.GetGeoTransform()\n",
    "    print(\"geoTransform\" , gt)\n",
    "    #(258012.37107330866, 2.11668210080698, 0.0, 163176.6385398821, 0.0, -2.1168501270110074)\n",
    "    print('File list:', ds.GetFileList())\n",
    "    print('Width:', ds.RasterXSize)\n",
    "    print('Height:', ds.RasterYSize)\n",
    "    pixel_ratio = ds.RasterYSize/ds.RasterXSize\n",
    "    if pixel_ratio < 1 :\n",
    "        img = cv2.imread(file)\n",
    "        filepath = 'C://Users//DU357159//Documents//ENU_DATA//seprated_data//Sismic'\n",
    "        cv2.imwrite(os.path.join(filepath , filename), img)\n",
    "        cv2.waitKey(0)\n",
    "    else :\n",
    "        img = cv2.imread(file)\n",
    "        filepath = 'C://Users//DU357159//Documents//ENU_DATA//seprated_data//Map'\n",
    "        cv2.imwrite(os.path.join(filepath , filename), img)\n",
    "        cv2.waitKey(0)"
   ]
  },
  {
   "cell_type": "code",
   "execution_count": 129,
   "metadata": {},
   "outputs": [],
   "source": [
    "path = \"C:\\\\Users\\\\DU357159\\\\Documents\\\\ENU_DATA\\\\data\\\\Maps\\\\images (13).jpg\""
   ]
  },
  {
   "cell_type": "code",
   "execution_count": 130,
   "metadata": {},
   "outputs": [
    {
     "name": "stdout",
     "output_type": "stream",
     "text": [
      "{'m00': 32.0, 'm10': 9984.0, 'm01': 3840.0, 'm20': 3115093.333333333, 'm11': 1198080.0, 'm02': 460885.3333333333, 'm30': 971962368.0, 'm21': 373811200.0, 'm12': 143796224.0, 'm03': 55326720.0, 'mu20': 85.33333333302289, 'mu11': 0.0, 'mu02': 85.33333333331393, 'mu30': 2.384185791015625e-07, 'mu21': 3.725290298461914e-08, 'mu12': 6.05359673500061e-09, 'mu03': 7.450580596923828e-09, 'nu20': 0.08333333333303017, 'nu11': 0.0, 'nu02': 0.08333333333331439, 'nu30': 4.1159031748919956e-11, 'nu21': 6.431098710768743e-12, 'nu12': 1.0450535404999208e-12, 'nu03': 1.2862197421537486e-12}\n",
      "312 120\n"
     ]
    }
   ],
   "source": [
    "import numpy as np\n",
    "import cv2\n",
    "\n",
    "im = cv2.imread(path,0)\n",
    "ret,thresh = cv2.threshold(img,127,255,0)\n",
    "image , contours,hierarchy = cv2.findContours(thresh, 1, 2)\n",
    "cnt = contours[0]\n",
    "M = cv2.moments(cnt)\n",
    "print (M)\n",
    "cx = int(M['m10']/M['m00'])\n",
    "cy = int(M['m01']/M['m00'])\n",
    "print(cx,cy)"
   ]
  },
  {
   "cell_type": "code",
   "execution_count": 131,
   "metadata": {},
   "outputs": [
    {
     "name": "stdout",
     "output_type": "stream",
     "text": [
      "{'m00': 32.0, 'm10': 9984.0, 'm01': 3840.0, 'm20': 3115093.333333333, 'm11': 1198080.0, 'm02': 460885.3333333333, 'm30': 971962368.0, 'm21': 373811200.0, 'm12': 143796224.0, 'm03': 55326720.0, 'mu20': 85.33333333302289, 'mu11': 0.0, 'mu02': 85.33333333331393, 'mu30': 2.384185791015625e-07, 'mu21': 3.725290298461914e-08, 'mu12': 6.05359673500061e-09, 'mu03': 7.450580596923828e-09, 'nu20': 0.08333333333303017, 'nu11': 0.0, 'nu02': 0.08333333333331439, 'nu30': 4.1159031748919956e-11, 'nu21': 6.431098710768743e-12, 'nu12': 1.0450535404999208e-12, 'nu03': 1.2862197421537486e-12}\n"
     ]
    }
   ],
   "source": [
    "cnt = contours[0]\n",
    "M = cv2.moments(cnt)\n",
    "print (M)"
   ]
  },
  {
   "cell_type": "code",
   "execution_count": 132,
   "metadata": {},
   "outputs": [],
   "source": [
    "area = cv2.contourArea(cnt)"
   ]
  },
  {
   "cell_type": "code",
   "execution_count": 133,
   "metadata": {},
   "outputs": [
    {
     "data": {
      "text/plain": [
       "32.0"
      ]
     },
     "execution_count": 133,
     "metadata": {},
     "output_type": "execute_result"
    }
   ],
   "source": [
    "area"
   ]
  },
  {
   "cell_type": "code",
   "execution_count": 134,
   "metadata": {},
   "outputs": [
    {
     "data": {
      "text/plain": [
       "22.627416610717773"
      ]
     },
     "execution_count": 134,
     "metadata": {},
     "output_type": "execute_result"
    }
   ],
   "source": [
    "perimeter = cv2.arcLength(cnt,True)\n",
    "perimeter"
   ]
  },
  {
   "cell_type": "code",
   "execution_count": null,
   "metadata": {},
   "outputs": [],
   "source": []
  },
  {
   "cell_type": "code",
   "execution_count": 135,
   "metadata": {},
   "outputs": [
    {
     "data": {
      "text/plain": [
       "'cv2.drawContours(im,contours,-1,(0,255,0),3)\\ncv2.imshow(\"Contour\",im)\\n\\ncv2.waitKey(0)\\ncv2.destroyAllWindows()'"
      ]
     },
     "execution_count": 135,
     "metadata": {},
     "output_type": "execute_result"
    }
   ],
   "source": [
    "'''cv2.drawContours(im,contours,-1,(0,255,0),3)\n",
    "cv2.imshow(\"Contour\",im)\n",
    "\n",
    "cv2.waitKey(0)\n",
    "cv2.destroyAllWindows()'''"
   ]
  },
  {
   "cell_type": "code",
   "execution_count": 2,
   "metadata": {},
   "outputs": [
    {
     "name": "stdout",
     "output_type": "stream",
     "text": [
      "720483274_2000692445_WDF0000235.tif\n",
      "C://Users//DU357159//Documents//ENU_DATA//New_Data//combined\\720483274_2000692445_WDF0000235.tif\n",
      "geoTransform (0.0, 1.0, 0.0, 0.0, 0.0, 1.0)\n",
      "File list: ['C://Users//DU357159//Documents//ENU_DATA//New_Data//combined\\\\720483274_2000692445_WDF0000235.tif']\n",
      "Width: 27504\n",
      "Height: 13563\n",
      "pixel ratio  0.4931282722513089\n",
      "720483274_2000692449_WDF0000236.tif\n",
      "C://Users//DU357159//Documents//ENU_DATA//New_Data//combined\\720483274_2000692449_WDF0000236.tif\n",
      "geoTransform (0.0, 1.0, 0.0, 0.0, 0.0, 1.0)\n",
      "File list: ['C://Users//DU357159//Documents//ENU_DATA//New_Data//combined\\\\720483274_2000692449_WDF0000236.tif']\n",
      "Width: 46088\n",
      "Height: 11504\n",
      "pixel ratio  0.24960944280506855\n",
      "720483274_2000692450_WDF0000237.tif\n",
      "C://Users//DU357159//Documents//ENU_DATA//New_Data//combined\\720483274_2000692450_WDF0000237.tif\n",
      "geoTransform (0.0, 1.0, 0.0, 0.0, 0.0, 1.0)\n",
      "File list: ['C://Users//DU357159//Documents//ENU_DATA//New_Data//combined\\\\720483274_2000692450_WDF0000237.tif']\n",
      "Width: 26395\n",
      "Height: 9440\n",
      "pixel ratio  0.3576434930858117\n",
      "720483274_2000692451_WDF0000343.tif\n",
      "C://Users//DU357159//Documents//ENU_DATA//New_Data//combined\\720483274_2000692451_WDF0000343.tif\n",
      "geoTransform (0.0, 1.0, 0.0, 0.0, 0.0, 1.0)\n",
      "File list: ['C://Users//DU357159//Documents//ENU_DATA//New_Data//combined\\\\720483274_2000692451_WDF0000343.tif']\n",
      "Width: 16803\n",
      "Height: 9747\n",
      "pixel ratio  0.580074986609534\n",
      "720483274_2000692452_WDF0000238.tif\n",
      "C://Users//DU357159//Documents//ENU_DATA//New_Data//combined\\720483274_2000692452_WDF0000238.tif\n",
      "geoTransform (0.0, 1.0, 0.0, 0.0, 0.0, 1.0)\n",
      "File list: ['C://Users//DU357159//Documents//ENU_DATA//New_Data//combined\\\\720483274_2000692452_WDF0000238.tif']\n",
      "Width: 24743\n",
      "Height: 10239\n",
      "pixel ratio  0.41381400800226326\n",
      "720483274_2000692456_WDF0000242.tif\n",
      "C://Users//DU357159//Documents//ENU_DATA//New_Data//combined\\720483274_2000692456_WDF0000242.tif\n",
      "geoTransform (0.0, 1.0, 0.0, 0.0, 0.0, 1.0)\n",
      "File list: ['C://Users//DU357159//Documents//ENU_DATA//New_Data//combined\\\\720483274_2000692456_WDF0000242.tif']\n",
      "Width: 13647\n",
      "Height: 9680\n",
      "pixel ratio  0.7093134022129406\n",
      "720483274_2000692457_WDF0000243.tif\n",
      "C://Users//DU357159//Documents//ENU_DATA//New_Data//combined\\720483274_2000692457_WDF0000243.tif\n",
      "geoTransform (0.0, 1.0, 0.0, 0.0, 0.0, 1.0)\n",
      "File list: ['C://Users//DU357159//Documents//ENU_DATA//New_Data//combined\\\\720483274_2000692457_WDF0000243.tif']\n",
      "Width: 11467\n",
      "Height: 9444\n",
      "pixel ratio  0.8235807098630854\n",
      "map_WDF0000233.tif\n",
      "C://Users//DU357159//Documents//ENU_DATA//New_Data//combined\\map_WDF0000233.tif\n",
      "geoTransform (0.0, 1.0, 0.0, 0.0, 0.0, 1.0)\n",
      "File list: ['C://Users//DU357159//Documents//ENU_DATA//New_Data//combined\\\\map_WDF0000233.tif']\n",
      "Width: 17619\n",
      "Height: 30365\n",
      "pixel ratio  1.723423576820478\n",
      "map_WDF0000234.tif\n",
      "C://Users//DU357159//Documents//ENU_DATA//New_Data//combined\\map_WDF0000234.tif\n",
      "geoTransform (0.0, 1.0, 0.0, 0.0, 0.0, 1.0)\n",
      "File list: ['C://Users//DU357159//Documents//ENU_DATA//New_Data//combined\\\\map_WDF0000234.tif']\n",
      "Width: 11566\n",
      "Height: 20966\n",
      "pixel ratio  1.8127269583261283\n"
     ]
    }
   ],
   "source": [
    "from osgeo import gdal ,gdal_array\n",
    "gdal.AllRegister()\n",
    "import os\n",
    "import numpy\n",
    "import cv2\n",
    "import gdalnumeric\n",
    "\n",
    "path3 = 'C://Users//DU357159//Documents//ENU_DATA//New_Data//combined'\n",
    "\n",
    "for filename in os.listdir(path3):                    \n",
    "    print(filename)\n",
    "    file = os.path.join(path3, filename)\n",
    "    print(file)\n",
    "    (fileRoot, fileExt) = os.path.splitext(file)\n",
    "    outFileName = fileRoot + \"_mod\" + fileExt\n",
    "    ds = gdal.Open(os.path.join(path3, filename), gdal.GA_ReadOnly)\n",
    "    gt = ds.GetGeoTransform()\n",
    "    print(\"geoTransform\" , gt)\n",
    "    #(258012.37107330866, 2.11668210080698, 0.0, 163176.6385398821, 0.0, -2.1168501270110074)\n",
    "    print('File list:', ds.GetFileList())\n",
    "    print('Width:', ds.RasterXSize)\n",
    "    print('Height:', ds.RasterYSize)\n",
    "    pixel_ratio = ds.RasterYSize/ds.RasterXSize\n",
    "    print(\"pixel ratio \" ,pixel_ratio)"
   ]
  },
  {
   "cell_type": "code",
   "execution_count": null,
   "metadata": {},
   "outputs": [],
   "source": []
  }
 ],
 "metadata": {
  "kernelspec": {
   "display_name": "Python 3",
   "language": "python",
   "name": "python3"
  },
  "language_info": {
   "codemirror_mode": {
    "name": "ipython",
    "version": 3
   },
   "file_extension": ".py",
   "mimetype": "text/x-python",
   "name": "python",
   "nbconvert_exporter": "python",
   "pygments_lexer": "ipython3",
   "version": "3.6.4"
  }
 },
 "nbformat": 4,
 "nbformat_minor": 2
}
