{
 "cells": [
  {
   "cell_type": "markdown",
   "metadata": {},
   "source": [
    "## datapreprocessing with question set"
   ]
  },
  {
   "cell_type": "code",
   "execution_count": 41,
   "metadata": {},
   "outputs": [],
   "source": [
    "import pandas as pd\n",
    "import numpy as np\n",
    "import re\n",
    "from nltk.stem import SnowballStemmer"
   ]
  },
  {
   "cell_type": "code",
   "execution_count": 37,
   "metadata": {},
   "outputs": [],
   "source": [
    "df = pd.read_csv(\"C:\\\\Users\\\\DU357159\\\\Documents\\\\ENU_DATA\\questions.csv\")"
   ]
  },
  {
   "cell_type": "code",
   "execution_count": 43,
   "metadata": {},
   "outputs": [],
   "source": [
    "def review_to_wordlist(review, remove_stopwords=True):\n",
    "    # Clean the text, with the option to remove stopwords.\n",
    "    \n",
    "    # Convert words to lower case and split them\n",
    "    words = str(review).lower().split()\n",
    "\n",
    "    # Optionally remove stop words (true by default)\n",
    "    if remove_stopwords:\n",
    "        stops = set(stopwords.words(\"english\"))\n",
    "        words = [w for w in words if not w in stops]\n",
    "    \n",
    "    review_text = \" \".join(words)\n",
    "\n",
    "    # Clean the text\n",
    "    review_text = re.sub(r\"[^A-Za-z0-9(),!.?\\'\\`]\", \" \", review_text)\n",
    "    review_text = re.sub(r\"\\'s\", \" 's \", review_text)\n",
    "    review_text = re.sub(r\"\\'ve\", \" 've \", review_text)\n",
    "    review_text = re.sub(r\"n\\'t\", \" 't \", review_text)\n",
    "    review_text = re.sub(r\"\\'re\", \" 're \", review_text)\n",
    "    review_text = re.sub(r\"\\'d\", \" 'd \", review_text)\n",
    "    review_text = re.sub(r\"\\'ll\", \" 'll \", review_text)\n",
    "    review_text = re.sub(r\",\", \" \", review_text)\n",
    "    review_text = re.sub(r\"\\.\", \" \", review_text)\n",
    "    review_text = re.sub(r\"!\", \" \", review_text)\n",
    "    review_text = re.sub(r\"\\(\", \" ( \", review_text)\n",
    "    review_text = re.sub(r\"\\)\", \" ) \", review_text)\n",
    "    review_text = re.sub(r\"\\?\", \" \", review_text)\n",
    "    review_text = re.sub(r\"\\s{2,}\", \" \", review_text)\n",
    "    \n",
    "    words = review_text.split()\n",
    "    \n",
    "    # Shorten words to their stems\n",
    "    stemmer = SnowballStemmer('english')\n",
    "    stemmed_words = [stemmer.stem(word) for word in words]\n",
    "    \n",
    "    review_text = \" \".join(stemmed_words)\n",
    "    \n",
    "    # Return a list of words\n",
    "    return(review_text)"
   ]
  },
  {
   "cell_type": "code",
   "execution_count": 44,
   "metadata": {},
   "outputs": [],
   "source": [
    "def process_questions(question_list, questions, question_list_name):\n",
    "# function to transform questions and display progress\n",
    "    for question in questions:\n",
    "        question_list.append(review_to_wordlist(question))\n",
    "        ##if len(question_list) % 10000 == 0:\n",
    "            ##progress = len(question_list)/len(df) * 100\n",
    "           ##print(\"{} is {}% complete.\".format(question_list_name, round(progress, 1)))"
   ]
  },
  {
   "cell_type": "code",
   "execution_count": 45,
   "metadata": {},
   "outputs": [
    {
     "name": "stdout",
     "output_type": "stream",
     "text": [
      "\n"
     ]
    }
   ],
   "source": [
    "questions1 = []     \n",
    "process_questions(questions1, df.question1, \"questions1\")\n",
    "print()\n",
    "questions2 = []     \n",
    "process_questions(questions2, df.question2, \"questions2\")"
   ]
  },
  {
   "cell_type": "code",
   "execution_count": 49,
   "metadata": {},
   "outputs": [],
   "source": [
    "invalid_questions1 = []\n",
    "invalid_questions2 = []\n",
    "for i in range(len(questions1)):\n",
    "    # questions need to contain a vowel (which should be part of a full word) to be valid\n",
    "    if not re.search('[aeiouyAEIOUY]', questions1[i]):\n",
    "    # Need to subtract 'len(invalid_questions)' to adjust for the changing index values as questions are removed.\n",
    "        invalid_questions1.append(questions1[i])\n",
    "    if not re.search('[aeiouyAEIOUY]', questions2[i]):\n",
    "    # Need to subtract 'len(invalid_questions)' to adjust for the changing index values as questions are removed.\n",
    "        invalid_questions2.append(questions2[i])\n"
   ]
  },
  {
   "cell_type": "code",
   "execution_count": 54,
   "metadata": {},
   "outputs": [],
   "source": [
    "question1 = [question for question in questions1 if question not in invalid_questions1]\n",
    "question2 = [question for question in questions2 if question not in invalid_questions2]"
   ]
  },
  {
   "cell_type": "code",
   "execution_count": 63,
   "metadata": {},
   "outputs": [
    {
     "data": {
      "text/plain": [
       "'stori kohinoor ( koh i noor ) diamond'"
      ]
     },
     "execution_count": 63,
     "metadata": {},
     "output_type": "execute_result"
    }
   ],
   "source": [
    "question1[1]"
   ]
  },
  {
   "cell_type": "code",
   "execution_count": 70,
   "metadata": {},
   "outputs": [],
   "source": [
    "q1 = [w for w in question1]\n",
    "q2 = []\n",
    "for i in q1:\n",
    "    q2.extend(i.split())"
   ]
  },
  {
   "cell_type": "code",
   "execution_count": null,
   "metadata": {},
   "outputs": [],
   "source": []
  },
  {
   "cell_type": "markdown",
   "metadata": {},
   "source": [
    "## data preprocessing"
   ]
  },
  {
   "cell_type": "code",
   "execution_count": 19,
   "metadata": {},
   "outputs": [],
   "source": [
    "import nltk\n",
    "from nltk.corpus import stopwords"
   ]
  },
  {
   "cell_type": "code",
   "execution_count": 20,
   "metadata": {},
   "outputs": [],
   "source": [
    "stop_words_en = stopwords.words(\"english\")\n",
    "def preprocessing(raw):\n",
    "    wordlist = nltk.word_tokenize(raw)\n",
    "    text = [w for w in wordlist if w not in stop_words_en]\n",
    "    return text\n",
    "f1 = open(\"C:\\\\Users\\\\DU357159\\\\Documents\\\\ENU_DATA\\\\data\\\\SampleTextFile_500kb.txt\" , \"r\" ,encoding = \"utf8\")\n",
    "text1 = preprocessing(f1.read())\n",
    "f2 = open(\"C:\\\\Users\\\\DU357159\\\\Documents\\\\ENU_DATA\\\\data\\\\SampleTextFile_1000kb.txt\" , \"r\" ,encoding = \"utf8\")\n",
    "text2 = preprocessing(f2.read())\n"
   ]
  },
  {
   "cell_type": "code",
   "execution_count": 21,
   "metadata": {},
   "outputs": [],
   "source": [
    "import gensim\n",
    "from gensim.models.doc2vec import TaggedDocument"
   ]
  },
  {
   "cell_type": "code",
   "execution_count": 73,
   "metadata": {},
   "outputs": [],
   "source": [
    "taggeddocs = []\n",
    "doc1 = TaggedDocument(words = text1 , tags = [\"text1\"])\n",
    "taggeddocs.append(doc1)\n",
    "doc2 = TaggedDocument(words = q2 , tags = [\"text1\"])\n",
    "taggeddocs.append(doc2)"
   ]
  },
  {
   "cell_type": "code",
   "execution_count": 74,
   "metadata": {},
   "outputs": [
    {
     "name": "stderr",
     "output_type": "stream",
     "text": [
      "C:\\Users\\DU357159\\AppData\\Local\\Continuum\\anaconda3\\lib\\site-packages\\gensim\\models\\doc2vec.py:366: UserWarning: The parameter `size` is deprecated, will be removed in 4.0.0, use `vector_size` instead.\n",
      "  warnings.warn(\"The parameter `size` is deprecated, will be removed in 4.0.0, use `vector_size` instead.\")\n"
     ]
    }
   ],
   "source": [
    "model = gensim.models.Doc2Vec(taggeddocs ,dm = 0,alpha = 0.025 , size =20 , min_alpha = 0.025 ,min_count = 0)"
   ]
  },
  {
   "cell_type": "code",
   "execution_count": 75,
   "metadata": {},
   "outputs": [],
   "source": [
    "model.train(taggeddocs ,epochs = 20 , total_examples=model.corpus_count)"
   ]
  },
  {
   "cell_type": "code",
   "execution_count": 76,
   "metadata": {},
   "outputs": [
    {
     "name": "stderr",
     "output_type": "stream",
     "text": [
      "C:\\Users\\DU357159\\AppData\\Local\\Continuum\\anaconda3\\lib\\site-packages\\ipykernel_launcher.py:1: DeprecationWarning: Call to deprecated `n_similarity` (Method will be removed in 4.0.0, use self.wv.n_similarity() instead).\n",
      "  \"\"\"Entry point for launching an IPython kernel.\n"
     ]
    },
    {
     "name": "stdout",
     "output_type": "stream",
     "text": [
      "similarity index : 6.09%\n"
     ]
    }
   ],
   "source": [
    "similarity = model.n_similarity(text1,q2)\n",
    "print(\"similarity index : {:4.2f}%\".format(similarity*100))"
   ]
  },
  {
   "cell_type": "code",
   "execution_count": null,
   "metadata": {},
   "outputs": [],
   "source": []
  }
 ],
 "metadata": {
  "kernelspec": {
   "display_name": "Python 3",
   "language": "python",
   "name": "python3"
  },
  "language_info": {
   "codemirror_mode": {
    "name": "ipython",
    "version": 3
   },
   "file_extension": ".py",
   "mimetype": "text/x-python",
   "name": "python",
   "nbconvert_exporter": "python",
   "pygments_lexer": "ipython3",
   "version": "3.6.4"
  }
 },
 "nbformat": 4,
 "nbformat_minor": 2
}
