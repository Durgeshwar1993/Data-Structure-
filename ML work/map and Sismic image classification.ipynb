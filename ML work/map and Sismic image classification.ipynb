{
 "cells": [
  {
   "cell_type": "markdown",
   "metadata": {},
   "source": [
    "## preProcessing"
   ]
  },
  {
   "cell_type": "code",
   "execution_count": 61,
   "metadata": {},
   "outputs": [
    {
     "name": "stderr",
     "output_type": "stream",
     "text": [
      "C:\\Users\\DU357159\\AppData\\Local\\Continuum\\anaconda3\\lib\\site-packages\\h5py\\__init__.py:36: FutureWarning: Conversion of the second argument of issubdtype from `float` to `np.floating` is deprecated. In future, it will be treated as `np.float64 == np.dtype(float).type`.\n",
      "  from ._conv import register_converters as _register_converters\n",
      "Using TensorFlow backend.\n",
      "C:\\Users\\DU357159\\AppData\\Local\\Continuum\\anaconda3\\lib\\site-packages\\sklearn\\cross_validation.py:41: DeprecationWarning: This module was deprecated in version 0.18 in favor of the model_selection module into which all the refactored classes and functions are moved. Also note that the interface of the new CV iterators are different from that of this module. This module will be removed in 0.20.\n",
      "  \"This module will be removed in 0.20.\", DeprecationWarning)\n"
     ]
    }
   ],
   "source": [
    "from keras.models import Sequential\n",
    "from keras.layers import Convolution2D, MaxPooling2D, Activation ,Dense ,Dropout , Flatten ,ConvLSTM2D\n",
    "from keras.utils import np_utils\n",
    "import matplotlib.pyplot as plt\n",
    "from keras.optimizers import SGD,RMSprop,adam ,adadelta\n",
    "import os ,cv2\n",
    "import numpy as np\n",
    "import matplotlib.pyplot as plt\n",
    "from sklearn.utils import shuffle\n",
    "from sklearn.cross_validation import train_test_split\n",
    "from keras import backend as K\n",
    "K.set_image_dim_ordering('th')\n",
    "from keras.preprocessing.image import ImageDataGenerator\n",
    "from sklearn import preprocessing"
   ]
  },
  {
   "cell_type": "code",
   "execution_count": 66,
   "metadata": {},
   "outputs": [],
   "source": [
    "path = \"C://Users//DU357159//Documents//ENU_DATA//data\"\n",
    "data_list_directory = os.listdir(path)"
   ]
  },
  {
   "cell_type": "code",
   "execution_count": 67,
   "metadata": {},
   "outputs": [],
   "source": [
    "img_rows = 128\n",
    "img_col = 128\n",
    "no_of_channel = 1\n",
    "num_epochs =20\n",
    "num_classes =2"
   ]
  },
  {
   "cell_type": "code",
   "execution_count": 68,
   "metadata": {},
   "outputs": [],
   "source": [
    "img_data_list = []"
   ]
  },
  {
   "cell_type": "code",
   "execution_count": 69,
   "metadata": {},
   "outputs": [],
   "source": [
    "for dataset in data_list_directory:\n",
    "    img_path = os.listdir(path +\"//\"+dataset)\n",
    "    for img in img_path:\n",
    "        input_img = cv2.imread(path +\"//\"+dataset+\"//\"+img)\n",
    "        input_img = cv2.cvtColor(input_img,cv2.COLOR_BGR2GRAY)\n",
    "        input_img_resize = cv2.resize(input_img,(128,128))\n",
    "        img_data_list.append(input_img_resize)\n",
    "    "
   ]
  },
  {
   "cell_type": "code",
   "execution_count": 70,
   "metadata": {},
   "outputs": [],
   "source": [
    "image_array = np.array(img_data_list)\n",
    "image_array = image_array.astype('float32')"
   ]
  },
  {
   "cell_type": "code",
   "execution_count": 71,
   "metadata": {},
   "outputs": [],
   "source": [
    "image_array = image_array.astype('float32')\n",
    "image_array /= 255"
   ]
  },
  {
   "cell_type": "code",
   "execution_count": 72,
   "metadata": {},
   "outputs": [
    {
     "data": {
      "text/plain": [
       "(150, 128, 128)"
      ]
     },
     "execution_count": 72,
     "metadata": {},
     "output_type": "execute_result"
    }
   ],
   "source": [
    "image_array.shape"
   ]
  },
  {
   "cell_type": "code",
   "execution_count": 73,
   "metadata": {},
   "outputs": [],
   "source": [
    "no_of_samples = image_array.shape[0]\n",
    "labels = np.ones((no_of_samples) , dtype='int64')\n",
    "labels[0:71] = 0\n",
    "labels[71:] = 1\n",
    "Y = np_utils.to_categorical(labels, num_classes)"
   ]
  },
  {
   "cell_type": "code",
   "execution_count": 74,
   "metadata": {},
   "outputs": [],
   "source": [
    "x,y = shuffle(image_array ,Y ,random_state = 2)"
   ]
  },
  {
   "cell_type": "code",
   "execution_count": 75,
   "metadata": {},
   "outputs": [
    {
     "name": "stdout",
     "output_type": "stream",
     "text": [
      "(120, 128, 128)\n",
      "(120, 2)\n"
     ]
    }
   ],
   "source": [
    "X_train ,X_test ,y_train,y_test = train_test_split(x,y,test_size =0.2 ,random_state =4)\n",
    "print(X_train.shape)\n",
    "print(y_train.shape)\n",
    "datagen = ImageDataGenerator(\n",
    "    featurewise_center=True,\n",
    "    featurewise_std_normalization=True,\n",
    "    rotation_range=20,\n",
    "    width_shift_range=0.2,\n",
    "    height_shift_range=0.2,\n",
    "    horizontal_flip=True)\n",
    "\n",
    "X_train = X_train.reshape(X_train.shape[0] , 1,img_rows ,img_col )\n",
    "X_test = X_test.reshape(X_test.shape[0] , 1,img_rows ,img_col)\n",
    "datagen.fit(X_train)"
   ]
  },
  {
   "cell_type": "markdown",
   "metadata": {},
   "source": [
    "## defining Model"
   ]
  },
  {
   "cell_type": "code",
   "execution_count": 76,
   "metadata": {},
   "outputs": [
    {
     "name": "stdout",
     "output_type": "stream",
     "text": [
      "(120, 1, 128, 128)\n"
     ]
    }
   ],
   "source": [
    "print(X_train.shape)"
   ]
  },
  {
   "cell_type": "code",
   "execution_count": 289,
   "metadata": {},
   "outputs": [
    {
     "name": "stdout",
     "output_type": "stream",
     "text": [
      "(1, 128, 128)\n"
     ]
    }
   ],
   "source": [
    "input_shape = (1,img_rows,img_col )\n",
    "print(input_shape)"
   ]
  },
  {
   "cell_type": "code",
   "execution_count": 290,
   "metadata": {},
   "outputs": [
    {
     "data": {
      "text/plain": [
       "(149, 128, 128)"
      ]
     },
     "execution_count": 290,
     "metadata": {},
     "output_type": "execute_result"
    }
   ],
   "source": [
    "image_array.shape"
   ]
  },
  {
   "cell_type": "code",
   "execution_count": 297,
   "metadata": {},
   "outputs": [],
   "source": [
    "model = Sequential()"
   ]
  },
  {
   "cell_type": "code",
   "execution_count": 298,
   "metadata": {},
   "outputs": [],
   "source": [
    "model.add(Convolution2D(32 , (3,3) ,input_shape = input_shape))\n",
    "model.add(Activation('relu'))\n",
    "model.add(Convolution2D(32,(3,3)))\n",
    "model.add(Activation('relu'))\n",
    "model.add(MaxPooling2D(pool_size=(2,2)))\n",
    "model.add(Dropout(0.25))"
   ]
  },
  {
   "cell_type": "code",
   "execution_count": 299,
   "metadata": {},
   "outputs": [],
   "source": [
    "model.add(Convolution2D(64,(3,3)))\n",
    "model.add(Activation('relu'))\n",
    "model.add(MaxPooling2D(pool_size=(2,2)))\n",
    "model.add(Dropout(0.25))"
   ]
  },
  {
   "cell_type": "code",
   "execution_count": 300,
   "metadata": {},
   "outputs": [],
   "source": [
    "model.add(Flatten())\n",
    "model.add(Dense(64))\n",
    "model.add(Activation('relu'))\n",
    "model.add(Dropout(0.5))\n",
    "model.add(Dense(num_classes))\n",
    "model.add(Activation('softmax'))"
   ]
  },
  {
   "cell_type": "code",
   "execution_count": 301,
   "metadata": {},
   "outputs": [],
   "source": [
    "model.compile(loss = 'categorical_crossentropy', optimizer='adadelta',metrics=[\"accuracy\"])"
   ]
  },
  {
   "cell_type": "code",
   "execution_count": 302,
   "metadata": {},
   "outputs": [
    {
     "name": "stdout",
     "output_type": "stream",
     "text": [
      "Epoch 1/15\n",
      "8/8 [==============================] - 21s 3s/step - loss: 1.0586 - acc: 0.5320\n",
      "Epoch 2/15\n",
      "8/8 [==============================] - 21s 3s/step - loss: 0.5713 - acc: 0.7232\n",
      "Epoch 3/15\n",
      "8/8 [==============================] - 24s 3s/step - loss: 0.5147 - acc: 0.7952\n",
      "Epoch 4/15\n",
      "8/8 [==============================] - 23s 3s/step - loss: 0.5509 - acc: 0.7931\n",
      "Epoch 5/15\n",
      "8/8 [==============================] - 22s 3s/step - loss: 0.5473 - acc: 0.7447\n",
      "Epoch 6/15\n",
      "8/8 [==============================] - 24s 3s/step - loss: 0.5312 - acc: 0.7537\n",
      "Epoch 7/15\n",
      "8/8 [==============================] - 23s 3s/step - loss: 0.5396 - acc: 0.7773\n",
      "Epoch 8/15\n",
      "8/8 [==============================] - 21s 3s/step - loss: 0.4591 - acc: 0.8188\n",
      "Epoch 9/15\n",
      "8/8 [==============================] - 20s 3s/step - loss: 0.5104 - acc: 0.8088\n",
      "Epoch 10/15\n",
      "8/8 [==============================] - 19s 2s/step - loss: 0.4292 - acc: 0.8099\n",
      "Epoch 11/15\n",
      "8/8 [==============================] - 19s 2s/step - loss: 0.4242 - acc: 0.8188\n",
      "Epoch 12/15\n",
      "8/8 [==============================] - 21s 3s/step - loss: 0.4801 - acc: 0.8009\n",
      "Epoch 13/15\n",
      "8/8 [==============================] - 20s 2s/step - loss: 0.5405 - acc: 0.7390\n",
      "Epoch 14/15\n",
      "8/8 [==============================] - 19s 2s/step - loss: 0.4642 - acc: 0.7941\n",
      "Epoch 15/15\n",
      "8/8 [==============================] - 20s 2s/step - loss: 0.4097 - acc: 0.8571\n"
     ]
    },
    {
     "data": {
      "text/plain": [
       "<keras.callbacks.History at 0x22e8d81ebe0>"
      ]
     },
     "execution_count": 302,
     "metadata": {},
     "output_type": "execute_result"
    }
   ],
   "source": [
    "#model.fit(X_train,y_tarin ,batch_size=16 ,epochs = 15 ,verbose =1 ,validation_data =(X_test,y_test))\n",
    "model.fit_generator(datagen.flow(X_train, y_train, batch_size=16),epochs=15)"
   ]
  },
  {
   "cell_type": "code",
   "execution_count": 303,
   "metadata": {},
   "outputs": [
    {
     "name": "stdout",
     "output_type": "stream",
     "text": [
      "Test Loss: 0.9461687207221985\n",
      "Test accuracy: 0.5333333611488342\n"
     ]
    }
   ],
   "source": [
    "score = model.evaluate(X_test, y_test, verbose=0)\n",
    "print('Test Loss:', score[0])\n",
    "print('Test accuracy:', score[1])"
   ]
  },
  {
   "cell_type": "code",
   "execution_count": 304,
   "metadata": {},
   "outputs": [
    {
     "name": "stdout",
     "output_type": "stream",
     "text": [
      "(2, 1, 128, 128)\n",
      "[[0.86155784 0.13844211]\n",
      " [0.8692552  0.13074487]]\n",
      "[0 0]\n",
      "[[1. 0.]\n",
      " [1. 0.]]\n"
     ]
    }
   ],
   "source": [
    "test_image = X_test[0:2]\n",
    "print (test_image.shape)\n",
    "\n",
    "print(model.predict(test_image))\n",
    "print(model.predict_classes(test_image))\n",
    "print(y_test[0:2])"
   ]
  },
  {
   "cell_type": "code",
   "execution_count": 305,
   "metadata": {},
   "outputs": [],
   "source": [
    "from sklearn.metrics import classification_report,confusion_matrix"
   ]
  },
  {
   "cell_type": "code",
   "execution_count": 306,
   "metadata": {},
   "outputs": [
    {
     "name": "stdout",
     "output_type": "stream",
     "text": [
      "[0 0 0 0 0 0 0 0 0 0 0 0 0 0 0 0 0 0 0 0 0 0 0 0 0 0 0 0 0 0]\n",
      "                 precision    recall  f1-score   support\n",
      "\n",
      "  class 0(maps)       0.53      1.00      0.70        16\n",
      "class 1(Sismic)       0.00      0.00      0.00        14\n",
      "\n",
      "    avg / total       0.28      0.53      0.37        30\n",
      "\n",
      "[[16  0]\n",
      " [14  0]]\n"
     ]
    },
    {
     "name": "stderr",
     "output_type": "stream",
     "text": [
      "C:\\Users\\DU357159\\AppData\\Local\\Continuum\\anaconda3\\lib\\site-packages\\sklearn\\metrics\\classification.py:1135: UndefinedMetricWarning: Precision and F-score are ill-defined and being set to 0.0 in labels with no predicted samples.\n",
      "  'precision', 'predicted', average, warn_for)\n"
     ]
    }
   ],
   "source": [
    "Y_pred = model.predict(X_test)\n",
    "\n",
    "y_pred = np.argmax(Y_pred, axis=1)\n",
    "print(y_pred)\n",
    "target_names = ['class 0(maps)', 'class 1(Sismic)']\n",
    "print(classification_report(np.argmax(y_test,axis=1), y_pred,target_names=target_names))\n",
    "\n",
    "print(confusion_matrix(np.argmax(y_test,axis=1), y_pred))"
   ]
  },
  {
   "cell_type": "code",
   "execution_count": null,
   "metadata": {},
   "outputs": [],
   "source": []
  },
  {
   "cell_type": "code",
   "execution_count": null,
   "metadata": {},
   "outputs": [],
   "source": []
  }
 ],
 "metadata": {
  "kernelspec": {
   "display_name": "Python 3",
   "language": "python",
   "name": "python3"
  },
  "language_info": {
   "codemirror_mode": {
    "name": "ipython",
    "version": 3
   },
   "file_extension": ".py",
   "mimetype": "text/x-python",
   "name": "python",
   "nbconvert_exporter": "python",
   "pygments_lexer": "ipython3",
   "version": "3.6.4"
  }
 },
 "nbformat": 4,
 "nbformat_minor": 2
}
